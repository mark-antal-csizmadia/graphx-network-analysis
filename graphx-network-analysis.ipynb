{
 "cells": [
  {
   "cell_type": "markdown",
   "metadata": {},
   "source": [
    "## Imports"
   ]
  },
  {
   "cell_type": "code",
   "execution_count": 1,
   "metadata": {},
   "outputs": [],
   "source": [
    "import findspark\n",
    "findspark.init()\n",
    "\n",
    "from pyspark import *\n",
    "from pyspark.sql.functions import desc, col\n",
    "from pyspark.sql import *\n",
    "from graphframes import *\n",
    "\n",
    "import os\n",
    "from IPython.display import display, HTML\n",
    "from src.graph_algorithms import JaccardSimilarity, LabelPropagationAlgorithm\n",
    "from src.data_utils import read_data, read_meta\n",
    "from src.viz_utils import plot_graph, plot_n_nodes_vs_degree"
   ]
  },
  {
   "cell_type": "markdown",
   "metadata": {},
   "source": [
    "Auto-reload changes in py scripts."
   ]
  },
  {
   "cell_type": "code",
   "execution_count": 2,
   "metadata": {},
   "outputs": [],
   "source": [
    "%load_ext autoreload\n",
    "%autoreload 2"
   ]
  },
  {
   "cell_type": "markdown",
   "metadata": {},
   "source": [
    "Need to pass graphframes package to Spark, not pip."
   ]
  },
  {
   "cell_type": "code",
   "execution_count": 3,
   "metadata": {},
   "outputs": [],
   "source": [
    "# https://graphframes.github.io/graphframes/docs/_site/quick-start.html\n",
    "# https://stackoverflow.com/questions/65011599/how-to-start-graphframes-on-spark-on-pyspark-on-juypter-on-docker\n",
    "os.environ['PYSPARK_SUBMIT_ARGS'] = '--packages graphframes:graphframes:0.8.1-spark3.0-s_2.12 pyspark-shell'"
   ]
  },
  {
   "cell_type": "markdown",
   "metadata": {},
   "source": [
    "## Setup, Download and Read Data"
   ]
  },
  {
   "cell_type": "markdown",
   "metadata": {},
   "source": [
    "Start Spark context."
   ]
  },
  {
   "cell_type": "code",
   "execution_count": 4,
   "metadata": {},
   "outputs": [
    {
     "name": "stderr",
     "output_type": "stream",
     "text": [
      "21/10/21 21:45:33 WARN Utils: Your hostname, mark-machine resolves to a loopback address: 127.0.1.1; using 192.168.0.102 instead (on interface wlp8s0)\n",
      "21/10/21 21:45:33 WARN Utils: Set SPARK_LOCAL_IP if you need to bind to another address\n"
     ]
    },
    {
     "name": "stdout",
     "output_type": "stream",
     "text": [
      ":: loading settings :: url = jar:file:/opt/spark/jars/ivy-2.4.0.jar!/org/apache/ivy/core/settings/ivysettings.xml\n"
     ]
    },
    {
     "name": "stderr",
     "output_type": "stream",
     "text": [
      "Ivy Default Cache set to: /home/mark/.ivy2/cache\n",
      "The jars for the packages stored in: /home/mark/.ivy2/jars\n",
      "graphframes#graphframes added as a dependency\n",
      ":: resolving dependencies :: org.apache.spark#spark-submit-parent-c3c45e55-fa3f-4283-898b-7862070a2f3d;1.0\n",
      "\tconfs: [default]\n",
      "\tfound graphframes#graphframes;0.8.1-spark3.0-s_2.12 in spark-packages\n",
      "\tfound org.slf4j#slf4j-api;1.7.16 in central\n",
      ":: resolution report :: resolve 117ms :: artifacts dl 3ms\n",
      "\t:: modules in use:\n",
      "\tgraphframes#graphframes;0.8.1-spark3.0-s_2.12 from spark-packages in [default]\n",
      "\torg.slf4j#slf4j-api;1.7.16 from central in [default]\n",
      "\t---------------------------------------------------------------------\n",
      "\t|                  |            modules            ||   artifacts   |\n",
      "\t|       conf       | number| search|dwnlded|evicted|| number|dwnlded|\n",
      "\t---------------------------------------------------------------------\n",
      "\t|      default     |   2   |   0   |   0   |   0   ||   2   |   0   |\n",
      "\t---------------------------------------------------------------------\n",
      ":: retrieving :: org.apache.spark#spark-submit-parent-c3c45e55-fa3f-4283-898b-7862070a2f3d\n",
      "\tconfs: [default]\n",
      "\t0 artifacts copied, 2 already retrieved (0kB/6ms)\n",
      "21/10/21 21:45:33 WARN NativeCodeLoader: Unable to load native-hadoop library for your platform... using builtin-java classes where applicable\n",
      "Using Spark's default log4j profile: org/apache/spark/log4j-defaults.properties\n",
      "Setting default log level to \"WARN\".\n",
      "To adjust logging level use sc.setLogLevel(newLevel). For SparkR, use setLogLevel(newLevel).\n"
     ]
    }
   ],
   "source": [
    "spark = SparkSession.builder.appName('graphx-network-analysis').getOrCreate()"
   ]
  },
  {
   "cell_type": "markdown",
   "metadata": {},
   "source": [
    "Download data.\n",
    "\n",
    "Product co-purchasing networks by Amazon, availabel at http://snap.stanford.edu/data/#amazon\n",
    "\n",
    "Directed edges in amazon0302, and meta-data in amazon-meta."
   ]
  },
  {
   "cell_type": "code",
   "execution_count": 5,
   "metadata": {},
   "outputs": [
    {
     "name": "stdout",
     "output_type": "stream",
     "text": [
      "./data/amazon0302.txt.gz exists, skipping\n",
      "./data/amazon-meta.txt.gz exists, skipping\n"
     ]
    }
   ],
   "source": [
    "%%bash\n",
    "file=./data/amazon0302.txt.gz\n",
    "file_meta=./data/amazon-meta.txt.gz\n",
    "\n",
    "if [ -e \"$file\" ]; then\n",
    "    echo \"$file exists, skipping\"\n",
    "else \n",
    "    echo \"$file does not exist, using wget to download it\"\n",
    "    wget http://snap.stanford.edu/data/amazon0302.txt.gz -P data/\n",
    "    gzip -dkfv $file\n",
    "fi\n",
    "\n",
    "if [ -e \"$file_meta\" ]; then\n",
    "    echo \"$file_meta exists, skipping\"\n",
    "else \n",
    "    echo \"$file_meta does not exist, using wget to download it\"\n",
    "    wget http://snap.stanford.edu/data/amazon0302.txt.gz -P data/\n",
    "    gzip -dkfv $file_meta\n",
    "fi"
   ]
  },
  {
   "cell_type": "markdown",
   "metadata": {},
   "source": [
    "Read data, and build Pandas DataFrames for vertices, edges, and meta-data."
   ]
  },
  {
   "cell_type": "code",
   "execution_count": 6,
   "metadata": {},
   "outputs": [
    {
     "name": "stdout",
     "output_type": "stream",
     "text": [
      "100%|█████████████████████████████████████████████████████████████████████████████████████████████████████████████████████████████████████████████████████▉| 15010569/15010572 [00:15<00:00, 994562.72it/s]\n"
     ]
    },
    {
     "data": {
      "text/html": [
       "<table border=\"1\" class=\"dataframe\">\n",
       "  <thead>\n",
       "    <tr style=\"text-align: right;\">\n",
       "      <th></th>\n",
       "      <th>src</th>\n",
       "      <th>dst</th>\n",
       "    </tr>\n",
       "  </thead>\n",
       "  <tbody>\n",
       "    <tr>\n",
       "      <th>0</th>\n",
       "      <td>0</td>\n",
       "      <td>1</td>\n",
       "    </tr>\n",
       "    <tr>\n",
       "      <th>1</th>\n",
       "      <td>0</td>\n",
       "      <td>2</td>\n",
       "    </tr>\n",
       "    <tr>\n",
       "      <th>2</th>\n",
       "      <td>0</td>\n",
       "      <td>3</td>\n",
       "    </tr>\n",
       "    <tr>\n",
       "      <th>3</th>\n",
       "      <td>0</td>\n",
       "      <td>4</td>\n",
       "    </tr>\n",
       "    <tr>\n",
       "      <th>4</th>\n",
       "      <td>0</td>\n",
       "      <td>5</td>\n",
       "    </tr>\n",
       "    <tr>\n",
       "      <th>5</th>\n",
       "      <td>1</td>\n",
       "      <td>0</td>\n",
       "    </tr>\n",
       "    <tr>\n",
       "      <th>6</th>\n",
       "      <td>1</td>\n",
       "      <td>2</td>\n",
       "    </tr>\n",
       "    <tr>\n",
       "      <th>7</th>\n",
       "      <td>1</td>\n",
       "      <td>4</td>\n",
       "    </tr>\n",
       "    <tr>\n",
       "      <th>8</th>\n",
       "      <td>1</td>\n",
       "      <td>5</td>\n",
       "    </tr>\n",
       "    <tr>\n",
       "      <th>9</th>\n",
       "      <td>1</td>\n",
       "      <td>15</td>\n",
       "    </tr>\n",
       "  </tbody>\n",
       "</table>"
      ],
      "text/plain": [
       "<IPython.core.display.HTML object>"
      ]
     },
     "metadata": {},
     "output_type": "display_data"
    },
    {
     "data": {
      "text/html": [
       "<table border=\"1\" class=\"dataframe\">\n",
       "  <thead>\n",
       "    <tr style=\"text-align: right;\">\n",
       "      <th></th>\n",
       "      <th>id</th>\n",
       "    </tr>\n",
       "  </thead>\n",
       "  <tbody>\n",
       "    <tr>\n",
       "      <th>0</th>\n",
       "      <td>0</td>\n",
       "    </tr>\n",
       "    <tr>\n",
       "      <th>1</th>\n",
       "      <td>1</td>\n",
       "    </tr>\n",
       "    <tr>\n",
       "      <th>2</th>\n",
       "      <td>2</td>\n",
       "    </tr>\n",
       "    <tr>\n",
       "      <th>3</th>\n",
       "      <td>3</td>\n",
       "    </tr>\n",
       "    <tr>\n",
       "      <th>4</th>\n",
       "      <td>4</td>\n",
       "    </tr>\n",
       "    <tr>\n",
       "      <th>5</th>\n",
       "      <td>5</td>\n",
       "    </tr>\n",
       "    <tr>\n",
       "      <th>6</th>\n",
       "      <td>6</td>\n",
       "    </tr>\n",
       "    <tr>\n",
       "      <th>7</th>\n",
       "      <td>7</td>\n",
       "    </tr>\n",
       "    <tr>\n",
       "      <th>8</th>\n",
       "      <td>8</td>\n",
       "    </tr>\n",
       "    <tr>\n",
       "      <th>9</th>\n",
       "      <td>9</td>\n",
       "    </tr>\n",
       "  </tbody>\n",
       "</table>"
      ],
      "text/plain": [
       "<IPython.core.display.HTML object>"
      ]
     },
     "metadata": {},
     "output_type": "display_data"
    },
    {
     "data": {
      "text/html": [
       "<table border=\"1\" class=\"dataframe\">\n",
       "  <thead>\n",
       "    <tr style=\"text-align: right;\">\n",
       "      <th></th>\n",
       "      <th>id</th>\n",
       "      <th>title</th>\n",
       "      <th>group</th>\n",
       "      <th>salesrank</th>\n",
       "      <th>reviews</th>\n",
       "    </tr>\n",
       "  </thead>\n",
       "  <tbody>\n",
       "    <tr>\n",
       "      <th>0</th>\n",
       "      <td>1</td>\n",
       "      <td>Patterns of Preaching: A Sermon Sampler</td>\n",
       "      <td>book</td>\n",
       "      <td>396585</td>\n",
       "      <td>5.0</td>\n",
       "    </tr>\n",
       "    <tr>\n",
       "      <th>1</th>\n",
       "      <td>2</td>\n",
       "      <td>Candlemas: Feast of Flames</td>\n",
       "      <td>book</td>\n",
       "      <td>168596</td>\n",
       "      <td>4.5</td>\n",
       "    </tr>\n",
       "    <tr>\n",
       "      <th>2</th>\n",
       "      <td>3</td>\n",
       "      <td>World War II Allied Fighter Planes Trading Cards</td>\n",
       "      <td>book</td>\n",
       "      <td>1270652</td>\n",
       "      <td>5.0</td>\n",
       "    </tr>\n",
       "    <tr>\n",
       "      <th>3</th>\n",
       "      <td>4</td>\n",
       "      <td>Life Application Bible Commentary: 1 and 2 Timothy and Titus</td>\n",
       "      <td>book</td>\n",
       "      <td>631289</td>\n",
       "      <td>4.0</td>\n",
       "    </tr>\n",
       "    <tr>\n",
       "      <th>4</th>\n",
       "      <td>5</td>\n",
       "      <td>Prayers That Avail Much for Business: Executive</td>\n",
       "      <td>book</td>\n",
       "      <td>455160</td>\n",
       "      <td>0.0</td>\n",
       "    </tr>\n",
       "    <tr>\n",
       "      <th>5</th>\n",
       "      <td>6</td>\n",
       "      <td>How the Other Half Lives: Studies Among the Tenements of New York</td>\n",
       "      <td>book</td>\n",
       "      <td>188784</td>\n",
       "      <td>4.0</td>\n",
       "    </tr>\n",
       "    <tr>\n",
       "      <th>6</th>\n",
       "      <td>7</td>\n",
       "      <td>Batik</td>\n",
       "      <td>music</td>\n",
       "      <td>5392</td>\n",
       "      <td>4.5</td>\n",
       "    </tr>\n",
       "    <tr>\n",
       "      <th>7</th>\n",
       "      <td>8</td>\n",
       "      <td>Losing Matt Shepard</td>\n",
       "      <td>book</td>\n",
       "      <td>277409</td>\n",
       "      <td>4.5</td>\n",
       "    </tr>\n",
       "    <tr>\n",
       "      <th>8</th>\n",
       "      <td>9</td>\n",
       "      <td>Making Bread: The Taste of Traditional Home-Baking</td>\n",
       "      <td>book</td>\n",
       "      <td>949166</td>\n",
       "      <td>0.0</td>\n",
       "    </tr>\n",
       "    <tr>\n",
       "      <th>9</th>\n",
       "      <td>10</td>\n",
       "      <td>The Edward Said Reader</td>\n",
       "      <td>book</td>\n",
       "      <td>220379</td>\n",
       "      <td>4.0</td>\n",
       "    </tr>\n",
       "  </tbody>\n",
       "</table>"
      ],
      "text/plain": [
       "<IPython.core.display.HTML object>"
      ]
     },
     "metadata": {},
     "output_type": "display_data"
    }
   ],
   "source": [
    "df_edges, df_vertices_no_meta = read_data(from_file_name=\"data/amazon0302.txt\")\n",
    "df_meta = read_meta(from_file_name=\"data/amazon-meta.txt\")\n",
    "\n",
    "display(HTML(df_edges.head(10).to_html()))\n",
    "display(HTML(df_vertices_no_meta.head(10).to_html()))\n",
    "display(HTML(df_meta.head(10).to_html()))"
   ]
  },
  {
   "cell_type": "markdown",
   "metadata": {},
   "source": [
    "## Building the Graph: From Pandas to GraphFrames"
   ]
  },
  {
   "cell_type": "markdown",
   "metadata": {},
   "source": [
    "Convert Pandas DataFrames to Spark DataFrames."
   ]
  },
  {
   "cell_type": "code",
   "execution_count": 7,
   "metadata": {},
   "outputs": [],
   "source": [
    "# could take 1 min\n",
    "vertices_no_meta = spark.createDataFrame(df_vertices_no_meta, list(df_vertices_no_meta.columns.values))\n",
    "edges = spark.createDataFrame(df_edges, list(df_edges.columns.values))\n",
    "meta = spark.createDataFrame(df_meta, list(df_meta.columns.values))"
   ]
  },
  {
   "cell_type": "markdown",
   "metadata": {},
   "source": [
    "Inner join no-meta vertices table with meta-data table on id."
   ]
  },
  {
   "cell_type": "code",
   "execution_count": 8,
   "metadata": {},
   "outputs": [
    {
     "name": "stderr",
     "output_type": "stream",
     "text": [
      "21/10/21 21:46:29 WARN TaskSetManager: Stage 0 contains a task of very large size (4915 KiB). The maximum recommended task size is 1000 KiB.\n",
      "[Stage 1:===================================================>       (7 + 1) / 8]\r"
     ]
    },
    {
     "name": "stdout",
     "output_type": "stream",
     "text": [
      "+----+--------------------+-----+---------+-------+\n",
      "|  id|               title|group|salesrank|reviews|\n",
      "+----+--------------------+-----+---------+-------+\n",
      "|  26|      Chicken Little| book|   242571|    4.0|\n",
      "|  29|Advanced Pediatri...| book|   677416|    0.0|\n",
      "| 474|Bad Aboriginal Ar...| book|   714825|    5.0|\n",
      "| 964|Outsmarting the S...| book|   536872|    4.5|\n",
      "|1677|Robert Louis Stev...|  dvd|    26035|    4.0|\n",
      "|1697|Experiences in Mo...| book|   695386|    0.0|\n",
      "|1806|Black Stallion an...| book|    71706|    5.0|\n",
      "|1950|Applied Blood Gro...| book|   985020|    5.0|\n",
      "|2040|The Minority Repo...| book|   326911|    4.5|\n",
      "|2214|The Arts of the S...| book|   923205|    4.0|\n",
      "|2250|         Yummy Yummy|music|   170306|    4.5|\n",
      "|2453|  Gourmet Paris 2002| book|   900117|    5.0|\n",
      "|2509|Girls, Delinquenc...| book|   559169|    5.0|\n",
      "|2529|When You look Lik...| book|   667405|    5.0|\n",
      "|2927|The Art of Outdoo...| book|   299959|    4.5|\n",
      "|3091|Blue Moon Cat: Li...|music|   379772|    2.0|\n",
      "|3506|Fire on the Beach...| book|   578290|    4.0|\n",
      "|3764|English and Itali...|music|    62300|    4.0|\n",
      "|4590|Must There Be Sca...| book|   530330|    0.0|\n",
      "|4823|Upgrading and Rep...| book|   942038|    4.0|\n",
      "+----+--------------------+-----+---------+-------+\n",
      "only showing top 20 rows\n",
      "\n"
     ]
    },
    {
     "name": "stderr",
     "output_type": "stream",
     "text": [
      "\r",
      "                                                                                \r"
     ]
    }
   ],
   "source": [
    "vertices = \\\n",
    "    vertices_no_meta.\\\n",
    "    join(meta, vertices_no_meta[\"id\"] == meta[\"id\"], \"inner\").\\\n",
    "    drop(meta.id)\n",
    "\n",
    "vertices.show()"
   ]
  },
  {
   "cell_type": "markdown",
   "metadata": {},
   "source": [
    "Build GraphFrames graph from vertices and edges."
   ]
  },
  {
   "cell_type": "code",
   "execution_count": 9,
   "metadata": {},
   "outputs": [
    {
     "name": "stderr",
     "output_type": "stream",
     "text": [
      "21/10/21 21:46:31 WARN TaskSetManager: Stage 3 contains a task of very large size (4915 KiB). The maximum recommended task size is 1000 KiB.\n",
      "21/10/21 21:46:33 WARN TaskSetManager: Stage 6 contains a task of very large size (1204 KiB). The maximum recommended task size is 1000 KiB.\n"
     ]
    },
    {
     "name": "stdout",
     "output_type": "stream",
     "text": [
      "+----+--------------------+-----+---------+-------+\n",
      "|  id|               title|group|salesrank|reviews|\n",
      "+----+--------------------+-----+---------+-------+\n",
      "|  26|      Chicken Little| book|   242571|    4.0|\n",
      "|  29|Advanced Pediatri...| book|   677416|    0.0|\n",
      "| 474|Bad Aboriginal Ar...| book|   714825|    5.0|\n",
      "| 964|Outsmarting the S...| book|   536872|    4.5|\n",
      "|1677|Robert Louis Stev...|  dvd|    26035|    4.0|\n",
      "|1697|Experiences in Mo...| book|   695386|    0.0|\n",
      "|1806|Black Stallion an...| book|    71706|    5.0|\n",
      "|1950|Applied Blood Gro...| book|   985020|    5.0|\n",
      "|2040|The Minority Repo...| book|   326911|    4.5|\n",
      "|2214|The Arts of the S...| book|   923205|    4.0|\n",
      "|2250|         Yummy Yummy|music|   170306|    4.5|\n",
      "|2453|  Gourmet Paris 2002| book|   900117|    5.0|\n",
      "|2509|Girls, Delinquenc...| book|   559169|    5.0|\n",
      "|2529|When You look Lik...| book|   667405|    5.0|\n",
      "|2927|The Art of Outdoo...| book|   299959|    4.5|\n",
      "|3091|Blue Moon Cat: Li...|music|   379772|    2.0|\n",
      "|3506|Fire on the Beach...| book|   578290|    4.0|\n",
      "|3764|English and Itali...|music|    62300|    4.0|\n",
      "|4590|Must There Be Sca...| book|   530330|    0.0|\n",
      "|4823|Upgrading and Rep...| book|   942038|    4.0|\n",
      "+----+--------------------+-----+---------+-------+\n",
      "only showing top 20 rows\n",
      "\n",
      "+---+---+\n",
      "|src|dst|\n",
      "+---+---+\n",
      "|  0|  1|\n",
      "|  0|  2|\n",
      "|  0|  3|\n",
      "|  0|  4|\n",
      "|  0|  5|\n",
      "|  1|  0|\n",
      "|  1|  2|\n",
      "|  1|  4|\n",
      "|  1|  5|\n",
      "|  1| 15|\n",
      "|  2|  0|\n",
      "|  2| 11|\n",
      "|  2| 12|\n",
      "|  2| 13|\n",
      "|  2| 14|\n",
      "|  3| 63|\n",
      "|  3| 64|\n",
      "|  3| 65|\n",
      "|  3| 66|\n",
      "|  3| 67|\n",
      "+---+---+\n",
      "only showing top 20 rows\n",
      "\n"
     ]
    },
    {
     "name": "stderr",
     "output_type": "stream",
     "text": [
      "21/10/21 21:46:33 WARN TaskSetManager: Stage 7 contains a task of very large size (4915 KiB). The maximum recommended task size is 1000 KiB.\n",
      "21/10/21 21:46:35 WARN TaskSetManager: Stage 11 contains a task of very large size (1204 KiB). The maximum recommended task size is 1000 KiB.\n"
     ]
    },
    {
     "name": "stdout",
     "output_type": "stream",
     "text": [
      "g.vertices.shape = (259168, 5)\n",
      "g.edges.shape = (1234877, 2)\n"
     ]
    }
   ],
   "source": [
    "g = GraphFrame(vertices, edges)\n",
    "\n",
    "g.vertices.show()\n",
    "g.edges.show()\n",
    "\n",
    "print(f\"g.vertices.shape = {g.vertices.count(), len(g.vertices.columns)}\")\n",
    "print(f\"g.edges.shape = {g.edges.count(), len(g.edges.columns)}\")"
   ]
  },
  {
   "cell_type": "markdown",
   "metadata": {},
   "source": [
    "## ## Qualitative Graph Analysis: Graph Visualization and Degree Plots"
   ]
  },
  {
   "cell_type": "code",
   "execution_count": 10,
   "metadata": {},
   "outputs": [
    {
     "name": "stderr",
     "output_type": "stream",
     "text": [
      "21/10/21 21:46:35 WARN TaskSetManager: Stage 13 contains a task of very large size (1204 KiB). The maximum recommended task size is 1000 KiB.\n"
     ]
    },
    {
     "data": {
      "image/png": "[encoded data removed]",
      "text/plain": [
       "<Figure size 2160x1080 with 1 Axes>"
      ]
     },
     "metadata": {},
     "output_type": "display_data"
    }
   ],
   "source": [
    "take_n = 200\n",
    "path_fig = f\"assets/graph_viz_n_{take_n}.png\"\n",
    "plot_graph(g.edges, path_fig=path_fig, take_n=take_n)"
   ]
  },
  {
   "cell_type": "markdown",
   "metadata": {},
   "source": [
    "The ratio between the in and out degrees is the degree ratio. A higher ratio value will tell us where many purchases end (but rarely begin), while a lower value tells us where purchases often begin (but infrequently end)."
   ]
  },
  {
   "cell_type": "code",
   "execution_count": 11,
   "metadata": {},
   "outputs": [
    {
     "name": "stderr",
     "output_type": "stream",
     "text": [
      "21/10/21 21:46:38 WARN TaskSetManager: Stage 14 contains a task of very large size (1204 KiB). The maximum recommended task size is 1000 KiB.\n",
      "21/10/21 21:46:39 WARN TaskSetManager: Stage 15 contains a task of very large size (1204 KiB). The maximum recommended task size is 1000 KiB.\n",
      "[Stage 16:==========================================>           (157 + 8) / 200]\r"
     ]
    },
    {
     "name": "stdout",
     "output_type": "stream",
     "text": [
      "+-----+-----------+\n",
      "|   id|degreeRatio|\n",
      "+-----+-----------+\n",
      "|14949|       84.0|\n",
      "| 4429|       80.8|\n",
      "|   33|       72.2|\n",
      "|10519|       66.8|\n",
      "|12771|       66.0|\n",
      "|    8|       58.6|\n",
      "| 3910|       55.0|\n",
      "|  481|       55.0|\n",
      "| 5737|       54.4|\n",
      "| 9106|       45.4|\n",
      "+-----+-----------+\n",
      "only showing top 10 rows\n",
      "\n"
     ]
    },
    {
     "name": "stderr",
     "output_type": "stream",
     "text": [
      "\r",
      "                                                                                \r"
     ]
    }
   ],
   "source": [
    "degree_ratio_df = g.inDegrees.join(g.outDegrees, \"id\", \"outer\").selectExpr(\"id\", \"double(inDegree)/double(outDegree) as degreeRatio\")\n",
    "degree_ratio_df.orderBy(desc(\"degreeRatio\")).show(10)"
   ]
  },
  {
   "cell_type": "code",
   "execution_count": 12,
   "metadata": {},
   "outputs": [
    {
     "name": "stderr",
     "output_type": "stream",
     "text": [
      "21/10/21 21:46:41 WARN TaskSetManager: Stage 17 contains a task of very large size (1204 KiB). The maximum recommended task size is 1000 KiB.\n",
      "21/10/21 21:46:41 WARN TaskSetManager: Stage 18 contains a task of very large size (1204 KiB). The maximum recommended task size is 1000 KiB.\n",
      "21/10/21 21:46:42 WARN TaskSetManager: Stage 20 contains a task of very large size (1204 KiB). The maximum recommended task size is 1000 KiB.\n",
      "[Stage 22:================================================>    (183 + 11) / 200]\r"
     ]
    },
    {
     "name": "stdout",
     "output_type": "stream",
     "text": [
      "+-----+------+--------+---------+-----------+\n",
      "|   id|degree|inDegree|outDegree|degreeRatio|\n",
      "+-----+------+--------+---------+-----------+\n",
      "|14949|   425|     420|        5|       84.0|\n",
      "| 4429|   409|     404|        5|       80.8|\n",
      "|   33|   366|     361|        5|       72.2|\n",
      "|10519|   339|     334|        5|       66.8|\n",
      "|12771|   335|     330|        5|       66.0|\n",
      "|    8|   298|     293|        5|       58.6|\n",
      "|  481|   280|     275|        5|       55.0|\n",
      "|  297|   280|     280|        0|        0.0|\n",
      "| 5737|   277|     272|        5|       54.4|\n",
      "| 9106|   232|     227|        5|       45.4|\n",
      "| 8939|   226|     221|        5|       44.2|\n",
      "|   93|   224|     219|        5|       43.8|\n",
      "| 1241|   223|     218|        5|       43.6|\n",
      "| 5765|   214|     209|        5|       41.8|\n",
      "| 2501|   196|     191|        5|       38.2|\n",
      "|   99|   193|     188|        5|       37.6|\n",
      "| 3661|   186|     181|        5|       36.2|\n",
      "| 2353|   184|     179|        5|       35.8|\n",
      "|  244|   184|     179|        5|       35.8|\n",
      "|17525|   180|     175|        5|       35.0|\n",
      "+-----+------+--------+---------+-----------+\n",
      "only showing top 20 rows\n",
      "\n"
     ]
    },
    {
     "name": "stderr",
     "output_type": "stream",
     "text": [
      "\r",
      "[Stage 23:==============================================>       (172 + 9) / 200]\r",
      "\r",
      "                                                                                \r"
     ]
    }
   ],
   "source": [
    "degrees_df = \\\n",
    "    g.degrees.\\\n",
    "    join(g.inDegrees, \"id\", \"outer\").\\\n",
    "    join(g.outDegrees, \"id\", \"outer\").\\\n",
    "    join(degree_ratio_df, \"id\", \"outer\").\\\n",
    "    drop(g.outDegrees.id).\\\n",
    "    drop(g.inDegrees.id).\\\n",
    "    drop(degree_ratio_df.id).\\\n",
    "    na.fill(0)\n",
    "\n",
    "degrees_df.sort(desc(\"degree\")).show()"
   ]
  },
  {
   "cell_type": "code",
   "execution_count": 13,
   "metadata": {},
   "outputs": [
    {
     "name": "stderr",
     "output_type": "stream",
     "text": [
      "21/10/21 21:46:46 WARN TaskSetManager: Stage 24 contains a task of very large size (1204 KiB). The maximum recommended task size is 1000 KiB.\n",
      "21/10/21 21:46:47 WARN TaskSetManager: Stage 25 contains a task of very large size (1204 KiB). The maximum recommended task size is 1000 KiB.\n",
      "21/10/21 21:46:47 WARN TaskSetManager: Stage 27 contains a task of very large size (1204 KiB). The maximum recommended task size is 1000 KiB.\n",
      "21/10/21 21:46:52 WARN TaskSetManager: Stage 31 contains a task of very large size (1204 KiB). The maximum recommended task size is 1000 KiB.\n",
      "21/10/21 21:46:53 WARN TaskSetManager: Stage 32 contains a task of very large size (1204 KiB). The maximum recommended task size is 1000 KiB.\n",
      "21/10/21 21:46:53 WARN TaskSetManager: Stage 34 contains a task of very large size (1204 KiB). The maximum recommended task size is 1000 KiB.\n",
      "21/10/21 21:46:55 WARN TaskSetManager: Stage 35 contains a task of very large size (1204 KiB). The maximum recommended task size is 1000 KiB.\n",
      "21/10/21 21:46:59 WARN TaskSetManager: Stage 39 contains a task of very large size (1204 KiB). The maximum recommended task size is 1000 KiB.\n",
      "21/10/21 21:46:59 WARN TaskSetManager: Stage 40 contains a task of very large size (1204 KiB). The maximum recommended task size is 1000 KiB.\n",
      "21/10/21 21:47:00 WARN TaskSetManager: Stage 42 contains a task of very large size (1204 KiB). The maximum recommended task size is 1000 KiB.\n",
      "21/10/21 21:47:00 WARN TaskSetManager: Stage 44 contains a task of very large size (1204 KiB). The maximum recommended task size is 1000 KiB.\n",
      "                                                                                \r"
     ]
    }
   ],
   "source": [
    "# Convert degree GraphFrames to lists for plotting.\n",
    "degrees_list = [int(d.degree) for d in degrees_df.select('degree').collect()]\n",
    "in_degree_list = [int(d.inDegree) for d in degrees_df.select('inDegree').collect()]\n",
    "out_degree_list = [int(d.outDegree) for d in degrees_df.select('outDegree').collect()]"
   ]
  },
  {
   "cell_type": "code",
   "execution_count": 14,
   "metadata": {},
   "outputs": [
    {
     "data": {
      "image/png": "[encoded data removed]",
      "text/plain": [
       "<Figure size 720x360 with 1 Axes>"
      ]
     },
     "metadata": {
      "needs_background": "light"
     },
     "output_type": "display_data"
    }
   ],
   "source": [
    "x = degrees_list\n",
    "n_bins = 200\n",
    "x_step = 20\n",
    "yscale = \"log\"\n",
    "ylabel = \"Number of Nodes on log-scale [unit]\"\n",
    "xlabel = \"Node Degree [unit]\"\n",
    "title = \"Number of Nodes vs. Node Degree\"\n",
    "save_path = \"assets/n_nodes_vs_degree.png\"\n",
    "\n",
    "plot_n_nodes_vs_degree(\n",
    "    x=x, \n",
    "    n_bins=n_bins, \n",
    "    x_step=x_step,\n",
    "    yscale=yscale,\n",
    "    ylabel=ylabel, \n",
    "    xlabel=xlabel, \n",
    "    title=title, \n",
    "    save_path=save_path)"
   ]
  },
  {
   "cell_type": "code",
   "execution_count": 15,
   "metadata": {},
   "outputs": [
    {
     "data": {
      "image/png": "[encoded data removed]",
      "text/plain": [
       "<Figure size 720x360 with 1 Axes>"
      ]
     },
     "metadata": {
      "needs_background": "light"
     },
     "output_type": "display_data"
    }
   ],
   "source": [
    "x = in_degree_list\n",
    "n_bins = 200\n",
    "x_step = 20\n",
    "yscale = \"log\"\n",
    "ylabel = \"Number of Nodes on log-scale [unit]\"\n",
    "xlabel = \"Node In-Degree [unit]\"\n",
    "title = \"Number of Nodes vs. Node In-Degree\"\n",
    "save_path = \"assets/n_nodes_vs_in_degree.png\"\n",
    "\n",
    "plot_n_nodes_vs_degree(\n",
    "    x=x, \n",
    "    n_bins=n_bins, \n",
    "    x_step=x_step,\n",
    "    yscale=yscale,\n",
    "    ylabel=ylabel, \n",
    "    xlabel=xlabel, \n",
    "    title=title, \n",
    "    save_path=save_path)"
   ]
  },
  {
   "cell_type": "code",
   "execution_count": 16,
   "metadata": {},
   "outputs": [
    {
     "data": {
      "image/png": "[encoded data removed]",
      "text/plain": [
       "<Figure size 720x360 with 1 Axes>"
      ]
     },
     "metadata": {
      "needs_background": "light"
     },
     "output_type": "display_data"
    }
   ],
   "source": [
    "x = out_degree_list\n",
    "n_bins = 20\n",
    "x_step = 1\n",
    "yscale = \"linear\"\n",
    "ylabel = \"Number of Nodes on log-scale [unit]\"\n",
    "xlabel = \"Node Out-Degree [unit]\"\n",
    "title = \"Number of Nodes vs. Node Out-Degree\"\n",
    "save_path = \"assets/n_nodes_vs_out_degree.png\"\n",
    "\n",
    "plot_n_nodes_vs_degree(\n",
    "    x=x, \n",
    "    n_bins=n_bins, \n",
    "    x_step=x_step,\n",
    "    yscale=yscale,\n",
    "    ylabel=ylabel, \n",
    "    xlabel=xlabel, \n",
    "    title=title, \n",
    "    save_path=save_path)"
   ]
  },
  {
   "cell_type": "markdown",
   "metadata": {},
   "source": [
    "## Quantitative Graph Analysis: Motifs, Triangles, PageRank, Label Propagation, and Jaccard Similarity"
   ]
  },
  {
   "cell_type": "markdown",
   "metadata": {},
   "source": [
    "### Motif Finding"
   ]
  },
  {
   "cell_type": "markdown",
   "metadata": {},
   "source": [
    "Use  GraphFrames motifs (sort of reg-ex on graphs) to find mutually co-purchased products, i.e.:  a<->mutual<->c node structure"
   ]
  },
  {
   "cell_type": "code",
   "execution_count": 17,
   "metadata": {},
   "outputs": [
    {
     "name": "stderr",
     "output_type": "stream",
     "text": [
      "21/10/21 21:47:08 WARN TaskSetManager: Stage 58 contains a task of very large size (1204 KiB). The maximum recommended task size is 1000 KiB.\n",
      "21/10/21 21:47:09 WARN TaskSetManager: Stage 48 contains a task of very large size (4915 KiB). The maximum recommended task size is 1000 KiB.\n",
      "21/10/21 21:47:10 WARN TaskSetManager: Stage 49 contains a task of very large size (1204 KiB). The maximum recommended task size is 1000 KiB.\n",
      "21/10/21 21:47:14 WARN TaskSetManager: Stage 53 contains a task of very large size (1204 KiB). The maximum recommended task size is 1000 KiB.\n",
      "21/10/21 21:47:19 WARN TaskSetManager: Stage 56 contains a task of very large size (1204 KiB). The maximum recommended task size is 1000 KiB.\n",
      "[Stage 60:=================================================>    (185 + 8) / 200]\r"
     ]
    },
    {
     "name": "stdout",
     "output_type": "stream",
     "text": [
      "+--------------------+--------------------+--------------------+\n",
      "|                   a|              mutual|                   c|\n",
      "+--------------------+--------------------+--------------------+\n",
      "|{3656, Trouble wi...|{2777, Starting W...|{2773, The Diabet...|\n",
      "|{20006, GIRLS TO ...|{21752, The Hidde...|{39066, Pagan Kid...|\n",
      "|{29655, How to Dr...|{22965, The Exist...|{29653, Cape May ...|\n",
      "|{32555, Macromedi...|{32557, All the R...|{32556, Comigo - ...|\n",
      "|{52531, Live Psal...|{38877, Red Smith...|{52532, An Atlas ...|\n",
      "|{108011, Eyewitne...|{41110, A Perfect...|{108011, Eyewitne...|\n",
      "|{43387, Samoyed C...|{43388, John D. R...|{48744, In My Lif...|\n",
      "|{80655, Relativit...|{44094, Magic Mir...|{24749, Disintegr...|\n",
      "|{68477, The Shy C...|{44472, Race, Cla...|{68477, The Shy C...|\n",
      "|{40398, Poem of t...|{47306, What's Co...|{61235, An Elusiv...|\n",
      "|{50857, Sair Linu...|{50859, Brian's S...|{50858, Don't Die...|\n",
      "|{48241, The Sunsh...|{65144, Sun Kisse...|{65145, Live Set,...|\n",
      "|{63877, Coral Fis...|{71135, The Plagu...|{71134, Parametri...|\n",
      "|{82482, Everyday ...|{82483, Crowtet 1...|{78952, A Place T...|\n",
      "|{86751, Vadose Zo...|{100481, Handbook...|{145130, The Talk...|\n",
      "|{127092, Applied ...|{105152, Secrets ...|{127093, Best of ...|\n",
      "|{72132, Managemen...|{106177, George S...|{165728, Tulagi, ...|\n",
      "|{99760, How to Wr...|{115921, Froggy's...|{138665, Art of V...|\n",
      "|{133094, Mock Roc...|{116873, Albinoni...|{116871, Table of...|\n",
      "|{129471, Pitfalls...|{117209, Sharon, ...|{80612, Beethoven...|\n",
      "+--------------------+--------------------+--------------------+\n",
      "only showing top 20 rows\n",
      "\n"
     ]
    },
    {
     "name": "stderr",
     "output_type": "stream",
     "text": [
      "\r",
      "[Stage 60:====================================================> (194 + 6) / 200]\r",
      "\r",
      "                                                                                \r"
     ]
    }
   ],
   "source": [
    "# b is mutually copurchased with a and c\n",
    "mutually_copurchased_products_df = g.find(\"(a)-[]->(mutual); (mutual)-[]->(c); (c)-[]->(mutual); (mutual)-[]->(a)\").dropDuplicates()\n",
    "mutually_copurchased_products_df.show()"
   ]
  },
  {
   "cell_type": "markdown",
   "metadata": {},
   "source": [
    "### Traingle Count"
   ]
  },
  {
   "cell_type": "markdown",
   "metadata": {},
   "source": [
    "Traingle counts for finding important products."
   ]
  },
  {
   "cell_type": "code",
   "execution_count": 18,
   "metadata": {},
   "outputs": [
    {
     "name": "stderr",
     "output_type": "stream",
     "text": [
      "21/10/21 21:47:37 WARN TaskSetManager: Stage 62 contains a task of very large size (4915 KiB). The maximum recommended task size is 1000 KiB.\n",
      "21/10/21 21:47:38 WARN TaskSetManager: Stage 63 contains a task of very large size (1204 KiB). The maximum recommended task size is 1000 KiB.\n",
      "21/10/21 21:47:39 WARN TaskSetManager: Stage 65 contains a task of very large size (4915 KiB). The maximum recommended task size is 1000 KiB.\n",
      "21/10/21 21:47:45 WARN TaskSetManager: Stage 70 contains a task of very large size (1204 KiB). The maximum recommended task size is 1000 KiB.\n",
      "[Stage 73:================================================>     (181 + 9) / 200]\r"
     ]
    },
    {
     "name": "stdout",
     "output_type": "stream",
     "text": [
      "+-----+----+--------------------+-----+---------+-------+\n",
      "|count|  id|               title|group|salesrank|reviews|\n",
      "+-----+----+--------------------+-----+---------+-------+\n",
      "|   19|  26|      Chicken Little| book|   242571|    4.0|\n",
      "|   48|  29|Advanced Pediatri...| book|   677416|    0.0|\n",
      "|    0| 474|Bad Aboriginal Ar...| book|   714825|    5.0|\n",
      "|    2| 964|Outsmarting the S...| book|   536872|    4.5|\n",
      "|   17|1677|Robert Louis Stev...|  dvd|    26035|    4.0|\n",
      "|    1|1697|Experiences in Mo...| book|   695386|    0.0|\n",
      "|   24|1806|Black Stallion an...| book|    71706|    5.0|\n",
      "|   10|1950|Applied Blood Gro...| book|   985020|    5.0|\n",
      "|    6|2040|The Minority Repo...| book|   326911|    4.5|\n",
      "|   21|2214|The Arts of the S...| book|   923205|    4.0|\n",
      "|    6|2250|         Yummy Yummy|music|   170306|    4.5|\n",
      "|    3|2453|  Gourmet Paris 2002| book|   900117|    5.0|\n",
      "|    4|2509|Girls, Delinquenc...| book|   559169|    5.0|\n",
      "|   23|2529|When You look Lik...| book|   667405|    5.0|\n",
      "|    4|2927|The Art of Outdoo...| book|   299959|    4.5|\n",
      "|    4|3091|Blue Moon Cat: Li...|music|   379772|    2.0|\n",
      "|   22|3506|Fire on the Beach...| book|   578290|    4.0|\n",
      "|   21|3764|English and Itali...|music|    62300|    4.0|\n",
      "|    5|4590|Must There Be Sca...| book|   530330|    0.0|\n",
      "|    1|4823|Upgrading and Rep...| book|   942038|    4.0|\n",
      "+-----+----+--------------------+-----+---------+-------+\n",
      "only showing top 20 rows\n",
      "\n"
     ]
    },
    {
     "name": "stderr",
     "output_type": "stream",
     "text": [
      "\r",
      "                                                                                \r"
     ]
    }
   ],
   "source": [
    "g.triangleCount().show()"
   ]
  },
  {
   "cell_type": "markdown",
   "metadata": {},
   "source": [
    "### PageRank"
   ]
  },
  {
   "cell_type": "markdown",
   "metadata": {},
   "source": [
    "Pagreank algorithm to find the most important prroduct."
   ]
  },
  {
   "cell_type": "code",
   "execution_count": 19,
   "metadata": {},
   "outputs": [
    {
     "name": "stderr",
     "output_type": "stream",
     "text": [
      "21/10/21 21:47:54 WARN TaskSetManager: Stage 77 contains a task of very large size (1204 KiB). The maximum recommended task size is 1000 KiB.\n",
      "21/10/21 21:47:58 WARN TaskSetManager: Stage 76 contains a task of very large size (4915 KiB). The maximum recommended task size is 1000 KiB.\n",
      "21/10/21 21:47:59 WARN TaskSetManager: Stage 78 contains a task of very large size (1204 KiB). The maximum recommended task size is 1000 KiB.\n",
      "21/10/21 21:48:05 WARN TaskSetManager: Stage 82 contains a task of very large size (1204 KiB). The maximum recommended task size is 1000 KiB.\n",
      "21/10/21 21:48:08 WARN TaskSetManager: Stage 84 contains a task of very large size (1204 KiB). The maximum recommended task size is 1000 KiB.\n",
      "21/10/21 21:48:08 WARN TaskSetManager: Stage 94 contains a task of very large size (1204 KiB). The maximum recommended task size is 1000 KiB.\n",
      "21/10/21 21:48:09 WARN TaskSetManager: Stage 96 contains a task of very large size (1204 KiB). The maximum recommended task size is 1000 KiB.\n",
      "21/10/21 21:48:09 WARN TaskSetManager: Stage 108 contains a task of very large size (1204 KiB). The maximum recommended task size is 1000 KiB.\n",
      "21/10/21 21:48:10 WARN TaskSetManager: Stage 110 contains a task of very large size (1204 KiB). The maximum recommended task size is 1000 KiB.\n",
      "21/10/21 21:48:10 WARN TaskSetManager: Stage 124 contains a task of very large size (1204 KiB). The maximum recommended task size is 1000 KiB.\n",
      "21/10/21 21:48:11 WARN TaskSetManager: Stage 126 contains a task of very large size (1204 KiB). The maximum recommended task size is 1000 KiB.\n",
      "21/10/21 21:48:11 WARN TaskSetManager: Stage 142 contains a task of very large size (1204 KiB). The maximum recommended task size is 1000 KiB.\n",
      "21/10/21 21:48:12 WARN TaskSetManager: Stage 144 contains a task of very large size (1204 KiB). The maximum recommended task size is 1000 KiB.\n",
      "                                                                                \r"
     ]
    }
   ],
   "source": [
    "pagerank = g.pageRank(resetProbability=0.15, maxIter=5) #maxIter=5"
   ]
  },
  {
   "cell_type": "code",
   "execution_count": 20,
   "metadata": {},
   "outputs": [
    {
     "name": "stderr",
     "output_type": "stream",
     "text": [
      "21/10/21 21:48:15 WARN TaskSetManager: Stage 197 contains a task of very large size (4915 KiB). The maximum recommended task size is 1000 KiB.\n",
      "[Stage 198:=============================================>       (173 + 9) / 200]\r"
     ]
    },
    {
     "name": "stdout",
     "output_type": "stream",
     "text": [
      "+----+--------------------+-----+---------+-------+------------------+\n",
      "|  id|               title|group|salesrank|reviews|          pagerank|\n",
      "+----+--------------------+-----+---------+-------+------------------+\n",
      "|  33|Double Jeopardy (...| book|    97166|    5.0|  256.865019479512|\n",
      "|  93|BizPricer¿ Busine...| book|  1485593|    0.0|222.28038731548094|\n",
      "|4429|Harley-Davidson P...| book|   147799|    4.5| 186.2275745547629|\n",
      "|   8| Losing Matt Shepard| book|   277409|    4.5|184.59950378052676|\n",
      "|2501|The Narcissistic ...| book|     9727|    5.0|176.16085273457895|\n",
      "|  94|The American Heri...| book|   166549|    4.0|163.67544518164442|\n",
      "| 151|Laurel & Hardy - ...|  dvd|    44671|    3.0|163.31819625369937|\n",
      "|  56|Three Bricks Shy ...| book|  2167012|    0.0|145.49653670139432|\n",
      "|  95|The Heavy Flak Gu...| book|  1369585|    0.0|144.27429036648198|\n",
      "|2353|           Committed|music|   437762|    5.0|141.02818514868358|\n",
      "|9106|A Touch Of Tranqu...|music|    39971|    5.0|120.11337114259695|\n",
      "| 481|A Major Case: A N...| book|  2860756|    4.5|118.28497140235989|\n",
      "|1241|  Accessible Physics| book|  2924393|    0.0| 117.7443722578868|\n",
      "| 429|R.E.M. : Talk Abo...| book|   593242|    5.0|116.15853977430632|\n",
      "|  23|Strange Fire: A N...| book|  1277867|    3.0|102.92287009794089|\n",
      "| 449|Audubon 365 Birds...| book|   741634|    0.0| 99.82652863827411|\n",
      "|3589|  I Was Aboard a Ufo| book|  2447342|    3.0| 95.36881093765365|\n",
      "|5120|Tae Kwon Do for W...| book|   844576|    0.0|  90.4108675945759|\n",
      "|5737|Writing and Defen...| book|   857208|    0.0| 89.42440310294977|\n",
      "|  21|    The Time Machine|  dvd|      795|    4.5| 88.43267971829836|\n",
      "+----+--------------------+-----+---------+-------+------------------+\n",
      "only showing top 20 rows\n",
      "\n"
     ]
    },
    {
     "name": "stderr",
     "output_type": "stream",
     "text": [
      "\r",
      "                                                                                \r"
     ]
    }
   ],
   "source": [
    "pagerank.vertices.orderBy(\"pagerank\", ascending=False).show()"
   ]
  },
  {
   "cell_type": "markdown",
   "metadata": {},
   "source": [
    "### Label Propagation Algorithm (LPA) for Recommendation"
   ]
  },
  {
   "cell_type": "code",
   "execution_count": 21,
   "metadata": {},
   "outputs": [
    {
     "name": "stderr",
     "output_type": "stream",
     "text": [
      "21/10/21 21:48:18 WARN TaskSetManager: Stage 205 contains a task of very large size (1761 KiB). The maximum recommended task size is 1000 KiB.\n",
      "21/10/21 21:48:28 WARN TaskSetManager: Stage 216 contains a task of very large size (1204 KiB). The maximum recommended task size is 1000 KiB.\n",
      "21/10/21 21:48:38 WARN ShippableVertexPartitionOps: Joining two VertexPartitions with different indexes is slow.\n",
      "21/10/21 21:48:38 WARN ShippableVertexPartitionOps: Joining two VertexPartitions with different indexes is slow.\n",
      "21/10/21 21:48:38 WARN ShippableVertexPartitionOps: Joining two VertexPartitions with different indexes is slow.\n",
      "21/10/21 21:48:38 WARN TaskSetManager: Stage 230 contains a task of very large size (1204 KiB). The maximum recommended task size is 1000 KiB.\n",
      "21/10/21 21:48:40 WARN MemoryStore: Not enough space to cache rdd_533_7 in memory! (computed 5.3 MiB so far)\n",
      "21/10/21 21:48:40 WARN BlockManager: Block rdd_533_7 could not be removed as it was not found on disk or in memory\n",
      "21/10/21 21:48:40 WARN BlockManager: Putting block rdd_533_7 failed\n",
      "21/10/21 21:48:40 WARN MemoryStore: Not enough space to cache rdd_533_2 in memory! (computed 5.5 MiB so far)\n",
      "21/10/21 21:48:40 WARN BlockManager: Block rdd_533_2 could not be removed as it was not found on disk or in memory\n",
      "21/10/21 21:48:40 WARN BlockManager: Putting block rdd_533_2 failed\n",
      "21/10/21 21:48:50 WARN ShippableVertexPartitionOps: Joining two VertexPartitions with different indexes is slow.\n",
      "21/10/21 21:48:51 WARN TaskSetManager: Stage 247 contains a task of very large size (1204 KiB). The maximum recommended task size is 1000 KiB.\n",
      "21/10/21 21:48:52 WARN MemoryStore: Not enough space to cache rdd_550_2 in memory! (computed 5.5 MiB so far)\n",
      "21/10/21 21:48:52 WARN BlockManager: Block rdd_550_2 could not be removed as it was not found on disk or in memory\n",
      "21/10/21 21:48:52 WARN BlockManager: Putting block rdd_550_2 failed\n",
      "21/10/21 21:48:52 WARN MemoryStore: Not enough space to cache rdd_550_3 in memory! (computed 5.6 MiB so far)\n",
      "21/10/21 21:48:52 WARN BlockManager: Block rdd_550_3 could not be removed as it was not found on disk or in memory\n",
      "21/10/21 21:48:52 WARN BlockManager: Putting block rdd_550_3 failed\n",
      "21/10/21 21:48:52 WARN MemoryStore: Not enough space to cache rdd_550_7 in memory! (computed 5.3 MiB so far)\n",
      "21/10/21 21:48:52 WARN BlockManager: Block rdd_550_7 could not be removed as it was not found on disk or in memory\n",
      "21/10/21 21:48:52 WARN BlockManager: Putting block rdd_550_7 failed\n",
      "21/10/21 21:48:52 WARN MemoryStore: Not enough space to cache rdd_550_1 in memory! (computed 5.3 MiB so far)\n",
      "21/10/21 21:48:52 WARN BlockManager: Block rdd_550_1 could not be removed as it was not found on disk or in memory\n",
      "21/10/21 21:48:52 WARN BlockManager: Putting block rdd_550_1 failed\n",
      "21/10/21 21:49:05 WARN ShippableVertexPartitionOps: Joining two VertexPartitions with different indexes is slow.\n",
      "21/10/21 21:49:05 WARN ShippableVertexPartitionOps: Joining two VertexPartitions with different indexes is slow.\n",
      "21/10/21 21:49:05 WARN ShippableVertexPartitionOps: Joining two VertexPartitions with different indexes is slow.\n",
      "21/10/21 21:49:05 WARN TaskSetManager: Stage 267 contains a task of very large size (1204 KiB). The maximum recommended task size is 1000 KiB.\n",
      "21/10/21 21:49:07 WARN MemoryStore: Not enough space to cache rdd_567_2 in memory! (computed 5.5 MiB so far)\n",
      "21/10/21 21:49:07 WARN BlockManager: Block rdd_567_2 could not be removed as it was not found on disk or in memory\n",
      "21/10/21 21:49:07 WARN BlockManager: Putting block rdd_567_2 failed\n",
      "21/10/21 21:49:07 WARN MemoryStore: Not enough space to cache rdd_567_1 in memory! (computed 5.3 MiB so far)\n",
      "21/10/21 21:49:07 WARN BlockManager: Block rdd_567_1 could not be removed as it was not found on disk or in memory\n",
      "21/10/21 21:49:07 WARN BlockManager: Putting block rdd_567_1 failed\n",
      "21/10/21 21:49:07 WARN MemoryStore: Not enough space to cache rdd_567_5 in memory! (computed 5.6 MiB so far)\n",
      "21/10/21 21:49:07 WARN BlockManager: Block rdd_567_5 could not be removed as it was not found on disk or in memory\n",
      "21/10/21 21:49:07 WARN BlockManager: Putting block rdd_567_5 failed\n",
      "21/10/21 21:49:24 WARN TaskSetManager: Stage 290 contains a task of very large size (1204 KiB). The maximum recommended task size is 1000 KiB.\n",
      "21/10/21 21:49:26 WARN MemoryStore: Not enough space to cache rdd_584_5 in memory! (computed 5.6 MiB so far)\n",
      "21/10/21 21:49:26 WARN BlockManager: Block rdd_584_5 could not be removed as it was not found on disk or in memory\n",
      "21/10/21 21:49:26 WARN BlockManager: Putting block rdd_584_5 failed\n",
      "21/10/21 21:49:26 WARN MemoryStore: Not enough space to cache rdd_584_3 in memory! (computed 5.6 MiB so far)\n",
      "21/10/21 21:49:26 WARN BlockManager: Block rdd_584_3 could not be removed as it was not found on disk or in memory\n",
      "21/10/21 21:49:26 WARN BlockManager: Putting block rdd_584_3 failed\n",
      "[Stage 291:====================================================>(198 + 2) / 200]\r"
     ]
    },
    {
     "name": "stdout",
     "output_type": "stream",
     "text": [
      "LPA has been fit to graph\n"
     ]
    },
    {
     "name": "stderr",
     "output_type": "stream",
     "text": [
      "\r",
      "                                                                                \r"
     ]
    }
   ],
   "source": [
    "max_iter = 5 #max_iter = 5\n",
    "lpa = LabelPropagationAlgorithm(g=g, max_iter=max_iter)"
   ]
  },
  {
   "cell_type": "code",
   "execution_count": 22,
   "metadata": {},
   "outputs": [
    {
     "name": "stderr",
     "output_type": "stream",
     "text": [
      "21/10/21 21:49:54 WARN TaskSetManager: Stage 292 contains a task of very large size (4915 KiB). The maximum recommended task size is 1000 KiB.\n",
      "21/10/21 21:49:56 WARN CacheManager: Asked to cache already cached data.        \n"
     ]
    },
    {
     "name": "stdout",
     "output_type": "stream",
     "text": [
      "+----+--------------------+-----+---------+-------+------+\n",
      "|  id|               title|group|salesrank|reviews| label|\n",
      "+----+--------------------+-----+---------+-------+------+\n",
      "|  26|      Chicken Little| book|   242571|    4.0|   382|\n",
      "|  29|Advanced Pediatri...| book|   677416|    0.0|   146|\n",
      "| 474|Bad Aboriginal Ar...| book|   714825|    5.0|  8158|\n",
      "| 964|Outsmarting the S...| book|   536872|    4.5| 60577|\n",
      "|1677|Robert Louis Stev...|  dvd|    26035|    4.0|  6465|\n",
      "|1697|Experiences in Mo...| book|   695386|    0.0|   831|\n",
      "|1806|Black Stallion an...| book|    71706|    5.0|  1806|\n",
      "|1950|Applied Blood Gro...| book|   985020|    5.0|  1207|\n",
      "|2040|The Minority Repo...| book|   326911|    4.5|  2039|\n",
      "|2214|The Arts of the S...| book|   923205|    4.0|  2111|\n",
      "|2250|         Yummy Yummy|music|   170306|    4.5|138055|\n",
      "|2453|  Gourmet Paris 2002| book|   900117|    5.0|  1483|\n",
      "|2509|Girls, Delinquenc...| book|   559169|    5.0|  1824|\n",
      "|2529|When You look Lik...| book|   667405|    5.0|  1519|\n",
      "|2927|The Art of Outdoo...| book|   299959|    4.5|  1429|\n",
      "|3091|Blue Moon Cat: Li...|music|   379772|    2.0|  7272|\n",
      "|3506|Fire on the Beach...| book|   578290|    4.0|  2015|\n",
      "|3764|English and Itali...|music|    62300|    4.0|  3307|\n",
      "|4590|Must There Be Sca...| book|   530330|    0.0|  4592|\n",
      "|4823|Upgrading and Rep...| book|   942038|    4.0|  6794|\n",
      "+----+--------------------+-----+---------+-------+------+\n",
      "only showing top 20 rows\n",
      "\n"
     ]
    },
    {
     "name": "stderr",
     "output_type": "stream",
     "text": [
      "21/10/21 21:49:59 WARN CacheManager: Asked to cache already cached data.        \n"
     ]
    },
    {
     "name": "stdout",
     "output_type": "stream",
     "text": [
      "LPA found 45577 labels after 5 iteration(s)\n"
     ]
    },
    {
     "name": "stderr",
     "output_type": "stream",
     "text": [
      "[Stage 362:============================================>        (169 + 8) / 200]\r"
     ]
    },
    {
     "name": "stdout",
     "output_type": "stream",
     "text": [
      "+-----+-----+\n",
      "|label|count|\n",
      "+-----+-----+\n",
      "| 2353|  531|\n",
      "|  517|  426|\n",
      "|22073|  234|\n",
      "| 7153|  223|\n",
      "|  469|  216|\n",
      "|  244|  203|\n",
      "| 5915|  197|\n",
      "|13218|  195|\n",
      "| 4937|  157|\n",
      "| 9668|  153|\n",
      "| 1964|  147|\n",
      "| 4841|  136|\n",
      "| 8517|  124|\n",
      "|   95|  124|\n",
      "| 1465|  122|\n",
      "|95149|  120|\n",
      "|10709|  111|\n",
      "|31712|   97|\n",
      "|92861|   95|\n",
      "|60311|   95|\n",
      "+-----+-----+\n",
      "only showing top 20 rows\n",
      "\n"
     ]
    },
    {
     "name": "stderr",
     "output_type": "stream",
     "text": [
      "\r",
      "                                                                                \r"
     ]
    }
   ],
   "source": [
    "lpa.get_communities().show()\n",
    "n_labels = lpa.get_communities().select(\"label\").distinct().count()\n",
    "print(f\"LPA found {n_labels} labels after {max_iter} iteration(s)\")\n",
    "\n",
    "community_counts = lpa.get_communities().groupBy(col(\"label\")).count().orderBy(desc(\"count\"))\n",
    "community_counts.show()"
   ]
  },
  {
   "cell_type": "markdown",
   "metadata": {},
   "source": [
    "Use LPA to get a recommendation for a product."
   ]
  },
  {
   "cell_type": "code",
   "execution_count": 23,
   "metadata": {},
   "outputs": [
    {
     "name": "stderr",
     "output_type": "stream",
     "text": [
      "21/10/21 21:50:01 WARN TaskSetManager: Stage 364 contains a task of very large size (4915 KiB). The maximum recommended task size is 1000 KiB.\n"
     ]
    },
    {
     "name": "stdout",
     "output_type": "stream",
     "text": [
      "+---+--------------------+-----+---------+-------+\n",
      "| id|               title|group|salesrank|reviews|\n",
      "+---+--------------------+-----+---------+-------+\n",
      "| 10|The Edward Said R...| book|   220379|    4.0|\n",
      "+---+--------------------+-----+---------+-------+\n",
      "\n",
      "+-----+--------------------+-----+---------+-------+-----+\n",
      "|   id|               title|group|salesrank|reviews|label|\n",
      "+-----+--------------------+-----+---------+-------+-----+\n",
      "|11700|Middlemarch (Word...| book|  1216188|    4.5|11701|\n",
      "|11698|Food Folklore : T...| book|   779866|    0.0|11701|\n",
      "|   10|The Edward Said R...| book|   220379|    4.0|11701|\n",
      "|11699|Getting to the Be...| book|   552678|    5.0|11701|\n",
      "| 5554|       The Decameron| book|   441660|    5.0|11701|\n",
      "|13805|Great Overtures i...| book|   801312|    0.0|11701|\n",
      "+-----+--------------------+-----+---------+-------+-----+\n",
      "\n"
     ]
    }
   ],
   "source": [
    "id_ = 10\n",
    "g.vertices.filter(f\"id = {id_}\").show()\n",
    "\n",
    "recommendations_df = lpa(id_= id_)\n",
    "recommendations_df.show()"
   ]
  },
  {
   "cell_type": "code",
   "execution_count": 24,
   "metadata": {},
   "outputs": [
    {
     "name": "stderr",
     "output_type": "stream",
     "text": [
      "21/10/21 21:50:02 WARN TaskSetManager: Stage 517 contains a task of very large size (4915 KiB). The maximum recommended task size is 1000 KiB.\n"
     ]
    },
    {
     "name": "stdout",
     "output_type": "stream",
     "text": [
      "+---+--------------------+-----+---------+-------+\n",
      "| id|               title|group|salesrank|reviews|\n",
      "+---+--------------------+-----+---------+-------+\n",
      "| 20|Computed Tomograp...| book|   179448|    5.0|\n",
      "+---+--------------------+-----+---------+-------+\n",
      "\n",
      "+-----+--------------------+-----+---------+-------+-----+\n",
      "|   id|               title|group|salesrank|reviews|label|\n",
      "+-----+--------------------+-----+---------+-------+-----+\n",
      "|40311|Pure Beauties: Ma...|  dvd|    48332|    3.0|   23|\n",
      "|  455|Midwinter Night's...|music|    59751|    5.0|   23|\n",
      "|41826|You Can Depend on...|music|   143305|    5.0|   23|\n",
      "|77571|            Only Dad| book|   788639|    4.0|   23|\n",
      "| 7622|Mtv: The Making o...| book|  1303965|    3.5|   23|\n",
      "|   79|Today's Military ...| book|     7437|    4.5|   23|\n",
      "| 3549|The Who - Live at...|  dvd|    22672|    4.0|   23|\n",
      "|   28|God Knows Marriag...| book|   745886|    0.0|   23|\n",
      "|25867|    Hang On, Hopper!| book|  1116593|    5.0|   23|\n",
      "|28924|     High School Usa|video|    50908|    4.0|   23|\n",
      "|  142|Chemical Chaos (H...| book|   280529|    4.5|   23|\n",
      "| 5415|Lucky Luke, Vol. ...|  dvd|    28420|    5.0|   23|\n",
      "|  454|Memories of Lafay...| book|  1961497|    0.0|   23|\n",
      "|   37|Mark Messier - Le...|  dvd|    46018|    3.5|   23|\n",
      "|    8| Losing Matt Shepard| book|   277409|    4.5|   23|\n",
      "|20095|Speak Truth to Po...| book|   433774|    4.5|   23|\n",
      "|   80|In Quest of God: ...| book|   533031|    5.0|   23|\n",
      "|  269|Memoirs of Genera...| book|    92489|    4.5|   23|\n",
      "|18468|Extended Family I...|music|   349980|    0.0|   23|\n",
      "|   13|Clockwork Worlds ...| book|  2895088|    0.0|   23|\n",
      "+-----+--------------------+-----+---------+-------+-----+\n",
      "only showing top 20 rows\n",
      "\n"
     ]
    }
   ],
   "source": [
    "id_ = 20\n",
    "g.vertices.filter(f\"id = {id_}\").show()\n",
    "\n",
    "recommendations_df = lpa(id_= id_)\n",
    "recommendations_df.show()"
   ]
  },
  {
   "cell_type": "code",
   "execution_count": 25,
   "metadata": {},
   "outputs": [
    {
     "name": "stderr",
     "output_type": "stream",
     "text": [
      "21/10/21 21:50:04 WARN TaskSetManager: Stage 670 contains a task of very large size (4915 KiB). The maximum recommended task size is 1000 KiB.\n",
      "                                                                                \r"
     ]
    },
    {
     "name": "stdout",
     "output_type": "stream",
     "text": [
      "+-----+-----+-----+---------+-------+\n",
      "|   id|title|group|salesrank|reviews|\n",
      "+-----+-----+-----+---------+-------+\n",
      "|12345| Maya|music|    64984|    5.0|\n",
      "+-----+-----+-----+---------+-------+\n",
      "\n",
      "+-----+--------------------+-----+---------+-------+-----+\n",
      "|   id|               title|group|salesrank|reviews|label|\n",
      "+-----+--------------------+-----+---------+-------+-----+\n",
      "|10510|Tristana (Easy Re...| book|   991608|    4.0|10508|\n",
      "|12345|                Maya|music|    64984|    5.0|10508|\n",
      "|13137|Beggar's Ride (Be...| book|   322234|    3.0|10508|\n",
      "|10509|Tchaikovsky: Pian...|music|    76777|    4.5|10508|\n",
      "|17238|      Q's Jook Joint|music|     5440|    4.5|10508|\n",
      "|12344|The Use and Abuse...| book|   581060|    0.0|10508|\n",
      "|10512|SQ : Connecting W...| book|   354885|    4.0|10508|\n",
      "|10508|The V Zone : A Wo...| book|   352991|    5.0|10508|\n",
      "|18289|The Dictionary of...| book|   163207|    3.5|10508|\n",
      "| 5381|Noah'S Ark (Littl...| book|   399319|    5.0|10508|\n",
      "+-----+--------------------+-----+---------+-------+-----+\n",
      "\n"
     ]
    }
   ],
   "source": [
    "id_ = 12345\n",
    "g.vertices.filter(f\"id = {id_}\").show()\n",
    "\n",
    "recommendations_df = lpa(id_= id_)\n",
    "recommendations_df.show()"
   ]
  },
  {
   "cell_type": "markdown",
   "metadata": {},
   "source": [
    "### Jaccard Similarity for Recommendation"
   ]
  },
  {
   "cell_type": "code",
   "execution_count": 26,
   "metadata": {},
   "outputs": [
    {
     "name": "stderr",
     "output_type": "stream",
     "text": [
      "21/10/21 21:50:05 WARN TaskSetManager: Stage 825 contains a task of very large size (1204 KiB). The maximum recommended task size is 1000 KiB.\n",
      "21/10/21 21:50:06 WARN TaskSetManager: Stage 824 contains a task of very large size (4915 KiB). The maximum recommended task size is 1000 KiB.\n",
      "21/10/21 21:50:06 WARN TaskSetManager: Stage 828 contains a task of very large size (4915 KiB). The maximum recommended task size is 1000 KiB.\n",
      "21/10/21 21:50:09 WARN TaskSetManager: Stage 834 contains a task of very large size (1204 KiB). The maximum recommended task size is 1000 KiB.\n",
      "21/10/21 21:50:09 WARN TaskSetManager: Stage 833 contains a task of very large size (4915 KiB). The maximum recommended task size is 1000 KiB.\n",
      "21/10/21 21:50:10 WARN TaskSetManager: Stage 837 contains a task of very large size (4915 KiB). The maximum recommended task size is 1000 KiB.\n",
      "21/10/21 21:50:12 WARN TaskSetManager: Stage 842 contains a task of very large size (4915 KiB). The maximum recommended task size is 1000 KiB.\n",
      "21/10/21 21:50:13 WARN TaskSetManager: Stage 845 contains a task of very large size (4915 KiB). The maximum recommended task size is 1000 KiB.\n",
      "21/10/21 21:50:14 WARN TaskSetManager: Stage 846 contains a task of very large size (1204 KiB). The maximum recommended task size is 1000 KiB.\n",
      "21/10/21 21:50:15 WARN TaskSetManager: Stage 852 contains a task of very large size (1204 KiB). The maximum recommended task size is 1000 KiB.\n",
      "21/10/21 21:50:16 WARN TaskSetManager: Stage 850 contains a task of very large size (4915 KiB). The maximum recommended task size is 1000 KiB.\n",
      "21/10/21 21:50:17 WARN TaskSetManager: Stage 856 contains a task of very large size (4915 KiB). The maximum recommended task size is 1000 KiB.\n",
      "21/10/21 21:50:18 WARN TaskSetManager: Stage 859 contains a task of very large size (4915 KiB). The maximum recommended task size is 1000 KiB.\n",
      "21/10/21 21:50:19 WARN TaskSetManager: Stage 863 contains a task of very large size (4915 KiB). The maximum recommended task size is 1000 KiB.\n",
      "21/10/21 21:50:20 WARN TaskSetManager: Stage 865 contains a task of very large size (1204 KiB). The maximum recommended task size is 1000 KiB.\n",
      "21/10/21 21:50:21 WARN TaskSetManager: Stage 870 contains a task of very large size (1204 KiB). The maximum recommended task size is 1000 KiB.\n",
      "21/10/21 21:50:22 WARN TaskSetManager: Stage 868 contains a task of very large size (4915 KiB). The maximum recommended task size is 1000 KiB.\n",
      "21/10/21 21:50:22 WARN TaskSetManager: Stage 873 contains a task of very large size (4915 KiB). The maximum recommended task size is 1000 KiB.\n",
      "21/10/21 21:50:24 WARN TaskSetManager: Stage 879 contains a task of very large size (4915 KiB). The maximum recommended task size is 1000 KiB.\n",
      "[Stage 879:>                                                        (0 + 8) / 8]\r"
     ]
    },
    {
     "name": "stdout",
     "output_type": "stream",
     "text": [
      "+---+--------------------+-----+---------+-------+-------------------+\n",
      "| id|               title|group|salesrank|reviews|            jaccard|\n",
      "+---+--------------------+-----+---------+-------+-------------------+\n",
      "|139|  The Sacred Impulse| book|   846457|    3.0|0.42857142857142855|\n",
      "|137|Apples of Gold: A...| book|   129355|    5.0|0.42857142857142855|\n",
      "|  5|Prayers That Avai...| book|   455160|    0.0| 0.1111111111111111|\n",
      "|  7|               Batik|music|     5392|    4.5| 0.1111111111111111|\n",
      "|138|The McClurkin Pro...|music|    54277|    4.0|                0.0|\n",
      "+---+--------------------+-----+---------+-------+-------------------+\n",
      "\n"
     ]
    },
    {
     "name": "stderr",
     "output_type": "stream",
     "text": [
      "\r",
      "                                                                                \r"
     ]
    }
   ],
   "source": [
    "jsp = JaccardSimilarity(g=g, id_=10, spark=spark)\n",
    "vertices_similar_df = jsp()\n",
    "vertices_similar_df.show()"
   ]
  },
  {
   "cell_type": "code",
   "execution_count": 27,
   "metadata": {},
   "outputs": [
    {
     "name": "stderr",
     "output_type": "stream",
     "text": [
      "21/10/21 21:50:26 WARN TaskSetManager: Stage 882 contains a task of very large size (4915 KiB). The maximum recommended task size is 1000 KiB.\n",
      "21/10/21 21:50:26 WARN TaskSetManager: Stage 884 contains a task of very large size (4915 KiB). The maximum recommended task size is 1000 KiB.\n",
      "21/10/21 21:50:27 WARN TaskSetManager: Stage 886 contains a task of very large size (1204 KiB). The maximum recommended task size is 1000 KiB.\n",
      "21/10/21 21:50:29 WARN TaskSetManager: Stage 891 contains a task of very large size (4915 KiB). The maximum recommended task size is 1000 KiB.\n",
      "21/10/21 21:50:30 WARN TaskSetManager: Stage 894 contains a task of very large size (4915 KiB). The maximum recommended task size is 1000 KiB.\n",
      "21/10/21 21:50:31 WARN TaskSetManager: Stage 895 contains a task of very large size (1204 KiB). The maximum recommended task size is 1000 KiB.\n",
      "21/10/21 21:50:32 WARN TaskSetManager: Stage 900 contains a task of very large size (4915 KiB). The maximum recommended task size is 1000 KiB.\n",
      "21/10/21 21:50:33 WARN TaskSetManager: Stage 902 contains a task of very large size (4915 KiB). The maximum recommended task size is 1000 KiB.\n",
      "21/10/21 21:50:34 WARN TaskSetManager: Stage 905 contains a task of very large size (1204 KiB). The maximum recommended task size is 1000 KiB.\n",
      "21/10/21 21:50:35 WARN TaskSetManager: Stage 910 contains a task of very large size (1204 KiB). The maximum recommended task size is 1000 KiB.\n",
      "21/10/21 21:50:36 WARN TaskSetManager: Stage 909 contains a task of very large size (4915 KiB). The maximum recommended task size is 1000 KiB.\n",
      "21/10/21 21:50:36 WARN TaskSetManager: Stage 914 contains a task of very large size (4915 KiB). The maximum recommended task size is 1000 KiB.\n",
      "21/10/21 21:50:39 WARN TaskSetManager: Stage 918 contains a task of very large size (4915 KiB). The maximum recommended task size is 1000 KiB.\n",
      "21/10/21 21:50:40 WARN TaskSetManager: Stage 920 contains a task of very large size (4915 KiB). The maximum recommended task size is 1000 KiB.\n",
      "21/10/21 21:50:41 WARN TaskSetManager: Stage 922 contains a task of very large size (1204 KiB). The maximum recommended task size is 1000 KiB.\n",
      "21/10/21 21:50:42 WARN TaskSetManager: Stage 926 contains a task of very large size (4915 KiB). The maximum recommended task size is 1000 KiB.\n",
      "21/10/21 21:50:43 WARN TaskSetManager: Stage 930 contains a task of very large size (4915 KiB). The maximum recommended task size is 1000 KiB.\n",
      "21/10/21 21:50:44 WARN TaskSetManager: Stage 932 contains a task of very large size (1204 KiB). The maximum recommended task size is 1000 KiB.\n",
      "21/10/21 21:50:46 WARN TaskSetManager: Stage 935 contains a task of very large size (4915 KiB). The maximum recommended task size is 1000 KiB.\n",
      "[Stage 937:===================================>                     (5 + 3) / 8]\r"
     ]
    },
    {
     "name": "stdout",
     "output_type": "stream",
     "text": [
      "+---+--------------------+-----+---------+-------+------------------+\n",
      "| id|               title|group|salesrank|reviews|           jaccard|\n",
      "+---+--------------------+-----+---------+-------+------------------+\n",
      "|  7|               Batik|music|     5392|    4.5|              0.25|\n",
      "|  6|How the Other Hal...| book|   188784|    4.0|              0.25|\n",
      "|  8| Losing Matt Shepard| book|   277409|    4.5|0.1111111111111111|\n",
      "| 30|Solving Statics P...| book|   227883|    0.0|0.1111111111111111|\n",
      "| 23|Strange Fire: A N...| book|  1277867|    3.0|0.1111111111111111|\n",
      "+---+--------------------+-----+---------+-------+------------------+\n",
      "\n"
     ]
    },
    {
     "name": "stderr",
     "output_type": "stream",
     "text": [
      "\r",
      "                                                                                \r"
     ]
    }
   ],
   "source": [
    "jsp = JaccardSimilarity(g=g, id_=20, spark=spark)\n",
    "vertices_similar_df = jsp()\n",
    "vertices_similar_df.show()"
   ]
  },
  {
   "cell_type": "code",
   "execution_count": 28,
   "metadata": {},
   "outputs": [
    {
     "name": "stderr",
     "output_type": "stream",
     "text": [
      "21/10/21 21:50:47 WARN TaskSetManager: Stage 939 contains a task of very large size (4915 KiB). The maximum recommended task size is 1000 KiB.\n",
      "21/10/21 21:50:48 WARN TaskSetManager: Stage 943 contains a task of very large size (4915 KiB). The maximum recommended task size is 1000 KiB.\n",
      "21/10/21 21:50:49 WARN TaskSetManager: Stage 945 contains a task of very large size (1204 KiB). The maximum recommended task size is 1000 KiB.\n",
      "21/10/21 21:50:50 WARN TaskSetManager: Stage 949 contains a task of very large size (4915 KiB). The maximum recommended task size is 1000 KiB.\n",
      "21/10/21 21:50:51 WARN TaskSetManager: Stage 951 contains a task of very large size (4915 KiB). The maximum recommended task size is 1000 KiB.\n",
      "21/10/21 21:50:52 WARN TaskSetManager: Stage 954 contains a task of very large size (1204 KiB). The maximum recommended task size is 1000 KiB.\n",
      "21/10/21 21:50:53 WARN TaskSetManager: Stage 958 contains a task of very large size (4915 KiB). The maximum recommended task size is 1000 KiB.\n",
      "21/10/21 21:50:54 WARN TaskSetManager: Stage 960 contains a task of very large size (4915 KiB). The maximum recommended task size is 1000 KiB.\n",
      "21/10/21 21:50:55 WARN TaskSetManager: Stage 963 contains a task of very large size (1204 KiB). The maximum recommended task size is 1000 KiB.\n",
      "21/10/21 21:50:56 WARN TaskSetManager: Stage 966 contains a task of very large size (4915 KiB). The maximum recommended task size is 1000 KiB.\n",
      "21/10/21 21:50:57 WARN TaskSetManager: Stage 969 contains a task of very large size (4915 KiB). The maximum recommended task size is 1000 KiB.\n",
      "21/10/21 21:50:58 WARN TaskSetManager: Stage 971 contains a task of very large size (1204 KiB). The maximum recommended task size is 1000 KiB.\n",
      "21/10/21 21:50:59 WARN TaskSetManager: Stage 977 contains a task of very large size (1204 KiB). The maximum recommended task size is 1000 KiB.\n",
      "21/10/21 21:51:00 WARN TaskSetManager: Stage 976 contains a task of very large size (4915 KiB). The maximum recommended task size is 1000 KiB.\n",
      "21/10/21 21:51:00 WARN TaskSetManager: Stage 980 contains a task of very large size (4915 KiB). The maximum recommended task size is 1000 KiB.\n",
      "21/10/21 21:51:03 WARN TaskSetManager: Stage 986 contains a task of very large size (4915 KiB). The maximum recommended task size is 1000 KiB.\n",
      "[Stage 986:=================================================>       (7 + 1) / 8]\r"
     ]
    },
    {
     "name": "stdout",
     "output_type": "stream",
     "text": [
      "+-----+--------------------+-----+---------+-------+------------------+\n",
      "|   id|               title|group|salesrank|reviews|           jaccard|\n",
      "+-----+--------------------+-----+---------+-------+------------------+\n",
      "|13137|Beggar's Ride (Be...| book|   322234|    3.0|0.2857142857142857|\n",
      "|17238|      Q's Jook Joint|music|     5440|    4.5|0.2857142857142857|\n",
      "|12344|The Use and Abuse...| book|   581060|    0.0|0.2857142857142857|\n",
      "|10510|Tristana (Easy Re...| book|   991608|    4.0|             0.125|\n",
      "+-----+--------------------+-----+---------+-------+------------------+\n",
      "\n"
     ]
    },
    {
     "name": "stderr",
     "output_type": "stream",
     "text": [
      "\r",
      "                                                                                \r"
     ]
    }
   ],
   "source": [
    "jsp = JaccardSimilarity(g=g, id_=12345, spark=spark)\n",
    "vertices_similar_df = jsp()\n",
    "vertices_similar_df.show()"
   ]
  },
  {
   "cell_type": "markdown",
   "metadata": {},
   "source": [
    "## Clean Up"
   ]
  },
  {
   "cell_type": "markdown",
   "metadata": {},
   "source": [
    "Clean up data/"
   ]
  },
  {
   "cell_type": "code",
   "execution_count": 29,
   "metadata": {},
   "outputs": [
    {
     "data": {
      "text/plain": [
       "'%%bash\\nfile=./data/amazon0302.txt.gz\\nfile_txt=./data/amazon0302.txt\\nmeta=./data/amazon-meta.txt.gz\\nmeta_txt=./data/amazon-meta.txt\\nrm $file\\nrm $file_txt\\nrm $meta\\nrm $meta_txt'"
      ]
     },
     "execution_count": 29,
     "metadata": {},
     "output_type": "execute_result"
    }
   ],
   "source": [
    "\"\"\"%%bash\n",
    "file=./data/amazon0302.txt.gz\n",
    "file_txt=./data/amazon0302.txt\n",
    "meta=./data/amazon-meta.txt.gz\n",
    "meta_txt=./data/amazon-meta.txt\n",
    "rm $file\n",
    "rm $file_txt\n",
    "rm $meta\n",
    "rm $meta_txt\"\"\""
   ]
  },
  {
   "cell_type": "markdown",
   "metadata": {},
   "source": [
    "## Sources\n",
    "\n",
    "https://graphframes.github.io/graphframes/docs/_site/user-guide.html\n",
    "\n",
    "https://docs.databricks.com/_static/notebooks/graphframes-user-guide-py.html\n",
    "\n",
    "https://towardsdatascience.com/graphframes-in-jupyter-a-practical-guide-9b3b346cebc5\n",
    "\n",
    "https://graphframes.github.io/graphframes/docs/_site/api/python/index.html"
   ]
  }
 ],
 "metadata": {
  "kernelspec": {
   "display_name": "Python (Spark)",
   "language": "python",
   "name": "spark-env"
  },
  "language_info": {
   "codemirror_mode": {
    "name": "ipython",
    "version": 3
   },
   "file_extension": ".py",
   "mimetype": "text/x-python",
   "name": "python",
   "nbconvert_exporter": "python",
   "pygments_lexer": "ipython3",
   "version": "3.8.11"
  }
 },
 "nbformat": 4,
 "nbformat_minor": 4
}
