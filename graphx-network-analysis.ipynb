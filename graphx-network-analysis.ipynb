{
 "cells": [
  {
   "cell_type": "markdown",
   "metadata": {},
   "source": [
    "sources:\n",
    "\n",
    "https://graphframes.github.io/graphframes/docs/_site/user-guide.html\n",
    "\n",
    "https://docs.databricks.com/_static/notebooks/graphframes-user-guide-py.html\n",
    "\n",
    "https://towardsdatascience.com/graphframes-in-jupyter-a-practical-guide-9b3b346cebc5\n",
    "\n",
    "https://graphframes.github.io/graphframes/docs/_site/api/python/index.html"
   ]
  },
  {
   "cell_type": "code",
   "execution_count": 1,
   "metadata": {},
   "outputs": [],
   "source": [
    "import os\n",
    "import pandas as pd\n",
    "import numpy as np\n",
    "import networkx as nx\n",
    "import matplotlib.pyplot as plt\n",
    "from tqdm import tqdm\n",
    "import sys\n",
    "from IPython.display import display, HTML\n",
    "\n",
    "import findspark\n",
    "findspark.init()\n",
    "\n",
    "from pyspark import *\n",
    "from pyspark.sql import *\n",
    "from graphframes import *"
   ]
  },
  {
   "cell_type": "code",
   "execution_count": 2,
   "metadata": {},
   "outputs": [],
   "source": [
    "# https://graphframes.github.io/graphframes/docs/_site/quick-start.html\n",
    "# https://stackoverflow.com/questions/65011599/how-to-start-graphframes-on-spark-on-pyspark-on-juypter-on-docker\n",
    "os.environ['PYSPARK_SUBMIT_ARGS'] = '--packages graphframes:graphframes:0.8.1-spark3.0-s_2.12 pyspark-shell'"
   ]
  },
  {
   "cell_type": "code",
   "execution_count": 3,
   "metadata": {},
   "outputs": [
    {
     "name": "stderr",
     "output_type": "stream",
     "text": [
      "21/10/21 19:08:30 WARN Utils: Your hostname, mark-machine resolves to a loopback address: 127.0.1.1; using 192.168.0.102 instead (on interface wlp8s0)\n",
      "21/10/21 19:08:30 WARN Utils: Set SPARK_LOCAL_IP if you need to bind to another address\n"
     ]
    },
    {
     "name": "stdout",
     "output_type": "stream",
     "text": [
      ":: loading settings :: url = jar:file:/opt/spark/jars/ivy-2.4.0.jar!/org/apache/ivy/core/settings/ivysettings.xml\n"
     ]
    },
    {
     "name": "stderr",
     "output_type": "stream",
     "text": [
      "Ivy Default Cache set to: /home/mark/.ivy2/cache\n",
      "The jars for the packages stored in: /home/mark/.ivy2/jars\n",
      "graphframes#graphframes added as a dependency\n",
      ":: resolving dependencies :: org.apache.spark#spark-submit-parent-026eb474-c130-491c-9701-e2e0f363b705;1.0\n",
      "\tconfs: [default]\n",
      "\tfound graphframes#graphframes;0.8.1-spark3.0-s_2.12 in spark-packages\n",
      "\tfound org.slf4j#slf4j-api;1.7.16 in central\n",
      ":: resolution report :: resolve 147ms :: artifacts dl 6ms\n",
      "\t:: modules in use:\n",
      "\tgraphframes#graphframes;0.8.1-spark3.0-s_2.12 from spark-packages in [default]\n",
      "\torg.slf4j#slf4j-api;1.7.16 from central in [default]\n",
      "\t---------------------------------------------------------------------\n",
      "\t|                  |            modules            ||   artifacts   |\n",
      "\t|       conf       | number| search|dwnlded|evicted|| number|dwnlded|\n",
      "\t---------------------------------------------------------------------\n",
      "\t|      default     |   2   |   0   |   0   |   0   ||   2   |   0   |\n",
      "\t---------------------------------------------------------------------\n",
      ":: retrieving :: org.apache.spark#spark-submit-parent-026eb474-c130-491c-9701-e2e0f363b705\n",
      "\tconfs: [default]\n",
      "\t0 artifacts copied, 2 already retrieved (0kB/10ms)\n",
      "21/10/21 19:08:30 WARN NativeCodeLoader: Unable to load native-hadoop library for your platform... using builtin-java classes where applicable\n",
      "Using Spark's default log4j profile: org/apache/spark/log4j-defaults.properties\n",
      "Setting default log level to \"WARN\".\n",
      "To adjust logging level use sc.setLogLevel(newLevel). For SparkR, use setLogLevel(newLevel).\n"
     ]
    }
   ],
   "source": [
    "# Start Spark context\n",
    "spark = SparkSession.builder.appName('graphx-network-analysis').getOrCreate()"
   ]
  },
  {
   "cell_type": "code",
   "execution_count": 4,
   "metadata": {},
   "outputs": [
    {
     "name": "stdout",
     "output_type": "stream",
     "text": [
      "./data/amazon0302.txt.gz exists, skipping\n",
      "./data/amazon-meta.txt.gz exists, skipping\n"
     ]
    }
   ],
   "source": [
    "%%bash\n",
    "file=./data/amazon0302.txt.gz\n",
    "file_meta=./data/amazon-meta.txt.gz\n",
    "\n",
    "if [ -e \"$file\" ]; then\n",
    "    echo \"$file exists, skipping\"\n",
    "else \n",
    "    echo \"$file does not exist, using wget to download it\"\n",
    "    wget http://snap.stanford.edu/data/amazon0302.txt.gz -P data/\n",
    "    gzip -dkfv $file\n",
    "fi\n",
    "\n",
    "if [ -e \"$file_meta\" ]; then\n",
    "    echo \"$file_meta exists, skipping\"\n",
    "else \n",
    "    echo \"$file_meta does not exist, using wget to download it\"\n",
    "    wget http://snap.stanford.edu/data/amazon0302.txt.gz -P data/\n",
    "    gzip -dkfv $file_meta\n",
    "fi"
   ]
  },
  {
   "cell_type": "code",
   "execution_count": 5,
   "metadata": {},
   "outputs": [],
   "source": [
    "def read_data(from_file_name, exclude_meta=True):\n",
    "    df_edges = pd.read_csv(from_file_name, sep=\"\\t\", header=None, skiprows=4, names=[\"src\", \"dst\"])\n",
    "    vertices_np = \\\n",
    "        np.unique(np.hstack([df_edges[\"src\"].unique(), df_edges[\"dst\"].unique()]))\n",
    "    \n",
    "    df_vertices = pd.DataFrame(data={\"id\": vertices_np})\n",
    "    \n",
    "    return df_edges, df_vertices\n",
    "    \n",
    "from_file_name = \"data/amazon0302.txt\"\n",
    "df_edges, df_vertices = read_data(from_file_name=from_file_name)"
   ]
  },
  {
   "cell_type": "code",
   "execution_count": 6,
   "metadata": {},
   "outputs": [
    {
     "name": "stdout",
     "output_type": "stream",
     "text": [
      "100%|████████████████████████████████████████████████████████████████████████████████████████████████████████████████████████████████████████████████████▉| 15010569/15010572 [00:14<00:00, 1006840.18it/s]\n"
     ]
    }
   ],
   "source": [
    "def read_meta(from_file_name):\n",
    "    if_id = False\n",
    "    id_ = None\n",
    "    if_title = False\n",
    "    title = None\n",
    "    if_group = False\n",
    "    group = None\n",
    "    if_salesrank = False\n",
    "    salesrank = None\n",
    "    if_reviews = False\n",
    "    reviews = None\n",
    "\n",
    "    def if_all_cols():\n",
    "        return if_id and if_title and if_group and if_salesrank and if_reviews\n",
    "    \n",
    "    cols = [\"id\", \"title\", \"group\", \"salesrank\", \"reviews\"]\n",
    "    \n",
    "    discontinued_prodcut_str = \"discontinued product\"\n",
    "    \n",
    "    from_file_name = \"data/amazon-meta.txt\"\n",
    "    \n",
    "    records = []\n",
    "    \n",
    "    with open(from_file_name, \"r\") as file:\n",
    "        lines = file.readlines()[2:]\n",
    "        \n",
    "        length = len(lines)\n",
    "        idx = 0\n",
    "        \n",
    "        for idx in tqdm(range(len(lines)), file=sys.stdout):\n",
    "            line = lines[idx]\n",
    "            \n",
    "            \n",
    "            try:\n",
    "                if_discontinued_str = lines[idx+3].strip()\n",
    "            \n",
    "            except Exception:\n",
    "                break\n",
    "            else:\n",
    "                if if_discontinued_str == discontinued_prodcut_str:\n",
    "                    idx += 4\n",
    "                else:\n",
    "                    line_proc = line.strip().lower()\n",
    "                    \n",
    "                    line_proc_split = line_proc.split(\":\")\n",
    "                    col = line_proc_split[0]\n",
    "                    if col == \"id\":\n",
    "                        id_ = int(line_proc_split[1].strip())\n",
    "                        if_id = True\n",
    "                        \n",
    "                    if col == \"title\":\n",
    "                        title = line.split(\"title:\")[1].strip()\n",
    "                        if_title = True\n",
    "                    \n",
    "                    if col == \"group\":\n",
    "                        group = line_proc_split[1].strip()\n",
    "                        if_group = True\n",
    "                    \n",
    "                    if col == \"salesrank\":\n",
    "                        salesrank = int(line_proc_split[1].strip())\n",
    "                        if_salesrank = True\n",
    "                        \n",
    "                    if col == \"reviews\":\n",
    "                        reviews = float(line.split('avg rating:')[-1].strip())\n",
    "                        if_reviews = True\n",
    "                    \n",
    "                    if if_all_cols():\n",
    "                        \n",
    "                        records.append({\n",
    "                            \"id\": id_,\n",
    "                            \"title\": title,\n",
    "                            \"group\": group,\n",
    "                            \"salesrank\": salesrank,\n",
    "                            \"reviews\": reviews\n",
    "                        })\n",
    "                        \n",
    "                        if_id = False\n",
    "                        id_ = None\n",
    "                        if_title = False\n",
    "                        title = None\n",
    "                        if_group = False\n",
    "                        group = None\n",
    "                        if_salesrank = False\n",
    "                        salesrank = None\n",
    "                        if_reviews = False\n",
    "                        reviews = None\n",
    "                    \n",
    "                    idx += 1\n",
    "            \n",
    "                \n",
    "            \n",
    "    return pd.DataFrame(data=records)\n",
    "        \n",
    "from_file_name = \"data/amazon-meta.txt\"\n",
    "df_meta = read_meta(from_file_name=from_file_name)"
   ]
  },
  {
   "cell_type": "code",
   "execution_count": 7,
   "metadata": {},
   "outputs": [
    {
     "data": {
      "text/html": [
       "<table border=\"1\" class=\"dataframe\">\n",
       "  <thead>\n",
       "    <tr style=\"text-align: right;\">\n",
       "      <th></th>\n",
       "      <th>src</th>\n",
       "      <th>dst</th>\n",
       "    </tr>\n",
       "  </thead>\n",
       "  <tbody>\n",
       "    <tr>\n",
       "      <th>0</th>\n",
       "      <td>0</td>\n",
       "      <td>1</td>\n",
       "    </tr>\n",
       "    <tr>\n",
       "      <th>1</th>\n",
       "      <td>0</td>\n",
       "      <td>2</td>\n",
       "    </tr>\n",
       "    <tr>\n",
       "      <th>2</th>\n",
       "      <td>0</td>\n",
       "      <td>3</td>\n",
       "    </tr>\n",
       "    <tr>\n",
       "      <th>3</th>\n",
       "      <td>0</td>\n",
       "      <td>4</td>\n",
       "    </tr>\n",
       "    <tr>\n",
       "      <th>4</th>\n",
       "      <td>0</td>\n",
       "      <td>5</td>\n",
       "    </tr>\n",
       "    <tr>\n",
       "      <th>5</th>\n",
       "      <td>1</td>\n",
       "      <td>0</td>\n",
       "    </tr>\n",
       "    <tr>\n",
       "      <th>6</th>\n",
       "      <td>1</td>\n",
       "      <td>2</td>\n",
       "    </tr>\n",
       "    <tr>\n",
       "      <th>7</th>\n",
       "      <td>1</td>\n",
       "      <td>4</td>\n",
       "    </tr>\n",
       "    <tr>\n",
       "      <th>8</th>\n",
       "      <td>1</td>\n",
       "      <td>5</td>\n",
       "    </tr>\n",
       "    <tr>\n",
       "      <th>9</th>\n",
       "      <td>1</td>\n",
       "      <td>15</td>\n",
       "    </tr>\n",
       "  </tbody>\n",
       "</table>"
      ],
      "text/plain": [
       "<IPython.core.display.HTML object>"
      ]
     },
     "metadata": {},
     "output_type": "display_data"
    },
    {
     "data": {
      "text/html": [
       "<table border=\"1\" class=\"dataframe\">\n",
       "  <thead>\n",
       "    <tr style=\"text-align: right;\">\n",
       "      <th></th>\n",
       "      <th>id</th>\n",
       "    </tr>\n",
       "  </thead>\n",
       "  <tbody>\n",
       "    <tr>\n",
       "      <th>0</th>\n",
       "      <td>0</td>\n",
       "    </tr>\n",
       "    <tr>\n",
       "      <th>1</th>\n",
       "      <td>1</td>\n",
       "    </tr>\n",
       "    <tr>\n",
       "      <th>2</th>\n",
       "      <td>2</td>\n",
       "    </tr>\n",
       "    <tr>\n",
       "      <th>3</th>\n",
       "      <td>3</td>\n",
       "    </tr>\n",
       "    <tr>\n",
       "      <th>4</th>\n",
       "      <td>4</td>\n",
       "    </tr>\n",
       "    <tr>\n",
       "      <th>5</th>\n",
       "      <td>5</td>\n",
       "    </tr>\n",
       "    <tr>\n",
       "      <th>6</th>\n",
       "      <td>6</td>\n",
       "    </tr>\n",
       "    <tr>\n",
       "      <th>7</th>\n",
       "      <td>7</td>\n",
       "    </tr>\n",
       "    <tr>\n",
       "      <th>8</th>\n",
       "      <td>8</td>\n",
       "    </tr>\n",
       "    <tr>\n",
       "      <th>9</th>\n",
       "      <td>9</td>\n",
       "    </tr>\n",
       "  </tbody>\n",
       "</table>"
      ],
      "text/plain": [
       "<IPython.core.display.HTML object>"
      ]
     },
     "metadata": {},
     "output_type": "display_data"
    },
    {
     "data": {
      "text/html": [
       "<table border=\"1\" class=\"dataframe\">\n",
       "  <thead>\n",
       "    <tr style=\"text-align: right;\">\n",
       "      <th></th>\n",
       "      <th>id</th>\n",
       "      <th>title</th>\n",
       "      <th>group</th>\n",
       "      <th>salesrank</th>\n",
       "      <th>reviews</th>\n",
       "    </tr>\n",
       "  </thead>\n",
       "  <tbody>\n",
       "    <tr>\n",
       "      <th>0</th>\n",
       "      <td>1</td>\n",
       "      <td>Patterns of Preaching: A Sermon Sampler</td>\n",
       "      <td>book</td>\n",
       "      <td>396585</td>\n",
       "      <td>5.0</td>\n",
       "    </tr>\n",
       "    <tr>\n",
       "      <th>1</th>\n",
       "      <td>2</td>\n",
       "      <td>Candlemas: Feast of Flames</td>\n",
       "      <td>book</td>\n",
       "      <td>168596</td>\n",
       "      <td>4.5</td>\n",
       "    </tr>\n",
       "    <tr>\n",
       "      <th>2</th>\n",
       "      <td>3</td>\n",
       "      <td>World War II Allied Fighter Planes Trading Cards</td>\n",
       "      <td>book</td>\n",
       "      <td>1270652</td>\n",
       "      <td>5.0</td>\n",
       "    </tr>\n",
       "    <tr>\n",
       "      <th>3</th>\n",
       "      <td>4</td>\n",
       "      <td>Life Application Bible Commentary: 1 and 2 Timothy and Titus</td>\n",
       "      <td>book</td>\n",
       "      <td>631289</td>\n",
       "      <td>4.0</td>\n",
       "    </tr>\n",
       "    <tr>\n",
       "      <th>4</th>\n",
       "      <td>5</td>\n",
       "      <td>Prayers That Avail Much for Business: Executive</td>\n",
       "      <td>book</td>\n",
       "      <td>455160</td>\n",
       "      <td>0.0</td>\n",
       "    </tr>\n",
       "    <tr>\n",
       "      <th>5</th>\n",
       "      <td>6</td>\n",
       "      <td>How the Other Half Lives: Studies Among the Tenements of New York</td>\n",
       "      <td>book</td>\n",
       "      <td>188784</td>\n",
       "      <td>4.0</td>\n",
       "    </tr>\n",
       "    <tr>\n",
       "      <th>6</th>\n",
       "      <td>7</td>\n",
       "      <td>Batik</td>\n",
       "      <td>music</td>\n",
       "      <td>5392</td>\n",
       "      <td>4.5</td>\n",
       "    </tr>\n",
       "    <tr>\n",
       "      <th>7</th>\n",
       "      <td>8</td>\n",
       "      <td>Losing Matt Shepard</td>\n",
       "      <td>book</td>\n",
       "      <td>277409</td>\n",
       "      <td>4.5</td>\n",
       "    </tr>\n",
       "    <tr>\n",
       "      <th>8</th>\n",
       "      <td>9</td>\n",
       "      <td>Making Bread: The Taste of Traditional Home-Baking</td>\n",
       "      <td>book</td>\n",
       "      <td>949166</td>\n",
       "      <td>0.0</td>\n",
       "    </tr>\n",
       "    <tr>\n",
       "      <th>9</th>\n",
       "      <td>10</td>\n",
       "      <td>The Edward Said Reader</td>\n",
       "      <td>book</td>\n",
       "      <td>220379</td>\n",
       "      <td>4.0</td>\n",
       "    </tr>\n",
       "  </tbody>\n",
       "</table>"
      ],
      "text/plain": [
       "<IPython.core.display.HTML object>"
      ]
     },
     "metadata": {},
     "output_type": "display_data"
    }
   ],
   "source": [
    "display(HTML(df_edges.head(10).to_html()))\n",
    "display(HTML(df_vertices.head(10).to_html()))\n",
    "display(HTML(df_meta.head(10).to_html()))"
   ]
  },
  {
   "cell_type": "code",
   "execution_count": 8,
   "metadata": {},
   "outputs": [],
   "source": [
    "# could take 1 min\n",
    "vertices_no_meta = spark.createDataFrame(df_vertices, list(df_vertices.columns.values))\n",
    "edges = spark.createDataFrame(df_edges, list(df_edges.columns.values))\n",
    "meta = spark.createDataFrame(df_meta, list(df_meta.columns.values))"
   ]
  },
  {
   "cell_type": "code",
   "execution_count": 9,
   "metadata": {},
   "outputs": [
    {
     "name": "stderr",
     "output_type": "stream",
     "text": [
      "21/10/21 19:09:31 WARN TaskSetManager: Stage 1 contains a task of very large size (4915 KiB). The maximum recommended task size is 1000 KiB.\n",
      "[Stage 1:>                                                          (0 + 8) / 8]\r"
     ]
    },
    {
     "name": "stdout",
     "output_type": "stream",
     "text": [
      "+----+--------------------+-----+---------+-------+\n",
      "|  id|               title|group|salesrank|reviews|\n",
      "+----+--------------------+-----+---------+-------+\n",
      "|  26|      Chicken Little| book|   242571|    4.0|\n",
      "|  29|Advanced Pediatri...| book|   677416|    0.0|\n",
      "| 474|Bad Aboriginal Ar...| book|   714825|    5.0|\n",
      "| 964|Outsmarting the S...| book|   536872|    4.5|\n",
      "|1677|Robert Louis Stev...|  dvd|    26035|    4.0|\n",
      "|1697|Experiences in Mo...| book|   695386|    0.0|\n",
      "|1806|Black Stallion an...| book|    71706|    5.0|\n",
      "|1950|Applied Blood Gro...| book|   985020|    5.0|\n",
      "|2040|The Minority Repo...| book|   326911|    4.5|\n",
      "|2214|The Arts of the S...| book|   923205|    4.0|\n",
      "|2250|         Yummy Yummy|music|   170306|    4.5|\n",
      "|2453|  Gourmet Paris 2002| book|   900117|    5.0|\n",
      "|2509|Girls, Delinquenc...| book|   559169|    5.0|\n",
      "|2529|When You look Lik...| book|   667405|    5.0|\n",
      "|2927|The Art of Outdoo...| book|   299959|    4.5|\n",
      "|3091|Blue Moon Cat: Li...|music|   379772|    2.0|\n",
      "|3506|Fire on the Beach...| book|   578290|    4.0|\n",
      "|3764|English and Itali...|music|    62300|    4.0|\n",
      "|4590|Must There Be Sca...| book|   530330|    0.0|\n",
      "|4823|Upgrading and Rep...| book|   942038|    4.0|\n",
      "+----+--------------------+-----+---------+-------+\n",
      "only showing top 20 rows\n",
      "\n"
     ]
    },
    {
     "name": "stderr",
     "output_type": "stream",
     "text": [
      "\r",
      "                                                                                \r"
     ]
    }
   ],
   "source": [
    "vertices = \\\n",
    "    vertices_no_meta.\\\n",
    "    join(meta, vertices_no_meta[\"id\"] == meta[\"id\"], \"inner\").\\\n",
    "    drop(meta.id)\n",
    "\n",
    "vertices.show()"
   ]
  },
  {
   "cell_type": "code",
   "execution_count": 10,
   "metadata": {},
   "outputs": [],
   "source": [
    "g = GraphFrame(vertices, edges)"
   ]
  },
  {
   "cell_type": "code",
   "execution_count": 11,
   "metadata": {},
   "outputs": [
    {
     "name": "stderr",
     "output_type": "stream",
     "text": [
      "21/10/21 19:09:32 WARN TaskSetManager: Stage 3 contains a task of very large size (4915 KiB). The maximum recommended task size is 1000 KiB.\n",
      "[Stage 3:=======>           (3 + 5) / 8][Stage 4:>                  (0 + 4) / 8]\r"
     ]
    },
    {
     "name": "stdout",
     "output_type": "stream",
     "text": [
      "+----+--------------------+-----+---------+-------+\n",
      "|  id|               title|group|salesrank|reviews|\n",
      "+----+--------------------+-----+---------+-------+\n",
      "|  26|      Chicken Little| book|   242571|    4.0|\n",
      "|  29|Advanced Pediatri...| book|   677416|    0.0|\n",
      "| 474|Bad Aboriginal Ar...| book|   714825|    5.0|\n",
      "| 964|Outsmarting the S...| book|   536872|    4.5|\n",
      "|1677|Robert Louis Stev...|  dvd|    26035|    4.0|\n",
      "|1697|Experiences in Mo...| book|   695386|    0.0|\n",
      "|1806|Black Stallion an...| book|    71706|    5.0|\n",
      "|1950|Applied Blood Gro...| book|   985020|    5.0|\n",
      "|2040|The Minority Repo...| book|   326911|    4.5|\n",
      "|2214|The Arts of the S...| book|   923205|    4.0|\n",
      "|2250|         Yummy Yummy|music|   170306|    4.5|\n",
      "|2453|  Gourmet Paris 2002| book|   900117|    5.0|\n",
      "|2509|Girls, Delinquenc...| book|   559169|    5.0|\n",
      "|2529|When You look Lik...| book|   667405|    5.0|\n",
      "|2927|The Art of Outdoo...| book|   299959|    4.5|\n",
      "|3091|Blue Moon Cat: Li...|music|   379772|    2.0|\n",
      "|3506|Fire on the Beach...| book|   578290|    4.0|\n",
      "|3764|English and Itali...|music|    62300|    4.0|\n",
      "|4590|Must There Be Sca...| book|   530330|    0.0|\n",
      "|4823|Upgrading and Rep...| book|   942038|    4.0|\n",
      "+----+--------------------+-----+---------+-------+\n",
      "only showing top 20 rows\n",
      "\n",
      "+---+---+\n",
      "|src|dst|\n",
      "+---+---+\n",
      "|  0|  1|\n",
      "|  0|  2|\n",
      "|  0|  3|\n",
      "|  0|  4|\n",
      "|  0|  5|\n",
      "|  1|  0|\n",
      "|  1|  2|\n",
      "|  1|  4|\n",
      "|  1|  5|\n",
      "|  1| 15|\n",
      "|  2|  0|\n",
      "|  2| 11|\n",
      "|  2| 12|\n",
      "|  2| 13|\n",
      "|  2| 14|\n",
      "|  3| 63|\n",
      "|  3| 64|\n",
      "|  3| 65|\n",
      "|  3| 66|\n",
      "|  3| 67|\n",
      "+---+---+\n",
      "only showing top 20 rows\n",
      "\n"
     ]
    },
    {
     "name": "stderr",
     "output_type": "stream",
     "text": [
      "\r",
      "[Stage 4:====================================>                      (5 + 3) / 8]\r",
      "\r",
      "                                                                                \r",
      "21/10/21 19:09:33 WARN TaskSetManager: Stage 6 contains a task of very large size (1204 KiB). The maximum recommended task size is 1000 KiB.\n"
     ]
    }
   ],
   "source": [
    "g.vertices.show()\n",
    "g.edges.show()"
   ]
  },
  {
   "cell_type": "code",
   "execution_count": 12,
   "metadata": {},
   "outputs": [
    {
     "name": "stderr",
     "output_type": "stream",
     "text": [
      "21/10/21 19:09:34 WARN TaskSetManager: Stage 8 contains a task of very large size (4915 KiB). The maximum recommended task size is 1000 KiB.\n",
      "                                                                                \r"
     ]
    },
    {
     "name": "stdout",
     "output_type": "stream",
     "text": [
      "(259168, 5)\n"
     ]
    },
    {
     "name": "stderr",
     "output_type": "stream",
     "text": [
      "21/10/21 19:09:36 WARN TaskSetManager: Stage 11 contains a task of very large size (1204 KiB). The maximum recommended task size is 1000 KiB.\n"
     ]
    },
    {
     "name": "stdout",
     "output_type": "stream",
     "text": [
      "(1234877, 2)\n"
     ]
    }
   ],
   "source": [
    "print((g.vertices.count(), len(g.vertices.columns)))\n",
    "print((g.edges.count(), len(g.edges.columns)))"
   ]
  },
  {
   "cell_type": "code",
   "execution_count": 13,
   "metadata": {},
   "outputs": [
    {
     "name": "stderr",
     "output_type": "stream",
     "text": [
      "21/10/21 19:09:37 WARN TaskSetManager: Stage 13 contains a task of very large size (1204 KiB). The maximum recommended task size is 1000 KiB.\n",
      "21/10/21 19:09:38 WARN TaskSetManager: Stage 15 contains a task of very large size (1204 KiB). The maximum recommended task size is 1000 KiB.\n"
     ]
    },
    {
     "name": "stdout",
     "output_type": "stream",
     "text": [
      "+----+------+\n",
      "|  id|degree|\n",
      "+----+------+\n",
      "|  26|    17|\n",
      "|  29|    45|\n",
      "| 474|     4|\n",
      "|1677|    13|\n",
      "|1697|     7|\n",
      "| 964|    13|\n",
      "|1806|    18|\n",
      "|1950|     9|\n",
      "|2453|     8|\n",
      "|3091|     8|\n",
      "|2040|     6|\n",
      "|3506|    15|\n",
      "|2214|    24|\n",
      "|2250|     9|\n",
      "|5385|     9|\n",
      "|7225|    13|\n",
      "|2509|     6|\n",
      "|5409|    14|\n",
      "|2529|    18|\n",
      "|2927|     7|\n",
      "+----+------+\n",
      "only showing top 20 rows\n",
      "\n"
     ]
    },
    {
     "name": "stderr",
     "output_type": "stream",
     "text": [
      "\r",
      "[Stage 15:>                                                         (0 + 8) / 8]\r",
      "\r",
      "                                                                                \r",
      "21/10/21 19:09:39 WARN TaskSetManager: Stage 17 contains a task of very large size (1204 KiB). The maximum recommended task size is 1000 KiB.\n"
     ]
    },
    {
     "name": "stdout",
     "output_type": "stream",
     "text": [
      "+----+--------+\n",
      "|  id|inDegree|\n",
      "+----+--------+\n",
      "|  26|      12|\n",
      "|  29|      40|\n",
      "| 474|       4|\n",
      "|1677|       8|\n",
      "|1697|       2|\n",
      "| 964|       8|\n",
      "|1806|      13|\n",
      "|1950|       4|\n",
      "|2453|       3|\n",
      "|3091|       3|\n",
      "|2040|       1|\n",
      "|3506|      10|\n",
      "|2214|      19|\n",
      "|2250|       4|\n",
      "|5385|       4|\n",
      "|7225|       8|\n",
      "|2509|       1|\n",
      "|5409|       9|\n",
      "|2529|      13|\n",
      "|2927|       2|\n",
      "+----+--------+\n",
      "only showing top 20 rows\n",
      "\n",
      "+----+---------+\n",
      "|  id|outDegree|\n",
      "+----+---------+\n",
      "|  26|        5|\n",
      "|  29|        5|\n",
      "| 964|        5|\n",
      "|1677|        5|\n",
      "|1697|        5|\n",
      "|1806|        5|\n",
      "|1950|        5|\n",
      "|2040|        5|\n",
      "|2214|        5|\n",
      "|2250|        5|\n",
      "|2453|        5|\n",
      "|2509|        5|\n",
      "|2529|        5|\n",
      "|2927|        5|\n",
      "|3091|        5|\n",
      "|3506|        5|\n",
      "|3764|        5|\n",
      "|4590|        5|\n",
      "|4823|        5|\n",
      "|4894|        5|\n",
      "+----+---------+\n",
      "only showing top 20 rows\n",
      "\n"
     ]
    }
   ],
   "source": [
    "g.degrees.show()\n",
    "g.inDegrees.show()\n",
    "g.outDegrees.show()"
   ]
  },
  {
   "cell_type": "code",
   "execution_count": 37,
   "metadata": {},
   "outputs": [
    {
     "name": "stderr",
     "output_type": "stream",
     "text": [
      "21/10/21 19:19:28 WARN TaskSetManager: Stage 537 contains a task of very large size (1204 KiB). The maximum recommended task size is 1000 KiB.\n"
     ]
    },
    {
     "data": {
      "image/png": "[encoded data removed]",
      "text/plain": [
       "<Figure size 2160x1080 with 1 Axes>"
      ]
     },
     "metadata": {},
     "output_type": "display_data"
    }
   ],
   "source": [
    "def plot_graph(edges, path_fig=None, take_n=300):\n",
    "    Gplot=nx.Graph()\n",
    "    for row in edges.select(\"src\", \"dst\").take(take_n):\n",
    "        Gplot.add_edge(row[\"src\"],row[\"dst\"])\n",
    "\n",
    "    plt.figure(figsize=(30,15))\n",
    "    plt.subplot(121)\n",
    "    nx.draw(Gplot, with_labels=True, arrows=True)\n",
    "    \n",
    "    if path_fig is not None:\n",
    "        plt.savefig(path_fig)\n",
    "    else:\n",
    "        pass\n",
    "\n",
    "take_n = 200\n",
    "path_fig = f\"assets/graph_viz_n_{take_n}.png\"\n",
    "plot_graph(g.edges, path_fig=path_fig, take_n=take_n)"
   ]
  },
  {
   "cell_type": "code",
   "execution_count": 15,
   "metadata": {},
   "outputs": [
    {
     "name": "stderr",
     "output_type": "stream",
     "text": [
      "21/10/21 19:09:41 WARN TaskSetManager: Stage 20 contains a task of very large size (1204 KiB). The maximum recommended task size is 1000 KiB.\n"
     ]
    },
    {
     "name": "stdout",
     "output_type": "stream",
     "text": [
      "+----+------+\n",
      "|  id|degree|\n",
      "+----+------+\n",
      "|  26|    17|\n",
      "|  29|    45|\n",
      "| 474|     4|\n",
      "|1677|    13|\n",
      "|1697|     7|\n",
      "| 964|    13|\n",
      "|1806|    18|\n",
      "|1950|     9|\n",
      "|2453|     8|\n",
      "|3091|     8|\n",
      "|2040|     6|\n",
      "|3506|    15|\n",
      "|2214|    24|\n",
      "|2250|     9|\n",
      "|5385|     9|\n",
      "|7225|    13|\n",
      "|2509|     6|\n",
      "|5409|    14|\n",
      "|2529|    18|\n",
      "|2927|     7|\n",
      "+----+------+\n",
      "only showing top 20 rows\n",
      "\n"
     ]
    },
    {
     "name": "stderr",
     "output_type": "stream",
     "text": [
      "\r",
      "[Stage 20:>                                                         (0 + 8) / 8]\r",
      "\r",
      "                                                                                \r"
     ]
    }
   ],
   "source": [
    "g.degrees.show()"
   ]
  },
  {
   "cell_type": "code",
   "execution_count": 16,
   "metadata": {},
   "outputs": [
    {
     "name": "stderr",
     "output_type": "stream",
     "text": [
      "21/10/21 19:09:42 WARN TaskSetManager: Stage 22 contains a task of very large size (1204 KiB). The maximum recommended task size is 1000 KiB.\n",
      "21/10/21 19:09:43 WARN TaskSetManager: Stage 24 contains a task of very large size (1204 KiB). The maximum recommended task size is 1000 KiB.\n"
     ]
    },
    {
     "name": "stdout",
     "output_type": "stream",
     "text": [
      "+-----+------+\n",
      "|   id|degree|\n",
      "+-----+------+\n",
      "|14949|   425|\n",
      "| 4429|   409|\n",
      "|   33|   366|\n",
      "|10519|   339|\n",
      "|12771|   335|\n",
      "|    8|   298|\n",
      "|  297|   280|\n",
      "|  481|   280|\n",
      "| 5737|   277|\n",
      "| 9106|   232|\n",
      "| 8939|   226|\n",
      "|   93|   224|\n",
      "| 1241|   223|\n",
      "| 5765|   214|\n",
      "| 2501|   196|\n",
      "|   99|   193|\n",
      "| 3661|   186|\n",
      "| 2353|   184|\n",
      "|  244|   184|\n",
      "|17525|   180|\n",
      "+-----+------+\n",
      "only showing top 20 rows\n",
      "\n"
     ]
    },
    {
     "name": "stderr",
     "output_type": "stream",
     "text": [
      "\r",
      "[Stage 24:=====================>                                    (3 + 5) / 8]\r"
     ]
    },
    {
     "name": "stdout",
     "output_type": "stream",
     "text": [
      "+-----+------+\n",
      "|   id|degree|\n",
      "+-----+------+\n",
      "|14949|   425|\n",
      "| 4429|   409|\n",
      "|   33|   366|\n",
      "|10519|   339|\n",
      "|12771|   335|\n",
      "|    8|   298|\n",
      "|  297|   280|\n",
      "|  481|   280|\n",
      "| 5737|   277|\n",
      "| 9106|   232|\n",
      "| 8939|   226|\n",
      "|   93|   224|\n",
      "| 1241|   223|\n",
      "| 5765|   214|\n",
      "| 2501|   196|\n",
      "|   99|   193|\n",
      "| 3661|   186|\n",
      "| 2353|   184|\n",
      "|  244|   184|\n",
      "|17525|   180|\n",
      "+-----+------+\n",
      "only showing top 20 rows\n",
      "\n"
     ]
    },
    {
     "name": "stderr",
     "output_type": "stream",
     "text": [
      "\r",
      "                                                                                \r"
     ]
    }
   ],
   "source": [
    "from pyspark.sql.functions import desc\n",
    "\n",
    "g.degrees.sort(desc(\"degree\")).show()\n",
    "g.degrees.sort(desc(\"degree\")).show()"
   ]
  },
  {
   "cell_type": "code",
   "execution_count": 17,
   "metadata": {},
   "outputs": [
    {
     "name": "stderr",
     "output_type": "stream",
     "text": [
      "21/10/21 19:09:45 WARN TaskSetManager: Stage 26 contains a task of very large size (1204 KiB). The maximum recommended task size is 1000 KiB.\n",
      "21/10/21 19:09:45 WARN TaskSetManager: Stage 27 contains a task of very large size (1204 KiB). The maximum recommended task size is 1000 KiB.\n",
      "21/10/21 19:09:46 WARN TaskSetManager: Stage 28 contains a task of very large size (1204 KiB). The maximum recommended task size is 1000 KiB.\n",
      "                                                                                \r"
     ]
    },
    {
     "name": "stdout",
     "output_type": "stream",
     "text": [
      "+-----+------+--------+---------+\n",
      "|   id|degree|inDegree|outDegree|\n",
      "+-----+------+--------+---------+\n",
      "|14949|   425|     420|        5|\n",
      "| 4429|   409|     404|        5|\n",
      "|   33|   366|     361|        5|\n",
      "|10519|   339|     334|        5|\n",
      "|12771|   335|     330|        5|\n",
      "|    8|   298|     293|        5|\n",
      "|  481|   280|     275|        5|\n",
      "|  297|   280|     280|        0|\n",
      "| 5737|   277|     272|        5|\n",
      "| 9106|   232|     227|        5|\n",
      "| 8939|   226|     221|        5|\n",
      "|   93|   224|     219|        5|\n",
      "| 1241|   223|     218|        5|\n",
      "| 5765|   214|     209|        5|\n",
      "| 2501|   196|     191|        5|\n",
      "|   99|   193|     188|        5|\n",
      "| 3661|   186|     181|        5|\n",
      "| 2353|   184|     179|        5|\n",
      "|  244|   184|     179|        5|\n",
      "|17525|   180|     175|        5|\n",
      "+-----+------+--------+---------+\n",
      "only showing top 20 rows\n",
      "\n"
     ]
    }
   ],
   "source": [
    "degrees_df = \\\n",
    "    g.degrees.\\\n",
    "    join(g.inDegrees, g.degrees[\"id\"] == g.inDegrees[\"id\"], \"outer\").\\\n",
    "    join(g.outDegrees, g.degrees[\"id\"] == g.outDegrees[\"id\"], \"outer\").\\\n",
    "    drop(g.outDegrees.id).\\\n",
    "    drop(g.inDegrees.id).\\\n",
    "    na.fill(0)\n",
    "\n",
    "degrees_df.sort(desc(\"degree\")).show()"
   ]
  },
  {
   "cell_type": "code",
   "execution_count": 18,
   "metadata": {},
   "outputs": [
    {
     "name": "stderr",
     "output_type": "stream",
     "text": [
      "21/10/21 19:09:49 WARN TaskSetManager: Stage 31 contains a task of very large size (1204 KiB). The maximum recommended task size is 1000 KiB.\n",
      "21/10/21 19:09:49 WARN TaskSetManager: Stage 32 contains a task of very large size (1204 KiB). The maximum recommended task size is 1000 KiB.\n",
      "21/10/21 19:09:50 WARN TaskSetManager: Stage 33 contains a task of very large size (1204 KiB). The maximum recommended task size is 1000 KiB.\n",
      "21/10/21 19:09:54 WARN TaskSetManager: Stage 36 contains a task of very large size (1204 KiB). The maximum recommended task size is 1000 KiB.\n",
      "21/10/21 19:09:55 WARN TaskSetManager: Stage 37 contains a task of very large size (1204 KiB). The maximum recommended task size is 1000 KiB.\n",
      "21/10/21 19:09:55 WARN TaskSetManager: Stage 39 contains a task of very large size (1204 KiB). The maximum recommended task size is 1000 KiB.\n",
      "21/10/21 19:09:58 WARN TaskSetManager: Stage 41 contains a task of very large size (1204 KiB). The maximum recommended task size is 1000 KiB.\n",
      "21/10/21 19:09:59 WARN TaskSetManager: Stage 42 contains a task of very large size (1204 KiB). The maximum recommended task size is 1000 KiB.\n",
      "21/10/21 19:09:59 WARN TaskSetManager: Stage 43 contains a task of very large size (1204 KiB). The maximum recommended task size is 1000 KiB.\n",
      "                                                                                \r"
     ]
    }
   ],
   "source": [
    "degrees_list = [int(d.degree) for d in degrees_df.select('degree').collect()]\n",
    "in_degree_list = [int(d.inDegree) for d in degrees_df.select('inDegree').collect()]\n",
    "out_degree_list = [int(d.outDegree) for d in degrees_df.select('outDegree').collect()]"
   ]
  },
  {
   "cell_type": "code",
   "execution_count": 19,
   "metadata": {},
   "outputs": [],
   "source": [
    "def plot_n_nodes_vs_degree(x, n_bins, x_step, yscale, ylabel, xlabel, title, save_path=None):\n",
    "    plt.figure(figsize=(10, 5))\n",
    "    plt.hist(x, bins=n_bins)\n",
    "    assert yscale in [\"log\", \"linear\"]\n",
    "    plt.yscale(yscale)\n",
    "    plt.grid(\"on\")\n",
    "    plt.xticks(np.arange(min(x)-1, max(x)+x_step, x_step))\n",
    "    plt.ylabel(ylabel)\n",
    "    plt.xlabel(xlabel)\n",
    "    plt.title(title)\n",
    "    \n",
    "    if save_path is not None:\n",
    "        plt.savefig(save_path)\n",
    "    else:\n",
    "        pass\n",
    "    \n",
    "    plt.show()"
   ]
  },
  {
   "cell_type": "code",
   "execution_count": 20,
   "metadata": {},
   "outputs": [
    {
     "data": {
      "image/png": "[encoded data removed]",
      "text/plain": [
       "<Figure size 720x360 with 1 Axes>"
      ]
     },
     "metadata": {
      "needs_background": "light"
     },
     "output_type": "display_data"
    }
   ],
   "source": [
    "x = degrees_list\n",
    "n_bins = 200\n",
    "x_step = 20\n",
    "yscale = \"log\"\n",
    "ylabel = \"Number of Nodes on log-scale [unit]\"\n",
    "xlabel = \"Node Degree [unit]\"\n",
    "title = \"Number of Nodes vs. Node Degree\"\n",
    "save_path = \"assets/n_nodes_vs_degree.png\"\n",
    "\n",
    "plot_n_nodes_vs_degree(\n",
    "    x=x, \n",
    "    n_bins=n_bins, \n",
    "    x_step=x_step,\n",
    "    yscale=yscale,\n",
    "    ylabel=ylabel, \n",
    "    xlabel=xlabel, \n",
    "    title=title, \n",
    "    save_path=save_path)"
   ]
  },
  {
   "cell_type": "code",
   "execution_count": 21,
   "metadata": {},
   "outputs": [
    {
     "data": {
      "image/png": "[encoded data removed]",
      "text/plain": [
       "<Figure size 720x360 with 1 Axes>"
      ]
     },
     "metadata": {
      "needs_background": "light"
     },
     "output_type": "display_data"
    }
   ],
   "source": [
    "x = in_degree_list\n",
    "n_bins = 200\n",
    "x_step = 20\n",
    "yscale = \"log\"\n",
    "ylabel = \"Number of Nodes on log-scale [unit]\"\n",
    "xlabel = \"Node In-Degree [unit]\"\n",
    "title = \"Number of Nodes vs. Node In-Degree\"\n",
    "save_path = \"assets/n_nodes_vs_in_degree.png\"\n",
    "\n",
    "plot_n_nodes_vs_degree(\n",
    "    x=x, \n",
    "    n_bins=n_bins, \n",
    "    x_step=x_step,\n",
    "    yscale=yscale,\n",
    "    ylabel=ylabel, \n",
    "    xlabel=xlabel, \n",
    "    title=title, \n",
    "    save_path=save_path)"
   ]
  },
  {
   "cell_type": "code",
   "execution_count": 22,
   "metadata": {},
   "outputs": [
    {
     "data": {
      "image/png": "[encoded data removed]",
      "text/plain": [
       "<Figure size 720x360 with 1 Axes>"
      ]
     },
     "metadata": {
      "needs_background": "light"
     },
     "output_type": "display_data"
    }
   ],
   "source": [
    "x = out_degree_list\n",
    "n_bins = 20\n",
    "x_step = 1\n",
    "yscale = \"linear\"\n",
    "ylabel = \"Number of Nodes on log-scale [unit]\"\n",
    "xlabel = \"Node Out-Degree [unit]\"\n",
    "title = \"Number of Nodes vs. Node Out-Degree\"\n",
    "save_path = \"assets/n_nodes_vs_out_degree.png\"\n",
    "\n",
    "plot_n_nodes_vs_degree(\n",
    "    x=x, \n",
    "    n_bins=n_bins, \n",
    "    x_step=x_step,\n",
    "    yscale=yscale,\n",
    "    ylabel=ylabel, \n",
    "    xlabel=xlabel, \n",
    "    title=title, \n",
    "    save_path=save_path)"
   ]
  },
  {
   "cell_type": "code",
   "execution_count": null,
   "metadata": {},
   "outputs": [],
   "source": []
  },
  {
   "cell_type": "code",
   "execution_count": 23,
   "metadata": {},
   "outputs": [
    {
     "name": "stderr",
     "output_type": "stream",
     "text": [
      "21/10/21 19:10:07 WARN TaskSetManager: Stage 47 contains a task of very large size (4915 KiB). The maximum recommended task size is 1000 KiB.\n",
      "21/10/21 19:10:08 WARN TaskSetManager: Stage 49 contains a task of very large size (1204 KiB). The maximum recommended task size is 1000 KiB.\n",
      "21/10/21 19:10:12 WARN TaskSetManager: Stage 53 contains a task of very large size (1204 KiB). The maximum recommended task size is 1000 KiB.\n",
      "[Stage 52:================================================>     (178 + 8) / 200]\r"
     ]
    },
    {
     "name": "stdout",
     "output_type": "stream",
     "text": [
      "+--------------------+------------+--------------------+------------+\n",
      "|                   a|           e|                   b|          e2|\n",
      "+--------------------+------------+--------------------+------------+\n",
      "|{19, Ultimate Mar...|     {19, 4}|{4, Life Applicat...|     {4, 19}|\n",
      "|{96, Becoming a C...|    {96, 56}|{56, Three Bricks...|    {56, 96}|\n",
      "|{90, The Eagle Ha...|   {90, 172}|{172, Cherokee Ba...|   {172, 90}|\n",
      "|{198, Imitation o...|  {198, 232}|{232, Review of V...|  {232, 198}|\n",
      "|{266, Antique Gol...|  {266, 267}|{267, Unwinnable ...|  {267, 266}|\n",
      "|{1187, Jedit (Leg...| {1187, 453}|{453, The Insider...| {453, 1187}|\n",
      "|{1690, What If, b...| {1690, 511}|{511, Business St...| {511, 1690}|\n",
      "|{166, In the Arms...|  {166, 619}|{619, Testifyin'!...|  {619, 166}|\n",
      "|{560, Simply Gran...|  {560, 814}|{814, Ev'Ry Time ...|  {814, 560}|\n",
      "|{1796, Craig Shoe...| {1796, 849}|{849, Toxics A to...| {849, 1796}|\n",
      "|{1385, Inimitable...| {1385, 953}|{953, El devocion...| {953, 1385}|\n",
      "|{2637, Footprint ...| {2637, 967}|{967, Convergent ...| {967, 2637}|\n",
      "|{654, The Real Ru...| {654, 1267}|{1267, Starvenger...| {1267, 654}|\n",
      "|{1178, Trouble in...|{1178, 1313}|{1313, Basic Trai...|{1313, 1178}|\n",
      "|{874, Dream Carve...| {874, 1347}|{1347, Serenity o...| {1347, 874}|\n",
      "|{942, Queen of th...| {942, 1384}|{1384, Che in Afr...| {1384, 942}|\n",
      "|{1126, Where Is T...|{1126, 1457}|{1457, Feel the W...|{1457, 1126}|\n",
      "|{1171, Relationsh...|{1171, 1475}|{1475, Best Easy ...|{1475, 1171}|\n",
      "|{5280, Fly Fishin...|{5280, 1558}|{1558, Ceramics, ...|{1558, 5280}|\n",
      "|{2488, Double Edg...|{2488, 1563}|{1563, Managing A...|{1563, 2488}|\n",
      "+--------------------+------------+--------------------+------------+\n",
      "only showing top 20 rows\n",
      "\n"
     ]
    },
    {
     "name": "stderr",
     "output_type": "stream",
     "text": [
      "\r",
      "[Stage 52:====================================================> (195 + 5) / 200]\r",
      "\r",
      "                                                                                \r"
     ]
    }
   ],
   "source": [
    "motifs = g.find(\"(a)-[e]->(b); (b)-[e2]->(a)\")\n",
    "motifs.show()"
   ]
  },
  {
   "cell_type": "code",
   "execution_count": 24,
   "metadata": {},
   "outputs": [
    {
     "name": "stderr",
     "output_type": "stream",
     "text": [
      "21/10/21 19:10:17 WARN TaskSetManager: Stage 66 contains a task of very large size (1204 KiB). The maximum recommended task size is 1000 KiB.\n",
      "21/10/21 19:10:17 WARN TaskSetManager: Stage 55 contains a task of very large size (4915 KiB). The maximum recommended task size is 1000 KiB.\n",
      "21/10/21 19:10:18 WARN TaskSetManager: Stage 58 contains a task of very large size (1204 KiB). The maximum recommended task size is 1000 KiB.\n",
      "21/10/21 19:10:22 WARN TaskSetManager: Stage 61 contains a task of very large size (1204 KiB). The maximum recommended task size is 1000 KiB.\n",
      "21/10/21 19:10:27 WARN TaskSetManager: Stage 65 contains a task of very large size (1204 KiB). The maximum recommended task size is 1000 KiB.\n",
      "[Stage 68:=====================================================>(198 + 2) / 200]\r"
     ]
    },
    {
     "name": "stdout",
     "output_type": "stream",
     "text": [
      "+--------------------+--------------------+--------------------+\n",
      "|                   a|              mutual|                   c|\n",
      "+--------------------+--------------------+--------------------+\n",
      "|{3656, Trouble wi...|{2777, Starting W...|{2773, The Diabet...|\n",
      "|{20006, GIRLS TO ...|{21752, The Hidde...|{39066, Pagan Kid...|\n",
      "|{29655, How to Dr...|{22965, The Exist...|{29653, Cape May ...|\n",
      "|{32555, Macromedi...|{32557, All the R...|{32556, Comigo - ...|\n",
      "|{52531, Live Psal...|{38877, Red Smith...|{52532, An Atlas ...|\n",
      "|{108011, Eyewitne...|{41110, A Perfect...|{108011, Eyewitne...|\n",
      "|{43387, Samoyed C...|{43388, John D. R...|{48744, In My Lif...|\n",
      "|{80655, Relativit...|{44094, Magic Mir...|{24749, Disintegr...|\n",
      "|{68477, The Shy C...|{44472, Race, Cla...|{68477, The Shy C...|\n",
      "|{40398, Poem of t...|{47306, What's Co...|{61235, An Elusiv...|\n",
      "|{50857, Sair Linu...|{50859, Brian's S...|{50858, Don't Die...|\n",
      "|{48241, The Sunsh...|{65144, Sun Kisse...|{65145, Live Set,...|\n",
      "|{63877, Coral Fis...|{71135, The Plagu...|{71134, Parametri...|\n",
      "|{82482, Everyday ...|{82483, Crowtet 1...|{78952, A Place T...|\n",
      "|{86751, Vadose Zo...|{100481, Handbook...|{145130, The Talk...|\n",
      "|{127092, Applied ...|{105152, Secrets ...|{127093, Best of ...|\n",
      "|{72132, Managemen...|{106177, George S...|{165728, Tulagi, ...|\n",
      "|{99760, How to Wr...|{115921, Froggy's...|{138665, Art of V...|\n",
      "|{133094, Mock Roc...|{116873, Albinoni...|{116871, Table of...|\n",
      "|{129471, Pitfalls...|{117209, Sharon, ...|{80612, Beethoven...|\n",
      "+--------------------+--------------------+--------------------+\n",
      "only showing top 20 rows\n",
      "\n"
     ]
    },
    {
     "name": "stderr",
     "output_type": "stream",
     "text": [
      "\r",
      "                                                                                \r"
     ]
    }
   ],
   "source": [
    "# b is mutually copurchased with a and c\n",
    "mutually_copurchased_products_df = g.find(\"(a)-[]->(mutual); (mutual)-[]->(c); (c)-[]->(mutual); (mutual)-[]->(a)\").dropDuplicates()\n",
    "mutually_copurchased_products_df.show()"
   ]
  },
  {
   "cell_type": "code",
   "execution_count": 25,
   "metadata": {},
   "outputs": [
    {
     "name": "stderr",
     "output_type": "stream",
     "text": [
      "21/10/21 19:10:45 WARN TaskSetManager: Stage 70 contains a task of very large size (1204 KiB). The maximum recommended task size is 1000 KiB.\n",
      "21/10/21 19:10:45 WARN TaskSetManager: Stage 71 contains a task of very large size (4915 KiB). The maximum recommended task size is 1000 KiB.\n",
      "21/10/21 19:10:51 WARN TaskSetManager: Stage 77 contains a task of very large size (1204 KiB). The maximum recommended task size is 1000 KiB.\n",
      "21/10/21 19:10:58 WARN TaskSetManager: Stage 81 contains a task of very large size (4915 KiB). The maximum recommended task size is 1000 KiB.\n",
      "[Stage 80:====================================================> (195 + 5) / 200]\r"
     ]
    },
    {
     "name": "stdout",
     "output_type": "stream",
     "text": [
      "+-----+----+--------------------+-----+---------+-------+\n",
      "|count|  id|               title|group|salesrank|reviews|\n",
      "+-----+----+--------------------+-----+---------+-------+\n",
      "|   19|  26|      Chicken Little| book|   242571|    4.0|\n",
      "|   48|  29|Advanced Pediatri...| book|   677416|    0.0|\n",
      "|    0| 474|Bad Aboriginal Ar...| book|   714825|    5.0|\n",
      "|    2| 964|Outsmarting the S...| book|   536872|    4.5|\n",
      "|   17|1677|Robert Louis Stev...|  dvd|    26035|    4.0|\n",
      "|    1|1697|Experiences in Mo...| book|   695386|    0.0|\n",
      "|   24|1806|Black Stallion an...| book|    71706|    5.0|\n",
      "|   10|1950|Applied Blood Gro...| book|   985020|    5.0|\n",
      "|    6|2040|The Minority Repo...| book|   326911|    4.5|\n",
      "|   21|2214|The Arts of the S...| book|   923205|    4.0|\n",
      "|    6|2250|         Yummy Yummy|music|   170306|    4.5|\n",
      "|    3|2453|  Gourmet Paris 2002| book|   900117|    5.0|\n",
      "|    4|2509|Girls, Delinquenc...| book|   559169|    5.0|\n",
      "|   23|2529|When You look Lik...| book|   667405|    5.0|\n",
      "|    4|2927|The Art of Outdoo...| book|   299959|    4.5|\n",
      "|    4|3091|Blue Moon Cat: Li...|music|   379772|    2.0|\n",
      "|   22|3506|Fire on the Beach...| book|   578290|    4.0|\n",
      "|   21|3764|English and Itali...|music|    62300|    4.0|\n",
      "|    5|4590|Must There Be Sca...| book|   530330|    0.0|\n",
      "|    1|4823|Upgrading and Rep...| book|   942038|    4.0|\n",
      "+-----+----+--------------------+-----+---------+-------+\n",
      "only showing top 20 rows\n",
      "\n"
     ]
    },
    {
     "name": "stderr",
     "output_type": "stream",
     "text": [
      "\r",
      "                                                                                \r"
     ]
    }
   ],
   "source": [
    "g.triangleCount().show()"
   ]
  },
  {
   "cell_type": "code",
   "execution_count": 26,
   "metadata": {},
   "outputs": [
    {
     "name": "stderr",
     "output_type": "stream",
     "text": [
      "21/10/21 19:11:02 WARN TaskSetManager: Stage 85 contains a task of very large size (1204 KiB). The maximum recommended task size is 1000 KiB.\n",
      "21/10/21 19:11:05 WARN TaskSetManager: Stage 83 contains a task of very large size (4915 KiB). The maximum recommended task size is 1000 KiB.\n",
      "21/10/21 19:11:06 WARN TaskSetManager: Stage 86 contains a task of very large size (1204 KiB). The maximum recommended task size is 1000 KiB.\n",
      "21/10/21 19:11:15 WARN TaskSetManager: Stage 90 contains a task of very large size (1204 KiB). The maximum recommended task size is 1000 KiB.\n",
      "21/10/21 19:11:18 WARN TaskSetManager: Stage 92 contains a task of very large size (1204 KiB). The maximum recommended task size is 1000 KiB.\n",
      "21/10/21 19:11:18 WARN TaskSetManager: Stage 102 contains a task of very large size (1204 KiB). The maximum recommended task size is 1000 KiB.\n",
      "21/10/21 19:11:19 WARN TaskSetManager: Stage 104 contains a task of very large size (1204 KiB). The maximum recommended task size is 1000 KiB.\n",
      "21/10/21 19:11:19 WARN TaskSetManager: Stage 116 contains a task of very large size (1204 KiB). The maximum recommended task size is 1000 KiB.\n",
      "21/10/21 19:11:21 WARN TaskSetManager: Stage 118 contains a task of very large size (1204 KiB). The maximum recommended task size is 1000 KiB.\n",
      "21/10/21 19:11:21 WARN TaskSetManager: Stage 132 contains a task of very large size (1204 KiB). The maximum recommended task size is 1000 KiB.\n",
      "21/10/21 19:11:22 WARN TaskSetManager: Stage 134 contains a task of very large size (1204 KiB). The maximum recommended task size is 1000 KiB.\n",
      "21/10/21 19:11:22 WARN TaskSetManager: Stage 150 contains a task of very large size (1204 KiB). The maximum recommended task size is 1000 KiB.\n",
      "21/10/21 19:11:24 WARN TaskSetManager: Stage 152 contains a task of very large size (1204 KiB). The maximum recommended task size is 1000 KiB.\n",
      "21/10/21 19:11:24 WARN TaskSetManager: Stage 170 contains a task of very large size (1204 KiB). The maximum recommended task size is 1000 KiB.\n",
      "21/10/21 19:11:25 WARN TaskSetManager: Stage 172 contains a task of very large size (1204 KiB). The maximum recommended task size is 1000 KiB.\n",
      "21/10/21 19:11:25 WARN TaskSetManager: Stage 192 contains a task of very large size (1204 KiB). The maximum recommended task size is 1000 KiB.\n",
      "21/10/21 19:11:26 WARN TaskSetManager: Stage 194 contains a task of very large size (1204 KiB). The maximum recommended task size is 1000 KiB.\n",
      "21/10/21 19:11:27 WARN TaskSetManager: Stage 216 contains a task of very large size (1204 KiB). The maximum recommended task size is 1000 KiB.\n",
      "21/10/21 19:11:28 WARN TaskSetManager: Stage 218 contains a task of very large size (1204 KiB). The maximum recommended task size is 1000 KiB.\n",
      "21/10/21 19:11:28 WARN TaskSetManager: Stage 242 contains a task of very large size (1204 KiB). The maximum recommended task size is 1000 KiB.\n",
      "21/10/21 19:11:29 WARN TaskSetManager: Stage 244 contains a task of very large size (1204 KiB). The maximum recommended task size is 1000 KiB.\n",
      "21/10/21 19:11:29 WARN TaskSetManager: Stage 270 contains a task of very large size (1204 KiB). The maximum recommended task size is 1000 KiB.\n",
      "21/10/21 19:11:30 WARN TaskSetManager: Stage 272 contains a task of very large size (1204 KiB). The maximum recommended task size is 1000 KiB.\n",
      "21/10/21 19:11:33 WARN TaskSetManager: Stage 355 contains a task of very large size (4915 KiB). The maximum recommended task size is 1000 KiB.\n",
      "[Stage 356:=====================================>               (143 + 9) / 200]\r"
     ]
    },
    {
     "name": "stdout",
     "output_type": "stream",
     "text": [
      "+----+--------------------+-----+---------+-------+------------------+\n",
      "|  id|               title|group|salesrank|reviews|          pagerank|\n",
      "+----+--------------------+-----+---------+-------+------------------+\n",
      "|  33|Double Jeopardy (...| book|    97166|    5.0|303.58111087285306|\n",
      "|  93|BizPricer¿ Busine...| book|  1485593|    0.0|269.32783595836105|\n",
      "|   8| Losing Matt Shepard| book|   277409|    4.5| 225.8263182478711|\n",
      "|  94|The American Heri...| book|   166549|    4.0| 219.0304837562053|\n",
      "|2501|The Narcissistic ...| book|     9727|    5.0|211.37991673953005|\n",
      "|4429|Harley-Davidson P...| book|   147799|    4.5|202.63908289102554|\n",
      "|  56|Three Bricks Shy ...| book|  2167012|    0.0|190.22280992057955|\n",
      "|  95|The Heavy Flak Gu...| book|  1369585|    0.0|187.62095486637583|\n",
      "| 151|Laurel & Hardy - ...|  dvd|    44671|    3.0| 182.9410781635186|\n",
      "|2353|           Committed|music|   437762|    5.0|166.59436027895453|\n",
      "|  23|Strange Fire: A N...| book|  1277867|    3.0|141.19379729540964|\n",
      "| 429|R.E.M. : Talk Abo...| book|   593242|    5.0| 136.9175218407228|\n",
      "|9106|A Touch Of Tranqu...|music|    39971|    5.0|136.10095276853414|\n",
      "|1241|  Accessible Physics| book|  2924393|    0.0| 125.1496979528028|\n",
      "|3589|  I Was Aboard a Ufo| book|  2447342|    3.0|124.73402159816536|\n",
      "| 481|A Major Case: A N...| book|  2860756|    4.5|118.91234729007002|\n",
      "| 449|Audubon 365 Birds...| book|   741634|    0.0|113.58967789206974|\n",
      "|  21|    The Time Machine|  dvd|      795|    4.5|105.38506746272759|\n",
      "|8458|Making Their Own ...| book|   145243|    5.0|101.75832955290319|\n",
      "|  13|Clockwork Worlds ...| book|  2895088|    0.0|100.94588926208901|\n",
      "+----+--------------------+-----+---------+-------+------------------+\n",
      "only showing top 20 rows\n",
      "\n"
     ]
    },
    {
     "name": "stderr",
     "output_type": "stream",
     "text": [
      "\r",
      "[Stage 356:=================================================>   (187 + 8) / 200]\r",
      "\r",
      "                                                                                \r"
     ]
    }
   ],
   "source": [
    "pr = g.pageRank(resetProbability=0.15, maxIter=10)\n",
    "## look at the pagerank score for every vertex\n",
    "#pr.vertices.show()\n",
    "## look at the weight of every edge\n",
    "#pr.edges.show()\n",
    "## pagrank descending\n",
    "pr.vertices.orderBy(\"pagerank\", ascending=False).show()"
   ]
  },
  {
   "cell_type": "code",
   "execution_count": 27,
   "metadata": {},
   "outputs": [
    {
     "name": "stderr",
     "output_type": "stream",
     "text": [
      "21/10/21 19:11:37 WARN TaskSetManager: Stage 363 contains a task of very large size (1696 KiB). The maximum recommended task size is 1000 KiB.\n",
      "21/10/21 19:11:46 WARN TaskSetManager: Stage 374 contains a task of very large size (1204 KiB). The maximum recommended task size is 1000 KiB.\n",
      "21/10/21 19:11:51 WARN ShippableVertexPartitionOps: Joining two VertexPartitions with different indexes is slow.\n",
      "21/10/21 19:11:51 WARN ShippableVertexPartitionOps: Joining two VertexPartitions with different indexes is slow.\n",
      "21/10/21 19:11:51 WARN ShippableVertexPartitionOps: Joining two VertexPartitions with different indexes is slow.\n",
      "21/10/21 19:11:51 WARN ShippableVertexPartitionOps: Joining two VertexPartitions with different indexes is slow.\n",
      "21/10/21 19:11:51 WARN ShippableVertexPartitionOps: Joining two VertexPartitions with different indexes is slow.\n",
      "21/10/21 19:11:51 WARN ShippableVertexPartitionOps: Joining two VertexPartitions with different indexes is slow.\n",
      "21/10/21 19:11:51 WARN ShippableVertexPartitionOps: Joining two VertexPartitions with different indexes is slow.\n",
      "21/10/21 19:11:51 WARN ShippableVertexPartitionOps: Joining two VertexPartitions with different indexes is slow.\n",
      "21/10/21 19:11:51 WARN ShippableVertexPartitionOps: Joining two VertexPartitions with different indexes is slow.\n",
      "21/10/21 19:11:51 WARN ShippableVertexPartitionOps: Joining two VertexPartitions with different indexes is slow.\n",
      "21/10/21 19:11:51 WARN ShippableVertexPartitionOps: Joining two VertexPartitions with different indexes is slow.\n",
      "21/10/21 19:11:51 WARN ShippableVertexPartitionOps: Joining two VertexPartitions with different indexes is slow.\n",
      "21/10/21 19:11:51 WARN ShippableVertexPartitionOps: Joining two VertexPartitions with different indexes is slow.\n",
      "21/10/21 19:11:51 WARN ShippableVertexPartitionOps: Joining two VertexPartitions with different indexes is slow.\n",
      "21/10/21 19:11:51 WARN ShippableVertexPartitionOps: Joining two VertexPartitions with different indexes is slow.\n",
      "21/10/21 19:11:51 WARN ShippableVertexPartitionOps: Joining two VertexPartitions with different indexes is slow.\n",
      "21/10/21 19:11:51 WARN ShippableVertexPartitionOps: Joining two VertexPartitions with different indexes is slow.\n",
      "21/10/21 19:11:51 WARN ShippableVertexPartitionOps: Joining two VertexPartitions with different indexes is slow.\n",
      "21/10/21 19:11:51 WARN ShippableVertexPartitionOps: Joining two VertexPartitions with different indexes is slow.\n",
      "21/10/21 19:11:51 WARN ShippableVertexPartitionOps: Joining two VertexPartitions with different indexes is slow.\n",
      "21/10/21 19:11:51 WARN ShippableVertexPartitionOps: Joining two VertexPartitions with different indexes is slow.\n",
      "21/10/21 19:11:51 WARN ShippableVertexPartitionOps: Joining two VertexPartitions with different indexes is slow.\n",
      "21/10/21 19:11:51 WARN ShippableVertexPartitionOps: Joining two VertexPartitions with different indexes is slow.\n",
      "21/10/21 19:11:55 WARN TaskSetManager: Stage 376 contains a task of very large size (4915 KiB). The maximum recommended task size is 1000 KiB.\n",
      "[Stage 385:===================================================> (194 + 6) / 200]\r"
     ]
    },
    {
     "name": "stdout",
     "output_type": "stream",
     "text": [
      "+----+--------------------+-----+---------+-------+-----+\n",
      "|  id|               title|group|salesrank|reviews|label|\n",
      "+----+--------------------+-----+---------+-------+-----+\n",
      "|  26|      Chicken Little| book|   242571|    4.0|   11|\n",
      "|  29|Advanced Pediatri...| book|   677416|    0.0|  146|\n",
      "| 474|Bad Aboriginal Ar...| book|   714825|    5.0|14266|\n",
      "| 964|Outsmarting the S...| book|   536872|    4.5| 2635|\n",
      "|1677|Robert Louis Stev...|  dvd|    26035|    4.0| 4026|\n",
      "|1697|Experiences in Mo...| book|   695386|    0.0|  319|\n",
      "|1806|Black Stallion an...| book|    71706|    5.0| 2601|\n",
      "|1950|Applied Blood Gro...| book|   985020|    5.0| 1207|\n",
      "|2040|The Minority Repo...| book|   326911|    4.5| 1776|\n",
      "|2214|The Arts of the S...| book|   923205|    4.0| 2111|\n",
      "|2250|         Yummy Yummy|music|   170306|    4.5|10381|\n",
      "|2453|  Gourmet Paris 2002| book|   900117|    5.0| 1483|\n",
      "|2509|Girls, Delinquenc...| book|   559169|    5.0| 2384|\n",
      "|2529|When You look Lik...| book|   667405|    5.0| 2475|\n",
      "|2927|The Art of Outdoo...| book|   299959|    4.5| 2684|\n",
      "|3091|Blue Moon Cat: Li...|music|   379772|    2.0| 1745|\n",
      "|3506|Fire on the Beach...| book|   578290|    4.0| 3504|\n",
      "|3764|English and Itali...|music|    62300|    4.0| 4345|\n",
      "|4590|Must There Be Sca...| book|   530330|    0.0|16517|\n",
      "|4823|Upgrading and Rep...| book|   942038|    4.0|11659|\n",
      "+----+--------------------+-----+---------+-------+-----+\n",
      "only showing top 20 rows\n",
      "\n"
     ]
    },
    {
     "name": "stderr",
     "output_type": "stream",
     "text": [
      "\r",
      "                                                                                \r"
     ]
    }
   ],
   "source": [
    "communities = g.labelPropagation(maxIter=1)\n",
    "communities.persist().show()"
   ]
  },
  {
   "cell_type": "code",
   "execution_count": 28,
   "metadata": {},
   "outputs": [
    {
     "name": "stderr",
     "output_type": "stream",
     "text": [
      "                                                                                \r"
     ]
    },
    {
     "name": "stdout",
     "output_type": "stream",
     "text": [
      "+------+\n",
      "| label|\n",
      "+------+\n",
      "| 42852|\n",
      "| 36103|\n",
      "| 36102|\n",
      "| 28078|\n",
      "|153306|\n",
      "|161736|\n",
      "|209614|\n",
      "|213855|\n",
      "|242382|\n",
      "| 41862|\n",
      "|106100|\n",
      "|113699|\n",
      "|167617|\n",
      "| 56309|\n",
      "|118448|\n",
      "|122127|\n",
      "| 66512|\n",
      "|114458|\n",
      "|207209|\n",
      "|206745|\n",
      "+------+\n",
      "only showing top 20 rows\n",
      "\n"
     ]
    },
    {
     "name": "stderr",
     "output_type": "stream",
     "text": [
      "[Stage 409:====================================================>(199 + 1) / 200]\r"
     ]
    },
    {
     "name": "stdout",
     "output_type": "stream",
     "text": [
      "143264\n"
     ]
    },
    {
     "name": "stderr",
     "output_type": "stream",
     "text": [
      "\r",
      "                                                                                \r"
     ]
    }
   ],
   "source": [
    "communities.select(\"label\").distinct().show()\n",
    "print(communities.select(\"label\").distinct().count())"
   ]
  },
  {
   "cell_type": "code",
   "execution_count": 38,
   "metadata": {},
   "outputs": [
    {
     "name": "stdout",
     "output_type": "stream",
     "text": [
      "+---+--------------------+-----+---------+-------+-----+\n",
      "| id|               title|group|salesrank|reviews|label|\n",
      "+---+--------------------+-----+---------+-------+-----+\n",
      "| 10|The Edward Said R...| book|   220379|    4.0|  137|\n",
      "+---+--------------------+-----+---------+-------+-----+\n",
      "\n",
      "+-----+--------------------+-----+---------+-------+-----+\n",
      "|   id|               title|group|salesrank|reviews|label|\n",
      "+-----+--------------------+-----+---------+-------+-----+\n",
      "|  139|  The Sacred Impulse| book|   846457|    3.0|  137|\n",
      "|  138|The McClurkin Pro...|music|    54277|    4.0|  137|\n",
      "|   10|The Edward Said R...| book|   220379|    4.0|  137|\n",
      "|47935| Classic Motorcycles| book|  1184165|    0.0|  137|\n",
      "+-----+--------------------+-----+---------+-------+-----+\n",
      "\n"
     ]
    },
    {
     "data": {
      "text/plain": [
       "DataFrame[id: bigint, title: string, group: string, salesrank: bigint, reviews: double, label: bigint]"
      ]
     },
     "execution_count": 38,
     "metadata": {},
     "output_type": "execute_result"
    }
   ],
   "source": [
    "def recommend1(communities, id_):\n",
    "    selected_row = communities.filter(f\"id == {id_}\")\n",
    "    selected_row.show()\n",
    "    \n",
    "    label = selected_row.select(\"label\").collect()[0][\"label\"]\n",
    "    recommendations = communities.filter(f\"label == {label}\")\n",
    "    recommendations.show()\n",
    "    \n",
    "    return recommendations\n",
    "    \n",
    "id_ = 10\n",
    "recommend1(communities=communities, id_=id_)"
   ]
  },
  {
   "cell_type": "code",
   "execution_count": 70,
   "metadata": {},
   "outputs": [
    {
     "name": "stderr",
     "output_type": "stream",
     "text": [
      "21/10/21 20:19:12 WARN TaskSetManager: Stage 1436 contains a task of very large size (1204 KiB). The maximum recommended task size is 1000 KiB.\n",
      "21/10/21 20:19:20 WARN TaskSetManager: Stage 1447 contains a task of very large size (1204 KiB). The maximum recommended task size is 1000 KiB.\n",
      "[Stage 1448:===============================================>    (181 + 8) / 200]\r"
     ]
    },
    {
     "name": "stdout",
     "output_type": "stream",
     "text": [
      "LabelPropagationPredictor has been fit to graph\n"
     ]
    },
    {
     "name": "stderr",
     "output_type": "stream",
     "text": [
      "\r",
      "[Stage 1448:==================================================> (193 + 7) / 200]\r",
      "\r",
      "                                                                                \r"
     ]
    }
   ],
   "source": [
    "class LabelPropagationPredictor():\n",
    "    def __init__(self, g, max_iter):\n",
    "        self.max_iter = max_iter\n",
    "        self.communities = g.labelPropagation(maxIter=self.max_iter)\n",
    "        print(\"LabelPropagationPredictor has been fit to graph\")\n",
    "    \n",
    "    def get_communities(self,):\n",
    "        return communities.persist()\n",
    "    \n",
    "    def __call__(self, id_):\n",
    "        id_label = self.communities.filter(f\"id == {id_}\").select(\"label\").collect()[0][\"label\"]\n",
    "        recommendations = communities.filter(f\"label == {id_label}\")\n",
    "        return recommendations\n",
    "    \n",
    "lpp = LabelPropagationPredictor(g=g, max_iter=1)"
   ]
  },
  {
   "cell_type": "code",
   "execution_count": 72,
   "metadata": {},
   "outputs": [
    {
     "name": "stdout",
     "output_type": "stream",
     "text": [
      "+----+--------------------+-----+---------+-------+-----+\n",
      "|  id|               title|group|salesrank|reviews|label|\n",
      "+----+--------------------+-----+---------+-------+-----+\n",
      "|  26|      Chicken Little| book|   242571|    4.0|   11|\n",
      "|  29|Advanced Pediatri...| book|   677416|    0.0|  146|\n",
      "| 474|Bad Aboriginal Ar...| book|   714825|    5.0|14266|\n",
      "| 964|Outsmarting the S...| book|   536872|    4.5| 2635|\n",
      "|1677|Robert Louis Stev...|  dvd|    26035|    4.0| 4026|\n",
      "|1697|Experiences in Mo...| book|   695386|    0.0|  319|\n",
      "|1806|Black Stallion an...| book|    71706|    5.0| 2601|\n",
      "|1950|Applied Blood Gro...| book|   985020|    5.0| 1207|\n",
      "|2040|The Minority Repo...| book|   326911|    4.5| 1776|\n",
      "|2214|The Arts of the S...| book|   923205|    4.0| 2111|\n",
      "|2250|         Yummy Yummy|music|   170306|    4.5|10381|\n",
      "|2453|  Gourmet Paris 2002| book|   900117|    5.0| 1483|\n",
      "|2509|Girls, Delinquenc...| book|   559169|    5.0| 2384|\n",
      "|2529|When You look Lik...| book|   667405|    5.0| 2475|\n",
      "|2927|The Art of Outdoo...| book|   299959|    4.5| 2684|\n",
      "|3091|Blue Moon Cat: Li...|music|   379772|    2.0| 1745|\n",
      "|3506|Fire on the Beach...| book|   578290|    4.0| 3504|\n",
      "|3764|English and Itali...|music|    62300|    4.0| 4345|\n",
      "|4590|Must There Be Sca...| book|   530330|    0.0|16517|\n",
      "|4823|Upgrading and Rep...| book|   942038|    4.0|11659|\n",
      "+----+--------------------+-----+---------+-------+-----+\n",
      "only showing top 20 rows\n",
      "\n"
     ]
    },
    {
     "name": "stderr",
     "output_type": "stream",
     "text": [
      "21/10/21 20:19:40 WARN CacheManager: Asked to cache already cached data.\n"
     ]
    }
   ],
   "source": [
    "lpp.get_communities().show()"
   ]
  },
  {
   "cell_type": "code",
   "execution_count": 74,
   "metadata": {},
   "outputs": [
    {
     "name": "stderr",
     "output_type": "stream",
     "text": [
      "21/10/21 20:20:12 WARN TaskSetManager: Stage 1471 contains a task of very large size (4915 KiB). The maximum recommended task size is 1000 KiB.\n",
      "                                                                                \r"
     ]
    },
    {
     "name": "stdout",
     "output_type": "stream",
     "text": [
      "+-----+--------------------+-----+---------+-------+-----+\n",
      "|   id|               title|group|salesrank|reviews|label|\n",
      "+-----+--------------------+-----+---------+-------+-----+\n",
      "|  139|  The Sacred Impulse| book|   846457|    3.0|  137|\n",
      "|  138|The McClurkin Pro...|music|    54277|    4.0|  137|\n",
      "|   10|The Edward Said R...| book|   220379|    4.0|  137|\n",
      "|47935| Classic Motorcycles| book|  1184165|    0.0|  137|\n",
      "+-----+--------------------+-----+---------+-------+-----+\n",
      "\n"
     ]
    }
   ],
   "source": [
    "recommendations_df = lpp(id_= 10)\n",
    "recommendations_df.show()"
   ]
  },
  {
   "cell_type": "code",
   "execution_count": 64,
   "metadata": {},
   "outputs": [
    {
     "name": "stderr",
     "output_type": "stream",
     "text": [
      "21/10/21 20:08:49 WARN TaskSetManager: Stage 1333 contains a task of very large size (1204 KiB). The maximum recommended task size is 1000 KiB.\n",
      "21/10/21 20:08:50 WARN TaskSetManager: Stage 1331 contains a task of very large size (4915 KiB). The maximum recommended task size is 1000 KiB.\n",
      "21/10/21 20:08:51 WARN TaskSetManager: Stage 1337 contains a task of very large size (4915 KiB). The maximum recommended task size is 1000 KiB.\n",
      "21/10/21 20:08:52 WARN TaskSetManager: Stage 1342 contains a task of very large size (1204 KiB). The maximum recommended task size is 1000 KiB.\n",
      "21/10/21 20:08:53 WARN TaskSetManager: Stage 1341 contains a task of very large size (4915 KiB). The maximum recommended task size is 1000 KiB.\n",
      "21/10/21 20:08:53 WARN TaskSetManager: Stage 1345 contains a task of very large size (4915 KiB). The maximum recommended task size is 1000 KiB.\n",
      "21/10/21 20:08:55 WARN TaskSetManager: Stage 1350 contains a task of very large size (4915 KiB). The maximum recommended task size is 1000 KiB.\n",
      "21/10/21 20:08:56 WARN TaskSetManager: Stage 1352 contains a task of very large size (1204 KiB). The maximum recommended task size is 1000 KiB.\n",
      "21/10/21 20:08:56 WARN TaskSetManager: Stage 1354 contains a task of very large size (4915 KiB). The maximum recommended task size is 1000 KiB.\n",
      "21/10/21 20:08:58 WARN TaskSetManager: Stage 1358 contains a task of very large size (4915 KiB). The maximum recommended task size is 1000 KiB.\n",
      "21/10/21 20:08:59 WARN TaskSetManager: Stage 1361 contains a task of very large size (1204 KiB). The maximum recommended task size is 1000 KiB.\n",
      "21/10/21 20:09:00 WARN TaskSetManager: Stage 1363 contains a task of very large size (4915 KiB). The maximum recommended task size is 1000 KiB.\n",
      "21/10/21 20:09:02 WARN TaskSetManager: Stage 1368 contains a task of very large size (4915 KiB). The maximum recommended task size is 1000 KiB.\n",
      "21/10/21 20:09:03 WARN TaskSetManager: Stage 1371 contains a task of very large size (4915 KiB). The maximum recommended task size is 1000 KiB.\n",
      "21/10/21 20:09:03 WARN TaskSetManager: Stage 1372 contains a task of very large size (1204 KiB). The maximum recommended task size is 1000 KiB.\n",
      "21/10/21 20:09:05 WARN TaskSetManager: Stage 1377 contains a task of very large size (4915 KiB). The maximum recommended task size is 1000 KiB.\n",
      "21/10/21 20:09:05 WARN TaskSetManager: Stage 1379 contains a task of very large size (1204 KiB). The maximum recommended task size is 1000 KiB.\n",
      "21/10/21 20:09:06 WARN TaskSetManager: Stage 1381 contains a task of very large size (4915 KiB). The maximum recommended task size is 1000 KiB.\n",
      "                                                                                \r"
     ]
    }
   ],
   "source": [
    "class JaccardSimilarityPredictor():\n",
    "    def __init__(self):\n",
    "        pass\n",
    "    \n",
    "    def get_neighbour_ids(self, g, id_):\n",
    "        triplets = g.triplets.filter(f\"src.id == {id_}\")\n",
    "        return set([row[\"dst\"][\"id\"] for row in triplets.collect()])\n",
    "    \n",
    "    def jaccard_sim(self, a, b):\n",
    "        return len(a.intersection(b)) / len(a.union(b))\n",
    "    \n",
    "    def __call__(self, g, id_):\n",
    "        # get neighbours of node\n",
    "        ids_neighbour = get_neighbour_ids(g, id_)\n",
    "        \n",
    "        similarities = []\n",
    "\n",
    "        for id_neighbour in ids_neighbour:\n",
    "            # get neighbours of neighbour node\n",
    "            ids_neighbours_of_neighbour = get_neighbour_ids(g, id_neighbour)\n",
    "            js = jaccard_sim(ids_neighbour, ids_neighbours_of_neighbour)\n",
    "            similarities.append((id_neighbour, js))\n",
    "\n",
    "        similarities_df = spark.createDataFrame(similarities, [\"id\", \"jaccard\"])\n",
    "\n",
    "        return g.vertices.\\\n",
    "            join(similarities_df, g.vertices[\"id\"] == similarities_df[\"id\"], \"inner\").\\\n",
    "            drop(similarities_df.id).\\\n",
    "            sort(desc(\"jaccard\"))\n",
    "\n",
    "jsp = JaccardSimilarityPredictor()\n",
    "vertices_similar_df = jsp(g=g, id_=10)\n",
    "vertices_similar_df.show()"
   ]
  },
  {
   "cell_type": "markdown",
   "metadata": {},
   "source": [
    "Clean up data/"
   ]
  },
  {
   "cell_type": "code",
   "execution_count": 32,
   "metadata": {},
   "outputs": [
    {
     "data": {
      "text/plain": [
       "'%%bash\\nfile=./data/amazon0302.txt.gz\\nfile_txt=./data/amazon0302.txt\\nmeta=./data/amazon-meta.txt.gz\\nmeta_txt=./data/amazon-meta.txt\\nrm $file\\nrm $file_txt\\nrm $meta\\nrm $meta_txt'"
      ]
     },
     "execution_count": 32,
     "metadata": {},
     "output_type": "execute_result"
    }
   ],
   "source": [
    "\"\"\"%%bash\n",
    "file=./data/amazon0302.txt.gz\n",
    "file_txt=./data/amazon0302.txt\n",
    "meta=./data/amazon-meta.txt.gz\n",
    "meta_txt=./data/amazon-meta.txt\n",
    "rm $file\n",
    "rm $file_txt\n",
    "rm $meta\n",
    "rm $meta_txt\"\"\""
   ]
  },
  {
   "cell_type": "code",
   "execution_count": null,
   "metadata": {},
   "outputs": [],
   "source": []
  }
 ],
 "metadata": {
  "kernelspec": {
   "display_name": "Python (Spark)",
   "language": "python",
   "name": "spark-env"
  },
  "language_info": {
   "codemirror_mode": {
    "name": "ipython",
    "version": 3
   },
   "file_extension": ".py",
   "mimetype": "text/x-python",
   "name": "python",
   "nbconvert_exporter": "python",
   "pygments_lexer": "ipython3",
   "version": "3.8.11"
  }
 },
 "nbformat": 4,
 "nbformat_minor": 4
}
