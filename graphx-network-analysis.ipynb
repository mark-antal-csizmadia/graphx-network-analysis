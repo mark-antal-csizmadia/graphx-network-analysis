{
 "cells": [
  {
   "cell_type": "markdown",
   "metadata": {},
   "source": [
    "sources:\n",
    "\n",
    "https://graphframes.github.io/graphframes/docs/_site/user-guide.html\n",
    "\n",
    "https://docs.databricks.com/_static/notebooks/graphframes-user-guide-py.html\n",
    "\n",
    "https://towardsdatascience.com/graphframes-in-jupyter-a-practical-guide-9b3b346cebc5\n",
    "\n",
    "https://graphframes.github.io/graphframes/docs/_site/api/python/index.html\n",
    "\n",
    "https://github.com/haoyingyang/SN/blob/master/Network_Final.ipynb"
   ]
  },
  {
   "cell_type": "code",
   "execution_count": 1,
   "metadata": {},
   "outputs": [],
   "source": [
    "import os\n",
    "import pandas as pd\n",
    "import numpy as np\n",
    "import networkx as nx\n",
    "import matplotlib.pyplot as plt\n",
    "\n",
    "import findspark\n",
    "findspark.init()\n",
    "\n",
    "from pyspark import *\n",
    "from pyspark.sql import *\n",
    "from graphframes import *"
   ]
  },
  {
   "cell_type": "code",
   "execution_count": 2,
   "metadata": {},
   "outputs": [],
   "source": [
    "# https://graphframes.github.io/graphframes/docs/_site/quick-start.html\n",
    "# https://stackoverflow.com/questions/65011599/how-to-start-graphframes-on-spark-on-pyspark-on-juypter-on-docker\n",
    "os.environ['PYSPARK_SUBMIT_ARGS'] = '--packages graphframes:graphframes:0.8.1-spark3.0-s_2.12 pyspark-shell'"
   ]
  },
  {
   "cell_type": "code",
   "execution_count": 3,
   "metadata": {},
   "outputs": [
    {
     "name": "stderr",
     "output_type": "stream",
     "text": [
      "21/10/21 10:08:35 WARN Utils: Your hostname, mark-machine resolves to a loopback address: 127.0.1.1; using 192.168.50.16 instead (on interface wlp8s0)\n",
      "21/10/21 10:08:35 WARN Utils: Set SPARK_LOCAL_IP if you need to bind to another address\n"
     ]
    },
    {
     "name": "stdout",
     "output_type": "stream",
     "text": [
      ":: loading settings :: url = jar:file:/opt/spark/jars/ivy-2.4.0.jar!/org/apache/ivy/core/settings/ivysettings.xml\n"
     ]
    },
    {
     "name": "stderr",
     "output_type": "stream",
     "text": [
      "Ivy Default Cache set to: /home/mark/.ivy2/cache\n",
      "The jars for the packages stored in: /home/mark/.ivy2/jars\n",
      "graphframes#graphframes added as a dependency\n",
      ":: resolving dependencies :: org.apache.spark#spark-submit-parent-386f0c33-8b65-4649-9749-52cecafc7e41;1.0\n",
      "\tconfs: [default]\n",
      "\tfound graphframes#graphframes;0.8.1-spark3.0-s_2.12 in spark-packages\n",
      "\tfound org.slf4j#slf4j-api;1.7.16 in central\n",
      ":: resolution report :: resolve 163ms :: artifacts dl 4ms\n",
      "\t:: modules in use:\n",
      "\tgraphframes#graphframes;0.8.1-spark3.0-s_2.12 from spark-packages in [default]\n",
      "\torg.slf4j#slf4j-api;1.7.16 from central in [default]\n",
      "\t---------------------------------------------------------------------\n",
      "\t|                  |            modules            ||   artifacts   |\n",
      "\t|       conf       | number| search|dwnlded|evicted|| number|dwnlded|\n",
      "\t---------------------------------------------------------------------\n",
      "\t|      default     |   2   |   0   |   0   |   0   ||   2   |   0   |\n",
      "\t---------------------------------------------------------------------\n",
      ":: retrieving :: org.apache.spark#spark-submit-parent-386f0c33-8b65-4649-9749-52cecafc7e41\n",
      "\tconfs: [default]\n",
      "\t0 artifacts copied, 2 already retrieved (0kB/6ms)\n",
      "21/10/21 10:08:35 WARN NativeCodeLoader: Unable to load native-hadoop library for your platform... using builtin-java classes where applicable\n",
      "Using Spark's default log4j profile: org/apache/spark/log4j-defaults.properties\n",
      "Setting default log level to \"WARN\".\n",
      "To adjust logging level use sc.setLogLevel(newLevel). For SparkR, use setLogLevel(newLevel).\n"
     ]
    }
   ],
   "source": [
    "# Start Spark context\n",
    "spark = SparkSession.builder.appName('graphx-network-analysis').getOrCreate()"
   ]
  },
  {
   "cell_type": "code",
   "execution_count": 4,
   "metadata": {},
   "outputs": [
    {
     "name": "stdout",
     "output_type": "stream",
     "text": [
      "./data/amazon0302.txt.gz exists, skipping\n",
      "./data/amazon-meta.txt.gz exists, skipping\n"
     ]
    }
   ],
   "source": [
    "%%bash\n",
    "file=./data/amazon0302.txt.gz\n",
    "file_meta=./data/amazon-meta.txt.gz\n",
    "\n",
    "if [ -e \"$file\" ]; then\n",
    "    echo \"$file exists, skipping\"\n",
    "else \n",
    "    echo \"$file does not exist, using wget to download it\"\n",
    "    wget http://snap.stanford.edu/data/amazon0302.txt.gz -P data/\n",
    "    gzip -dkfv $file\n",
    "fi\n",
    "\n",
    "if [ -e \"$file_meta\" ]; then\n",
    "    echo \"$file_meta exists, skipping\"\n",
    "else \n",
    "    echo \"$file_meta does not exist, using wget to download it\"\n",
    "    wget http://snap.stanford.edu/data/amazon0302.txt.gz -P data/\n",
    "    gzip -dkfv $file_meta\n",
    "fi"
   ]
  },
  {
   "cell_type": "code",
   "execution_count": 5,
   "metadata": {},
   "outputs": [],
   "source": [
    "def read_data(from_file_name, exclude_meta=True):\n",
    "    df_edges = pd.read_csv(from_file_name, sep=\"\\t\", header=None, skiprows=4, names=[\"src\", \"dst\"])\n",
    "    vertices_np = \\\n",
    "        np.unique(np.hstack([df_edges[\"src\"].unique(), df_edges[\"dst\"].unique()]))\n",
    "    \n",
    "    df_vertices = pd.DataFrame(data={\"id\": vertices_np})\n",
    "    \n",
    "    meta_cols = [\"ansi\", \"title\", \"group\", \"salesrank\", \"similar\", \"categories\", \"reviews\"]\n",
    "    \n",
    "    if exclude_meta:\n",
    "        df_vertices[meta_cols] = np.nan\n",
    "    else:\n",
    "        # read meta file and construct column values\n",
    "        # until then same as no meta\n",
    "        df_vertices[meta_cols] = np.nan\n",
    "\n",
    "    \n",
    "    return df_edges, df_vertices\n",
    "    \n",
    "from_file_name = \"data/amazon0302.txt\"\n",
    "df_edges, df_vertices = read_data(from_file_name=from_file_name)"
   ]
  },
  {
   "cell_type": "code",
   "execution_count": 14,
   "metadata": {},
   "outputs": [
    {
     "name": "stdout",
     "output_type": "stream",
     "text": [
      "['\\n', 'Id:   0\\n', 'ASIN: 0771044445\\n', '  discontinued product\\n', '\\n', 'Id:   1\\n', 'ASIN: 0827229534\\n', '  title: Patterns of Preaching: A Sermon Sampler\\n', '  group: Book\\n', '  salesrank: 396585\\n', '  similar: 5  0804215715  156101074X  0687023955  0687074231  082721619X\\n', '  categories: 2\\n', '   |Books[283155]|Subjects[1000]|Religion & Spirituality[22]|Christianity[12290]|Clergy[12360]|Preaching[12368]\\n', '   |Books[283155]|Subjects[1000]|Religion & Spirituality[22]|Christianity[12290]|Clergy[12360]|Sermons[12370]\\n', '  reviews: total: 2  downloaded: 2  avg rating: 5\\n', '    2000-7-28  cutomer: A2JW67OY8U6HHK  rating: 5  votes:  10  helpful:   9\\n', '    2003-12-14  cutomer: A2VE83MZF98ITY  rating: 5  votes:   6  helpful:   5\\n', '\\n', 'Id:   2\\n', 'ASIN: 0738700797\\n', '  title: Candlemas: Feast of Flames\\n', '  group: Book\\n', '  salesrank: 168596\\n', '  similar: 5  0738700827  1567184960  1567182836  0738700525  0738700940\\n', '  categories: 2\\n', '   |Books[283155]|Subjects[1000]|Religion & Spirituality[22]|Earth-Based Religions[12472]|Wicca[12484]\\n', '   |Books[283155]|Subjects[1000]|Religion & Spirituality[22]|Earth-Based Religions[12472]|Witchcraft[12486]\\n', '  reviews: total: 12  downloaded: 12  avg rating: 4.5\\n', '    2001-12-16  cutomer: A11NCO6YTE4BTJ  rating: 5  votes:   5  helpful:   4\\n', '    2002-1-7  cutomer:  A9CQ3PLRNIR83  rating: 4  votes:   5  helpful:   5\\n', '    2002-1-24  cutomer: A13SG9ACZ9O5IM  rating: 5  votes:   8  helpful:   8\\n', '    2002-1-28  cutomer: A1BDAI6VEYMAZA  rating: 5  votes:   4  helpful:   4\\n', '    2002-2-6  cutomer: A2P6KAWXJ16234  rating: 4  votes:  16  helpful:  16\\n', '    2002-2-14  cutomer:  AMACWC3M7PQFR  rating: 4  votes:   5  helpful:   5\\n', '    2002-3-23  cutomer: A3GO7UV9XX14D8  rating: 4  votes:   6  helpful:   6\\n', '    2002-5-23  cutomer: A1GIL64QK68WKL  rating: 5  votes:   8  helpful:   8\\n', '    2003-2-25  cutomer:  AEOBOF2ONQJWV  rating: 5  votes:   8  helpful:   5\\n', '    2003-11-25  cutomer: A3IGHTES8ME05L  rating: 5  votes:   5  helpful:   5\\n', '    2004-2-11  cutomer: A1CP26N8RHYVVO  rating: 1  votes:  13  helpful:   9\\n', '    2005-2-7  cutomer:  ANEIANH0WAT9D  rating: 5  votes:   1  helpful:   1\\n', '\\n', 'Id:   3\\n', 'ASIN: 0486287785\\n', '  title: World War II Allied Fighter Planes Trading Cards\\n', '  group: Book\\n', '  salesrank: 1270652\\n', '  similar: 0\\n', '  categories: 1\\n', '   |Books[283155]|Subjects[1000]|Home & Garden[48]|Crafts & Hobbies[5126]|General[5144]\\n', '  reviews: total: 1  downloaded: 1  avg rating: 5\\n', '    2003-7-10  cutomer: A3IDGASRQAW8B2  rating: 5  votes:   2  helpful:   2\\n', '\\n', 'Id:   4\\n', 'ASIN: 0842328327\\n', '  title: Life Application Bible Commentary: 1 and 2 Timothy and Titus\\n', '  group: Book\\n', '  salesrank: 631289\\n', '  similar: 5  0842328130  0830818138  0842330313  0842328610  0842328572\\n', '  categories: 5\\n', '   |Books[283155]|Subjects[1000]|Religion & Spirituality[22]|Christianity[12290]|Reference[172810]|Commentaries[12155]|New Testament[12159]\\n', '   |Books[283155]|Subjects[1000]|Religion & Spirituality[22]|Christianity[12290]|Christian Living[12333]|Discipleship[12335]\\n', '   |Books[283155]|Subjects[1000]|Religion & Spirituality[22]|Christianity[12290]|Bibles[12059]|Translations[764432]|Life Application[572080]\\n', '   |Books[283155]|Subjects[1000]|Religion & Spirituality[22]|Bible & Other Sacred Texts[12056]|Bible[764430]|New Testament[572082]\\n', '   |Books[283155]|Subjects[1000]|Religion & Spirituality[22]|Christianity[12290]|Bibles[12059]|Study Guides, History & Reference[764438]|General[572094]\\n', '  reviews: total: 1  downloaded: 1  avg rating: 4\\n', '    2004-8-19  cutomer: A2591BUPXCS705  rating: 4  votes:   1  helpful:   1\\n', '\\n', 'Id:   5\\n', 'ASIN: 1577943082\\n', '  title: Prayers That Avail Much for Business: Executive\\n', '  group: Book\\n', '  salesrank: 455160\\n', '  similar: 5  157794349X  0892749504  1577941829  0892749563  1577946006\\n', '  categories: 2\\n', '   |Books[283155]|Subjects[1000]|Religion & Spirituality[22]|Christianity[12290]|Worship & Devotion[12465]|Prayerbooks[12470]\\n', '   |Books[283155]|Subjects[1000]|Religion & Spirituality[22]|Christianity[12290]|Christian Living[12333]|Business[297488]\\n', '  reviews: total: 0  downloaded: 0  avg rating: 0\\n', '\\n', 'Id:   6\\n', 'ASIN: 0486220125\\n', '  title: How the Other Half Lives: Studies Among the Tenements of New York\\n', '  group: Book\\n', '  salesrank: 188784\\n', '  similar: 5  0486401960  0452283612  0486229076  0714840343  0374528993\\n', '  categories: 5\\n', '   |Books[283155]|Subjects[1000]|Arts & Photography[1]|Photography[2020]|Photo Essays[2082]\\n', '   |Books[283155]|Subjects[1000]|History[9]|Americas[4808]|United States[4853]|General[4870]\\n', '   |Books[283155]|Subjects[1000]|History[9]|Jewish[4992]|General[4993]\\n', '   |Books[283155]|Subjects[1000]|Nonfiction[53]|Social Sciences[11232]|Sociology[11288]|Urban[11296]\\n', '   |[172282]|Categories[493964]|Camera & Photo[502394]|Photography Books[733540]|Photo Essays[733676]\\n', '  reviews: total: 17  downloaded: 17  avg rating: 4\\n', '    1997-7-4  cutomer:  ATVPDKIKX0DER  rating: 5  votes:  12  helpful:  11\\n', '    1998-10-11  cutomer:  AUEZ7NVOEHYRY  rating: 5  votes:  13  helpful:  12\\n', '    1999-4-15  cutomer:  ATVPDKIKX0DER  rating: 5  votes:  18  helpful:   7\\n', '    2000-1-4  cutomer:  AJYG6ZJUQPZ9M  rating: 4  votes:  14  helpful:  10\\n', '    2000-2-8  cutomer: A2ESGJTTLJWIAK  rating: 5  votes:  17  helpful:  11\\n', '    2000-4-28  cutomer: A2CHULHAO3A9BY  rating: 5  votes:  23  helpful:  16\\n', '    2001-10-9  cutomer: A3BNWP7ATVP045  rating: 5  votes:   7  helpful:   6\\n']\n",
      "new prodcut\n",
      "idx\n",
      "0\n",
      "line\n",
      "\n",
      "\n",
      "if_discontinued_str at 3\n",
      "new prodcut\n",
      "idx\n",
      "0\n",
      "line\n",
      "\n",
      "\n",
      "new prodcut\n",
      "idx\n",
      "1\n",
      "line\n",
      "Id:   1\n",
      "\n",
      "new prodcut\n",
      "idx\n",
      "2\n",
      "line\n",
      "ASIN: 0827229534\n",
      "\n",
      "new prodcut\n",
      "idx\n",
      "3\n",
      "line\n",
      "  title: Patterns of Preaching: A Sermon Sampler\n",
      "\n",
      "new prodcut\n",
      "idx\n",
      "4\n",
      "line\n",
      "  group: Book\n",
      "\n",
      "new prodcut\n",
      "idx\n",
      "5\n",
      "line\n",
      "  salesrank: 396585\n",
      "\n",
      "new prodcut\n",
      "idx\n",
      "6\n",
      "line\n",
      "  similar: 5  0804215715  156101074X  0687023955  0687074231  082721619X\n",
      "\n",
      "new prodcut\n",
      "idx\n",
      "7\n",
      "line\n",
      "  categories: 2\n",
      "\n",
      "new prodcut\n",
      "idx\n",
      "8\n",
      "line\n",
      "   |Books[283155]|Subjects[1000]|Religion & Spirituality[22]|Christianity[12290]|Clergy[12360]|Preaching[12368]\n",
      "\n",
      "new prodcut\n",
      "idx\n",
      "9\n",
      "line\n",
      "   |Books[283155]|Subjects[1000]|Religion & Spirituality[22]|Christianity[12290]|Clergy[12360]|Sermons[12370]\n",
      "\n",
      "new prodcut\n",
      "idx\n",
      "10\n",
      "line\n",
      "  reviews: total: 2  downloaded: 2  avg rating: 5\n",
      "\n",
      "new prodcut\n",
      "idx\n",
      "11\n",
      "line\n",
      "    2000-7-28  cutomer: A2JW67OY8U6HHK  rating: 5  votes:  10  helpful:   9\n",
      "\n",
      "new prodcut\n",
      "idx\n",
      "12\n",
      "line\n",
      "    2003-12-14  cutomer: A2VE83MZF98ITY  rating: 5  votes:   6  helpful:   5\n",
      "\n",
      "new prodcut\n",
      "idx\n",
      "13\n",
      "line\n",
      "\n",
      "\n",
      "new prodcut\n",
      "idx\n",
      "14\n",
      "line\n",
      "Id:   2\n",
      "\n",
      "new prodcut\n",
      "idx\n",
      "15\n",
      "line\n",
      "ASIN: 0738700797\n",
      "\n",
      "new prodcut\n",
      "idx\n",
      "16\n",
      "line\n",
      "  title: Candlemas: Feast of Flames\n",
      "\n",
      "new prodcut\n",
      "idx\n",
      "17\n",
      "line\n",
      "  group: Book\n",
      "\n",
      "new prodcut\n",
      "idx\n",
      "18\n",
      "line\n",
      "  salesrank: 168596\n",
      "\n",
      "new prodcut\n",
      "idx\n",
      "19\n",
      "line\n",
      "  similar: 5  0738700827  1567184960  1567182836  0738700525  0738700940\n",
      "\n",
      "new prodcut\n",
      "idx\n",
      "20\n",
      "line\n",
      "  categories: 2\n",
      "\n",
      "new prodcut\n",
      "idx\n",
      "21\n",
      "line\n",
      "   |Books[283155]|Subjects[1000]|Religion & Spirituality[22]|Earth-Based Religions[12472]|Wicca[12484]\n",
      "\n",
      "new prodcut\n",
      "idx\n",
      "22\n",
      "line\n",
      "   |Books[283155]|Subjects[1000]|Religion & Spirituality[22]|Earth-Based Religions[12472]|Witchcraft[12486]\n",
      "\n",
      "new prodcut\n",
      "idx\n",
      "23\n",
      "line\n",
      "  reviews: total: 12  downloaded: 12  avg rating: 4.5\n",
      "\n",
      "new prodcut\n",
      "idx\n",
      "24\n",
      "line\n",
      "    2001-12-16  cutomer: A11NCO6YTE4BTJ  rating: 5  votes:   5  helpful:   4\n",
      "\n",
      "new prodcut\n",
      "idx\n",
      "25\n",
      "line\n",
      "    2002-1-7  cutomer:  A9CQ3PLRNIR83  rating: 4  votes:   5  helpful:   5\n",
      "\n",
      "new prodcut\n",
      "idx\n",
      "26\n",
      "line\n",
      "    2002-1-24  cutomer: A13SG9ACZ9O5IM  rating: 5  votes:   8  helpful:   8\n",
      "\n",
      "new prodcut\n",
      "idx\n",
      "27\n",
      "line\n",
      "    2002-1-28  cutomer: A1BDAI6VEYMAZA  rating: 5  votes:   4  helpful:   4\n",
      "\n",
      "new prodcut\n",
      "idx\n",
      "28\n",
      "line\n",
      "    2002-2-6  cutomer: A2P6KAWXJ16234  rating: 4  votes:  16  helpful:  16\n",
      "\n",
      "new prodcut\n",
      "idx\n",
      "29\n",
      "line\n",
      "    2002-2-14  cutomer:  AMACWC3M7PQFR  rating: 4  votes:   5  helpful:   5\n",
      "\n",
      "new prodcut\n",
      "idx\n",
      "30\n",
      "line\n",
      "    2002-3-23  cutomer: A3GO7UV9XX14D8  rating: 4  votes:   6  helpful:   6\n",
      "\n",
      "new prodcut\n",
      "idx\n",
      "31\n",
      "line\n",
      "    2002-5-23  cutomer: A1GIL64QK68WKL  rating: 5  votes:   8  helpful:   8\n",
      "\n",
      "new prodcut\n",
      "idx\n",
      "32\n",
      "line\n",
      "    2003-2-25  cutomer:  AEOBOF2ONQJWV  rating: 5  votes:   8  helpful:   5\n",
      "\n",
      "new prodcut\n",
      "idx\n",
      "33\n",
      "line\n",
      "    2003-11-25  cutomer: A3IGHTES8ME05L  rating: 5  votes:   5  helpful:   5\n",
      "\n",
      "new prodcut\n",
      "idx\n",
      "34\n",
      "line\n",
      "    2004-2-11  cutomer: A1CP26N8RHYVVO  rating: 1  votes:  13  helpful:   9\n",
      "\n",
      "new prodcut\n",
      "idx\n",
      "35\n",
      "line\n",
      "    2005-2-7  cutomer:  ANEIANH0WAT9D  rating: 5  votes:   1  helpful:   1\n",
      "\n",
      "new prodcut\n",
      "idx\n",
      "36\n",
      "line\n",
      "\n",
      "\n",
      "new prodcut\n",
      "idx\n",
      "37\n",
      "line\n",
      "Id:   3\n",
      "\n",
      "new prodcut\n",
      "idx\n",
      "38\n",
      "line\n",
      "ASIN: 0486287785\n",
      "\n",
      "new prodcut\n",
      "idx\n",
      "39\n",
      "line\n",
      "  title: World War II Allied Fighter Planes Trading Cards\n",
      "\n",
      "new prodcut\n",
      "idx\n",
      "40\n",
      "line\n",
      "  group: Book\n",
      "\n",
      "new prodcut\n",
      "idx\n",
      "41\n",
      "line\n",
      "  salesrank: 1270652\n",
      "\n",
      "new prodcut\n",
      "idx\n",
      "42\n",
      "line\n",
      "  similar: 0\n",
      "\n",
      "new prodcut\n",
      "idx\n",
      "43\n",
      "line\n",
      "  categories: 1\n",
      "\n",
      "new prodcut\n",
      "idx\n",
      "44\n",
      "line\n",
      "   |Books[283155]|Subjects[1000]|Home & Garden[48]|Crafts & Hobbies[5126]|General[5144]\n",
      "\n",
      "new prodcut\n",
      "idx\n",
      "45\n",
      "line\n",
      "  reviews: total: 1  downloaded: 1  avg rating: 5\n",
      "\n",
      "new prodcut\n",
      "idx\n",
      "46\n",
      "line\n",
      "    2003-7-10  cutomer: A3IDGASRQAW8B2  rating: 5  votes:   2  helpful:   2\n",
      "\n",
      "new prodcut\n",
      "idx\n",
      "47\n",
      "line\n",
      "\n",
      "\n",
      "new prodcut\n",
      "idx\n",
      "48\n",
      "line\n",
      "Id:   4\n",
      "\n",
      "new prodcut\n",
      "idx\n",
      "49\n",
      "line\n",
      "ASIN: 0842328327\n",
      "\n",
      "new prodcut\n",
      "idx\n",
      "50\n",
      "line\n",
      "  title: Life Application Bible Commentary: 1 and 2 Timothy and Titus\n",
      "\n",
      "new prodcut\n",
      "idx\n",
      "51\n",
      "line\n",
      "  group: Book\n",
      "\n",
      "new prodcut\n",
      "idx\n",
      "52\n",
      "line\n",
      "  salesrank: 631289\n",
      "\n",
      "new prodcut\n",
      "idx\n",
      "53\n",
      "line\n",
      "  similar: 5  0842328130  0830818138  0842330313  0842328610  0842328572\n",
      "\n",
      "new prodcut\n",
      "idx\n",
      "54\n",
      "line\n",
      "  categories: 5\n",
      "\n",
      "new prodcut\n",
      "idx\n",
      "55\n",
      "line\n",
      "   |Books[283155]|Subjects[1000]|Religion & Spirituality[22]|Christianity[12290]|Reference[172810]|Commentaries[12155]|New Testament[12159]\n",
      "\n",
      "new prodcut\n",
      "idx\n",
      "56\n",
      "line\n",
      "   |Books[283155]|Subjects[1000]|Religion & Spirituality[22]|Christianity[12290]|Christian Living[12333]|Discipleship[12335]\n",
      "\n",
      "new prodcut\n",
      "idx\n",
      "57\n",
      "line\n",
      "   |Books[283155]|Subjects[1000]|Religion & Spirituality[22]|Christianity[12290]|Bibles[12059]|Translations[764432]|Life Application[572080]\n",
      "\n",
      "new prodcut\n",
      "idx\n",
      "58\n",
      "line\n",
      "   |Books[283155]|Subjects[1000]|Religion & Spirituality[22]|Bible & Other Sacred Texts[12056]|Bible[764430]|New Testament[572082]\n",
      "\n",
      "new prodcut\n",
      "idx\n",
      "59\n",
      "line\n",
      "   |Books[283155]|Subjects[1000]|Religion & Spirituality[22]|Christianity[12290]|Bibles[12059]|Study Guides, History & Reference[764438]|General[572094]\n",
      "\n",
      "new prodcut\n",
      "idx\n",
      "60\n",
      "line\n",
      "  reviews: total: 1  downloaded: 1  avg rating: 4\n",
      "\n",
      "new prodcut\n",
      "idx\n",
      "61\n",
      "line\n",
      "    2004-8-19  cutomer: A2591BUPXCS705  rating: 4  votes:   1  helpful:   1\n",
      "\n",
      "new prodcut\n",
      "idx\n",
      "62\n",
      "line\n",
      "\n",
      "\n",
      "new prodcut\n",
      "idx\n",
      "63\n",
      "line\n",
      "Id:   5\n",
      "\n",
      "new prodcut\n",
      "idx\n",
      "64\n",
      "line\n",
      "ASIN: 1577943082\n",
      "\n",
      "new prodcut\n",
      "idx\n",
      "65\n",
      "line\n",
      "  title: Prayers That Avail Much for Business: Executive\n",
      "\n",
      "new prodcut\n",
      "idx\n",
      "66\n",
      "line\n",
      "  group: Book\n",
      "\n",
      "new prodcut\n",
      "idx\n",
      "67\n",
      "line\n",
      "  salesrank: 455160\n",
      "\n",
      "new prodcut\n",
      "idx\n",
      "68\n",
      "line\n",
      "  similar: 5  157794349X  0892749504  1577941829  0892749563  1577946006\n",
      "\n",
      "new prodcut\n",
      "idx\n",
      "69\n",
      "line\n",
      "  categories: 2\n",
      "\n",
      "new prodcut\n",
      "idx\n",
      "70\n",
      "line\n",
      "   |Books[283155]|Subjects[1000]|Religion & Spirituality[22]|Christianity[12290]|Worship & Devotion[12465]|Prayerbooks[12470]\n",
      "\n",
      "new prodcut\n",
      "idx\n",
      "71\n",
      "line\n",
      "   |Books[283155]|Subjects[1000]|Religion & Spirituality[22]|Christianity[12290]|Christian Living[12333]|Business[297488]\n",
      "\n",
      "new prodcut\n",
      "idx\n",
      "72\n",
      "line\n",
      "  reviews: total: 0  downloaded: 0  avg rating: 0\n",
      "\n",
      "new prodcut\n",
      "idx\n",
      "73\n",
      "line\n",
      "\n",
      "\n",
      "new prodcut\n",
      "idx\n",
      "74\n",
      "line\n",
      "Id:   6\n",
      "\n",
      "new prodcut\n",
      "idx\n",
      "75\n",
      "line\n",
      "ASIN: 0486220125\n",
      "\n",
      "new prodcut\n",
      "idx\n",
      "76\n",
      "line\n",
      "  title: How the Other Half Lives: Studies Among the Tenements of New York\n",
      "\n",
      "new prodcut\n",
      "idx\n",
      "77\n",
      "line\n",
      "  group: Book\n",
      "\n",
      "new prodcut\n",
      "idx\n",
      "78\n",
      "line\n",
      "  salesrank: 188784\n",
      "\n",
      "new prodcut\n",
      "idx\n",
      "79\n",
      "line\n",
      "  similar: 5  0486401960  0452283612  0486229076  0714840343  0374528993\n",
      "\n",
      "new prodcut\n",
      "idx\n",
      "80\n",
      "line\n",
      "  categories: 5\n",
      "\n",
      "new prodcut\n",
      "idx\n",
      "81\n",
      "line\n",
      "   |Books[283155]|Subjects[1000]|Arts & Photography[1]|Photography[2020]|Photo Essays[2082]\n",
      "\n",
      "new prodcut\n",
      "idx\n",
      "82\n",
      "line\n",
      "   |Books[283155]|Subjects[1000]|History[9]|Americas[4808]|United States[4853]|General[4870]\n",
      "\n",
      "new prodcut\n",
      "idx\n",
      "83\n",
      "line\n",
      "   |Books[283155]|Subjects[1000]|History[9]|Jewish[4992]|General[4993]\n",
      "\n",
      "new prodcut\n",
      "idx\n",
      "84\n",
      "line\n",
      "   |Books[283155]|Subjects[1000]|Nonfiction[53]|Social Sciences[11232]|Sociology[11288]|Urban[11296]\n",
      "\n",
      "new prodcut\n",
      "idx\n",
      "85\n",
      "line\n",
      "   |[172282]|Categories[493964]|Camera & Photo[502394]|Photography Books[733540]|Photo Essays[733676]\n",
      "\n",
      "new prodcut\n",
      "idx\n",
      "86\n",
      "line\n",
      "  reviews: total: 17  downloaded: 17  avg rating: 4\n",
      "\n",
      "new prodcut\n",
      "idx\n",
      "87\n",
      "line\n",
      "    1997-7-4  cutomer:  ATVPDKIKX0DER  rating: 5  votes:  12  helpful:  11\n",
      "\n",
      "new prodcut\n",
      "idx\n",
      "88\n",
      "line\n",
      "    1998-10-11  cutomer:  AUEZ7NVOEHYRY  rating: 5  votes:  13  helpful:  12\n",
      "\n",
      "new prodcut\n",
      "idx\n",
      "89\n",
      "line\n",
      "    1999-4-15  cutomer:  ATVPDKIKX0DER  rating: 5  votes:  18  helpful:   7\n",
      "\n",
      "new prodcut\n",
      "idx\n",
      "90\n",
      "line\n",
      "    2000-1-4  cutomer:  AJYG6ZJUQPZ9M  rating: 4  votes:  14  helpful:  10\n",
      "\n",
      "new prodcut\n",
      "idx\n",
      "91\n",
      "line\n",
      "    2000-2-8  cutomer: A2ESGJTTLJWIAK  rating: 5  votes:  17  helpful:  11\n",
      "\n"
     ]
    }
   ],
   "source": [
    "def read_meta(from_file_name):\n",
    "    cols = [\"title\", \"group\", \"salesrank\", \"similar\", \"categories\", \"reviews\"]\n",
    "    \n",
    "    discontinued_prodcut_str = \"discontinued product\"\n",
    "    \n",
    "    from_file_name = \"data/amazon-meta.txt\"\n",
    "    \n",
    "    with open(from_file_name, \"r\") as file:\n",
    "        lines = file.readlines()[2:100]\n",
    "        print(lines)\n",
    "        \n",
    "        lines = lines[:100]\n",
    "        length = len(lines)\n",
    "        idx = 0\n",
    "        \n",
    "        while idx < length:\n",
    "            line = lines[idx]\n",
    "            print(\"idx\")\n",
    "            print(idx)\n",
    "            print(\"line\")\n",
    "            print(line)\n",
    "            \n",
    "            try:\n",
    "                if_discontinued_str = lines[idx+3].strip()\n",
    "            \n",
    "                if if_discontinued_str == discontinued_prodcut_str:\n",
    "                    print(f\"if_discontinued_str at {idx+3}\")\n",
    "                    del lines[0]\n",
    "                    del lines[0]\n",
    "                    del lines[0]\n",
    "                    del lines[0]\n",
    "                else:\n",
    "                    idx += 1\n",
    "            except Exception:\n",
    "                return\n",
    "            else:\n",
    "                pass\n",
    "            \n",
    "                \n",
    "            \n",
    "        \n",
    "        \n",
    "from_file_name = \"data/amazon-meta.txt\"\n",
    "read_meta(from_file_name=from_file_name)"
   ]
  },
  {
   "cell_type": "code",
   "execution_count": 24,
   "metadata": {},
   "outputs": [],
   "source": [
    "from dgl.data import CoraGraphDataset, AmazonCoBuyComputerDataset\n",
    "\n",
    "def load_cora_data():\n",
    "    dataset = CoraGraphDataset()\n",
    "    g = dataset[0]\n",
    "    features = g.ndata['feat']\n",
    "    labels = g.ndata['label']\n",
    "    train_mask = g.ndata['train_mask']\n",
    "    test_mask = g.ndata['test_mask']\n",
    "    return g, features, labels, train_mask, test_mask\n",
    "\n",
    "def load_amazon_data():\n",
    "    dataset = AmazonCoBuyComputerDataset()\n",
    "    g = dataset[0]\n",
    "    features = g.ndata['feat']\n",
    "    labels = g.ndata['label']\n",
    "    \n",
    "    return g, features, labels\n",
    "\n",
    "\n",
    "g, features, labels = load_amazon_data()"
   ]
  },
  {
   "cell_type": "code",
   "execution_count": 49,
   "metadata": {},
   "outputs": [
    {
     "name": "stdout",
     "output_type": "stream",
     "text": [
      "torch.Size([13752])\n",
      "(491722,)\n"
     ]
    }
   ],
   "source": [
    "src = g.edges()[0].cpu().detach().numpy()\n",
    "dst = g.edges()[1].cpu().detach().numpy()\n",
    "print(labels.shape)\n",
    "print(dst.shape)"
   ]
  },
  {
   "cell_type": "code",
   "execution_count": 54,
   "metadata": {},
   "outputs": [
    {
     "name": "stdout",
     "output_type": "stream",
     "text": [
      "          src    dst\n",
      "0           1      0\n",
      "1           2      0\n",
      "2           3      0\n",
      "3           0      1\n",
      "4           2      1\n",
      "...       ...    ...\n",
      "491717  13466  13469\n",
      "491718  13465  13469\n",
      "491719  13468  13469\n",
      "491720  13470  13469\n",
      "491721  13469  13470\n",
      "\n",
      "[491722 rows x 2 columns]\n",
      "          id  labels\n",
      "0          0       8\n",
      "1          1       8\n",
      "2          2       1\n",
      "3          3       8\n",
      "4          4       4\n",
      "...      ...     ...\n",
      "13747  13747       4\n",
      "13748  13748       4\n",
      "13749  13749       4\n",
      "13750  13750       8\n",
      "13751  13751       4\n",
      "\n",
      "[13752 rows x 2 columns]\n"
     ]
    }
   ],
   "source": [
    "df_edges_2 = pd.DataFrame(data={\"src\":src, \"dst\":dst})\n",
    "print(df_edges_2)\n",
    "\n",
    "df_vertices_2 = pd.DataFrame(data={\"id\":range(labels.shape[0]), \"labels\":labels})\n",
    "print(df_vertices_2)\n",
    "\n",
    "vertices = spark.createDataFrame(df_vertices_2, list(df_vertices_2.columns.values))\n",
    "edges = spark.createDataFrame(df_edges_2, list(df_edges_2.columns.values))\n",
    "g = GraphFrame(vertices, edges)"
   ]
  },
  {
   "cell_type": "code",
   "execution_count": 55,
   "metadata": {},
   "outputs": [
    {
     "name": "stderr",
     "output_type": "stream",
     "text": [
      "\r",
      "[Stage 0:>                                                          (0 + 1) / 1]\r"
     ]
    },
    {
     "name": "stdout",
     "output_type": "stream",
     "text": [
      "+---+------+\n",
      "| id|labels|\n",
      "+---+------+\n",
      "|  0|     8|\n",
      "|  1|     8|\n",
      "|  2|     1|\n",
      "|  3|     8|\n",
      "|  4|     4|\n",
      "|  5|     4|\n",
      "|  6|     4|\n",
      "|  7|     8|\n",
      "|  8|     8|\n",
      "|  9|     8|\n",
      "| 10|     8|\n",
      "| 11|     3|\n",
      "| 12|     3|\n",
      "| 13|     4|\n",
      "| 14|     4|\n",
      "| 15|     4|\n",
      "| 16|     7|\n",
      "| 17|     7|\n",
      "| 18|     7|\n",
      "| 19|     3|\n",
      "+---+------+\n",
      "only showing top 20 rows\n",
      "\n",
      "+---+---+\n",
      "|src|dst|\n",
      "+---+---+\n",
      "|  1|  0|\n",
      "|  2|  0|\n",
      "|  3|  0|\n",
      "|  0|  1|\n",
      "|  2|  1|\n",
      "|  3|  1|\n",
      "|  0|  2|\n",
      "|  1|  2|\n",
      "|  3|  2|\n",
      "|  0|  3|\n",
      "|  1|  3|\n",
      "|  2|  3|\n",
      "|  6|  4|\n",
      "|  5|  4|\n",
      "|  6|  5|\n",
      "|  4|  5|\n",
      "|  5|  6|\n",
      "|  4|  6|\n",
      "|  9|  7|\n",
      "|  8|  7|\n",
      "+---+---+\n",
      "only showing top 20 rows\n",
      "\n"
     ]
    },
    {
     "name": "stderr",
     "output_type": "stream",
     "text": [
      "\r",
      "                                                                                \r"
     ]
    }
   ],
   "source": [
    "g.vertices.show()\n",
    "g.edges.show()"
   ]
  },
  {
   "cell_type": "code",
   "execution_count": null,
   "metadata": {},
   "outputs": [],
   "source": []
  },
  {
   "cell_type": "code",
   "execution_count": null,
   "metadata": {},
   "outputs": [],
   "source": []
  },
  {
   "cell_type": "code",
   "execution_count": null,
   "metadata": {},
   "outputs": [],
   "source": []
  },
  {
   "cell_type": "code",
   "execution_count": null,
   "metadata": {},
   "outputs": [],
   "source": []
  },
  {
   "cell_type": "code",
   "execution_count": null,
   "metadata": {},
   "outputs": [],
   "source": []
  },
  {
   "cell_type": "code",
   "execution_count": 6,
   "metadata": {},
   "outputs": [
    {
     "name": "stdout",
     "output_type": "stream",
     "text": [
      "            src     dst\n",
      "0             0       1\n",
      "1             0       2\n",
      "2             0       3\n",
      "3             0       4\n",
      "4             0       5\n",
      "...         ...     ...\n",
      "1234872  262110  262099\n",
      "1234873  262110  262100\n",
      "1234874  262110  262101\n",
      "1234875  262110  262106\n",
      "1234876  262110  262107\n",
      "\n",
      "[1234877 rows x 2 columns]\n",
      "            id  ansi  title  group  salesrank  similar  categories  reviews\n",
      "0            0   NaN    NaN    NaN        NaN      NaN         NaN      NaN\n",
      "1            1   NaN    NaN    NaN        NaN      NaN         NaN      NaN\n",
      "2            2   NaN    NaN    NaN        NaN      NaN         NaN      NaN\n",
      "3            3   NaN    NaN    NaN        NaN      NaN         NaN      NaN\n",
      "4            4   NaN    NaN    NaN        NaN      NaN         NaN      NaN\n",
      "...        ...   ...    ...    ...        ...      ...         ...      ...\n",
      "262106  262106   NaN    NaN    NaN        NaN      NaN         NaN      NaN\n",
      "262107  262107   NaN    NaN    NaN        NaN      NaN         NaN      NaN\n",
      "262108  262108   NaN    NaN    NaN        NaN      NaN         NaN      NaN\n",
      "262109  262109   NaN    NaN    NaN        NaN      NaN         NaN      NaN\n",
      "262110  262110   NaN    NaN    NaN        NaN      NaN         NaN      NaN\n",
      "\n",
      "[262111 rows x 8 columns]\n"
     ]
    }
   ],
   "source": [
    "print(df_edges)\n",
    "print(df_vertices)"
   ]
  },
  {
   "cell_type": "code",
   "execution_count": 7,
   "metadata": {},
   "outputs": [],
   "source": [
    "vertices = spark.createDataFrame(df_vertices, list(df_vertices.columns.values))\n",
    "edges = spark.createDataFrame(df_edges, list(df_edges.columns.values))\n",
    "g = GraphFrame(vertices, edges)"
   ]
  },
  {
   "cell_type": "code",
   "execution_count": 8,
   "metadata": {},
   "outputs": [
    {
     "name": "stderr",
     "output_type": "stream",
     "text": [
      "21/10/20 21:40:28 WARN TaskSetManager: Stage 0 contains a task of very large size (2213 KiB). The maximum recommended task size is 1000 KiB.\n",
      "21/10/20 21:40:29 WARN TaskSetManager: Stage 1 contains a task of very large size (1204 KiB). The maximum recommended task size is 1000 KiB.\n"
     ]
    },
    {
     "name": "stdout",
     "output_type": "stream",
     "text": [
      "+---+----+-----+-----+---------+-------+----------+-------+\n",
      "| id|ansi|title|group|salesrank|similar|categories|reviews|\n",
      "+---+----+-----+-----+---------+-------+----------+-------+\n",
      "|  0| NaN|  NaN|  NaN|      NaN|    NaN|       NaN|    NaN|\n",
      "|  1| NaN|  NaN|  NaN|      NaN|    NaN|       NaN|    NaN|\n",
      "|  2| NaN|  NaN|  NaN|      NaN|    NaN|       NaN|    NaN|\n",
      "|  3| NaN|  NaN|  NaN|      NaN|    NaN|       NaN|    NaN|\n",
      "|  4| NaN|  NaN|  NaN|      NaN|    NaN|       NaN|    NaN|\n",
      "|  5| NaN|  NaN|  NaN|      NaN|    NaN|       NaN|    NaN|\n",
      "|  6| NaN|  NaN|  NaN|      NaN|    NaN|       NaN|    NaN|\n",
      "|  7| NaN|  NaN|  NaN|      NaN|    NaN|       NaN|    NaN|\n",
      "|  8| NaN|  NaN|  NaN|      NaN|    NaN|       NaN|    NaN|\n",
      "|  9| NaN|  NaN|  NaN|      NaN|    NaN|       NaN|    NaN|\n",
      "| 10| NaN|  NaN|  NaN|      NaN|    NaN|       NaN|    NaN|\n",
      "| 11| NaN|  NaN|  NaN|      NaN|    NaN|       NaN|    NaN|\n",
      "| 12| NaN|  NaN|  NaN|      NaN|    NaN|       NaN|    NaN|\n",
      "| 13| NaN|  NaN|  NaN|      NaN|    NaN|       NaN|    NaN|\n",
      "| 14| NaN|  NaN|  NaN|      NaN|    NaN|       NaN|    NaN|\n",
      "| 15| NaN|  NaN|  NaN|      NaN|    NaN|       NaN|    NaN|\n",
      "| 16| NaN|  NaN|  NaN|      NaN|    NaN|       NaN|    NaN|\n",
      "| 17| NaN|  NaN|  NaN|      NaN|    NaN|       NaN|    NaN|\n",
      "| 18| NaN|  NaN|  NaN|      NaN|    NaN|       NaN|    NaN|\n",
      "| 19| NaN|  NaN|  NaN|      NaN|    NaN|       NaN|    NaN|\n",
      "+---+----+-----+-----+---------+-------+----------+-------+\n",
      "only showing top 20 rows\n",
      "\n",
      "+---+---+\n",
      "|src|dst|\n",
      "+---+---+\n",
      "|  0|  1|\n",
      "|  0|  2|\n",
      "|  0|  3|\n",
      "|  0|  4|\n",
      "|  0|  5|\n",
      "|  1|  0|\n",
      "|  1|  2|\n",
      "|  1|  4|\n",
      "|  1|  5|\n",
      "|  1| 15|\n",
      "|  2|  0|\n",
      "|  2| 11|\n",
      "|  2| 12|\n",
      "|  2| 13|\n",
      "|  2| 14|\n",
      "|  3| 63|\n",
      "|  3| 64|\n",
      "|  3| 65|\n",
      "|  3| 66|\n",
      "|  3| 67|\n",
      "+---+---+\n",
      "only showing top 20 rows\n",
      "\n"
     ]
    }
   ],
   "source": [
    "g.vertices.show()\n",
    "g.edges.show()"
   ]
  },
  {
   "cell_type": "code",
   "execution_count": 9,
   "metadata": {},
   "outputs": [
    {
     "name": "stderr",
     "output_type": "stream",
     "text": [
      "21/10/20 21:40:29 WARN TaskSetManager: Stage 2 contains a task of very large size (2213 KiB). The maximum recommended task size is 1000 KiB.\n"
     ]
    },
    {
     "name": "stdout",
     "output_type": "stream",
     "text": [
      "(262111, 8)\n"
     ]
    },
    {
     "name": "stderr",
     "output_type": "stream",
     "text": [
      "21/10/20 21:40:30 WARN TaskSetManager: Stage 4 contains a task of very large size (1204 KiB). The maximum recommended task size is 1000 KiB.\n"
     ]
    },
    {
     "name": "stdout",
     "output_type": "stream",
     "text": [
      "(1234877, 2)\n"
     ]
    }
   ],
   "source": [
    "print((g.vertices.count(), len(g.vertices.columns)))\n",
    "print((g.edges.count(), len(g.edges.columns)))"
   ]
  },
  {
   "cell_type": "code",
   "execution_count": 10,
   "metadata": {},
   "outputs": [
    {
     "name": "stderr",
     "output_type": "stream",
     "text": [
      "21/10/20 21:40:31 WARN TaskSetManager: Stage 6 contains a task of very large size (1204 KiB). The maximum recommended task size is 1000 KiB.\n",
      "21/10/20 21:40:32 WARN TaskSetManager: Stage 8 contains a task of very large size (1204 KiB). The maximum recommended task size is 1000 KiB.\n"
     ]
    },
    {
     "name": "stdout",
     "output_type": "stream",
     "text": [
      "+----+------+\n",
      "|  id|degree|\n",
      "+----+------+\n",
      "|  26|    17|\n",
      "|  29|    45|\n",
      "| 474|     4|\n",
      "|1677|    13|\n",
      "|1697|     7|\n",
      "| 964|    13|\n",
      "|1806|    18|\n",
      "|1950|     9|\n",
      "|2453|     8|\n",
      "|3091|     8|\n",
      "|2040|     6|\n",
      "|3506|    15|\n",
      "|2214|    24|\n",
      "|2250|     9|\n",
      "|5385|     9|\n",
      "|7225|    13|\n",
      "|2509|     6|\n",
      "|5409|    14|\n",
      "|2529|    18|\n",
      "|2927|     7|\n",
      "+----+------+\n",
      "only showing top 20 rows\n",
      "\n"
     ]
    },
    {
     "name": "stderr",
     "output_type": "stream",
     "text": [
      "\r",
      "[Stage 8:>                                                          (0 + 8) / 8]\r",
      "\r",
      "                                                                                \r"
     ]
    },
    {
     "name": "stdout",
     "output_type": "stream",
     "text": [
      "+----+--------+\n",
      "|  id|inDegree|\n",
      "+----+--------+\n",
      "|  26|      12|\n",
      "|  29|      40|\n",
      "| 474|       4|\n",
      "|1677|       8|\n",
      "|1697|       2|\n",
      "| 964|       8|\n",
      "|1806|      13|\n",
      "|1950|       4|\n",
      "|2453|       3|\n",
      "|3091|       3|\n",
      "|2040|       1|\n",
      "|3506|      10|\n",
      "|2214|      19|\n",
      "|2250|       4|\n",
      "|5385|       4|\n",
      "|7225|       8|\n",
      "|2509|       1|\n",
      "|5409|       9|\n",
      "|2529|      13|\n",
      "|2927|       2|\n",
      "+----+--------+\n",
      "only showing top 20 rows\n",
      "\n"
     ]
    },
    {
     "name": "stderr",
     "output_type": "stream",
     "text": [
      "21/10/20 21:40:33 WARN TaskSetManager: Stage 10 contains a task of very large size (1204 KiB). The maximum recommended task size is 1000 KiB.\n"
     ]
    },
    {
     "name": "stdout",
     "output_type": "stream",
     "text": [
      "+----+---------+\n",
      "|  id|outDegree|\n",
      "+----+---------+\n",
      "|  26|        5|\n",
      "|  29|        5|\n",
      "| 964|        5|\n",
      "|1677|        5|\n",
      "|1697|        5|\n",
      "|1806|        5|\n",
      "|1950|        5|\n",
      "|2040|        5|\n",
      "|2214|        5|\n",
      "|2250|        5|\n",
      "|2453|        5|\n",
      "|2509|        5|\n",
      "|2529|        5|\n",
      "|2927|        5|\n",
      "|3091|        5|\n",
      "|3506|        5|\n",
      "|3764|        5|\n",
      "|4590|        5|\n",
      "|4823|        5|\n",
      "|4894|        5|\n",
      "+----+---------+\n",
      "only showing top 20 rows\n",
      "\n"
     ]
    }
   ],
   "source": [
    "g.degrees.show()\n",
    "g.inDegrees.show()\n",
    "g.outDegrees.show()"
   ]
  },
  {
   "cell_type": "code",
   "execution_count": 11,
   "metadata": {},
   "outputs": [
    {
     "name": "stderr",
     "output_type": "stream",
     "text": [
      "21/10/20 21:40:33 WARN TaskSetManager: Stage 12 contains a task of very large size (1204 KiB). The maximum recommended task size is 1000 KiB.\n"
     ]
    },
    {
     "data": {
      "image/png": "[encoded data removed]",
      "text/plain": [
       "<Figure size 2160x1080 with 1 Axes>"
      ]
     },
     "metadata": {},
     "output_type": "display_data"
    }
   ],
   "source": [
    "def plot_graph(edges, take_n=300):\n",
    "    Gplot=nx.Graph()\n",
    "    for row in edges.select(\"src\", \"dst\").take(take_n):\n",
    "        Gplot.add_edge(row[\"src\"],row[\"dst\"])\n",
    "\n",
    "    plt.figure(figsize=(30,15))\n",
    "    plt.subplot(121)\n",
    "    nx.draw(Gplot, with_labels=True, arrows=True)\n",
    "\n",
    "plot_graph(g.edges, take_n=200)"
   ]
  },
  {
   "cell_type": "code",
   "execution_count": 12,
   "metadata": {},
   "outputs": [
    {
     "name": "stderr",
     "output_type": "stream",
     "text": [
      "21/10/20 21:40:35 WARN TaskSetManager: Stage 13 contains a task of very large size (1204 KiB). The maximum recommended task size is 1000 KiB.\n"
     ]
    },
    {
     "name": "stdout",
     "output_type": "stream",
     "text": [
      "+----+------+\n",
      "|  id|degree|\n",
      "+----+------+\n",
      "|  26|    17|\n",
      "|  29|    45|\n",
      "| 474|     4|\n",
      "|1677|    13|\n",
      "|1697|     7|\n",
      "| 964|    13|\n",
      "|1806|    18|\n",
      "|1950|     9|\n",
      "|2453|     8|\n",
      "|3091|     8|\n",
      "|2040|     6|\n",
      "|3506|    15|\n",
      "|2214|    24|\n",
      "|2250|     9|\n",
      "|5385|     9|\n",
      "|7225|    13|\n",
      "|2509|     6|\n",
      "|5409|    14|\n",
      "|2529|    18|\n",
      "|2927|     7|\n",
      "+----+------+\n",
      "only showing top 20 rows\n",
      "\n"
     ]
    },
    {
     "name": "stderr",
     "output_type": "stream",
     "text": [
      "\r",
      "[Stage 13:>                                                         (0 + 8) / 8]\r",
      "\r",
      "                                                                                \r"
     ]
    }
   ],
   "source": [
    "g.degrees.show()"
   ]
  },
  {
   "cell_type": "code",
   "execution_count": 13,
   "metadata": {},
   "outputs": [
    {
     "name": "stderr",
     "output_type": "stream",
     "text": [
      "21/10/20 21:40:36 WARN TaskSetManager: Stage 15 contains a task of very large size (1204 KiB). The maximum recommended task size is 1000 KiB.\n",
      "21/10/20 21:40:37 WARN TaskSetManager: Stage 17 contains a task of very large size (1204 KiB). The maximum recommended task size is 1000 KiB.\n"
     ]
    },
    {
     "name": "stdout",
     "output_type": "stream",
     "text": [
      "+-----+------+\n",
      "|   id|degree|\n",
      "+-----+------+\n",
      "|14949|   425|\n",
      "| 4429|   409|\n",
      "|   33|   366|\n",
      "|10519|   339|\n",
      "|12771|   335|\n",
      "|    8|   298|\n",
      "|  297|   280|\n",
      "|  481|   280|\n",
      "| 5737|   277|\n",
      "| 9106|   232|\n",
      "| 8939|   226|\n",
      "|   93|   224|\n",
      "| 1241|   223|\n",
      "| 5765|   214|\n",
      "| 2501|   196|\n",
      "|   99|   193|\n",
      "| 3661|   186|\n",
      "| 2353|   184|\n",
      "|  244|   184|\n",
      "|17525|   180|\n",
      "+-----+------+\n",
      "only showing top 20 rows\n",
      "\n"
     ]
    },
    {
     "name": "stderr",
     "output_type": "stream",
     "text": [
      "\r",
      "[Stage 17:=======>                                                  (1 + 7) / 8]\r"
     ]
    },
    {
     "name": "stdout",
     "output_type": "stream",
     "text": [
      "+-----+------+\n",
      "|   id|degree|\n",
      "+-----+------+\n",
      "|14949|   425|\n",
      "| 4429|   409|\n",
      "|   33|   366|\n",
      "|10519|   339|\n",
      "|12771|   335|\n",
      "|    8|   298|\n",
      "|  297|   280|\n",
      "|  481|   280|\n",
      "| 5737|   277|\n",
      "| 9106|   232|\n",
      "| 8939|   226|\n",
      "|   93|   224|\n",
      "| 1241|   223|\n",
      "| 5765|   214|\n",
      "| 2501|   196|\n",
      "|   99|   193|\n",
      "| 3661|   186|\n",
      "| 2353|   184|\n",
      "|  244|   184|\n",
      "|17525|   180|\n",
      "+-----+------+\n",
      "only showing top 20 rows\n",
      "\n"
     ]
    },
    {
     "name": "stderr",
     "output_type": "stream",
     "text": [
      "\r",
      "                                                                                \r"
     ]
    }
   ],
   "source": [
    "from pyspark.sql.functions import desc\n",
    "\n",
    "g.degrees.sort(desc(\"degree\")).show()\n",
    "g.degrees.sort(desc(\"degree\")).show()"
   ]
  },
  {
   "cell_type": "code",
   "execution_count": 69,
   "metadata": {},
   "outputs": [
    {
     "name": "stderr",
     "output_type": "stream",
     "text": [
      "21/10/20 22:19:43 WARN TaskSetManager: Stage 1314 contains a task of very large size (1204 KiB). The maximum recommended task size is 1000 KiB.\n",
      "21/10/20 22:19:44 WARN TaskSetManager: Stage 1315 contains a task of very large size (1204 KiB). The maximum recommended task size is 1000 KiB.\n",
      "21/10/20 22:19:44 WARN TaskSetManager: Stage 1317 contains a task of very large size (1204 KiB). The maximum recommended task size is 1000 KiB.\n",
      "[Stage 1317:==============>                                         (2 + 6) / 8]\r"
     ]
    },
    {
     "name": "stdout",
     "output_type": "stream",
     "text": [
      "+-----+------+--------+---------+\n",
      "|   id|degree|inDegree|outDegree|\n",
      "+-----+------+--------+---------+\n",
      "|14949|   425|     420|        5|\n",
      "| 4429|   409|     404|        5|\n",
      "|   33|   366|     361|        5|\n",
      "|10519|   339|     334|        5|\n",
      "|12771|   335|     330|        5|\n",
      "|    8|   298|     293|        5|\n",
      "|  297|   280|     280|        0|\n",
      "|  481|   280|     275|        5|\n",
      "| 5737|   277|     272|        5|\n",
      "| 9106|   232|     227|        5|\n",
      "| 8939|   226|     221|        5|\n",
      "|   93|   224|     219|        5|\n",
      "| 1241|   223|     218|        5|\n",
      "| 5765|   214|     209|        5|\n",
      "| 2501|   196|     191|        5|\n",
      "|   99|   193|     188|        5|\n",
      "| 3661|   186|     181|        5|\n",
      "|  244|   184|     179|        5|\n",
      "| 2353|   184|     179|        5|\n",
      "|17525|   180|     175|        5|\n",
      "+-----+------+--------+---------+\n",
      "only showing top 20 rows\n",
      "\n"
     ]
    },
    {
     "name": "stderr",
     "output_type": "stream",
     "text": [
      "\r",
      "                                                                                \r"
     ]
    }
   ],
   "source": [
    "degrees_df = \\\n",
    "    g.degrees.\\\n",
    "    join(g.inDegrees, g.degrees[\"id\"] == g.inDegrees[\"id\"], \"outer\").\\\n",
    "    join(g.outDegrees, g.degrees[\"id\"] == g.outDegrees[\"id\"], \"outer\").\\\n",
    "    drop(g.outDegrees.id).\\\n",
    "    drop(g.inDegrees.id).\\\n",
    "    na.fill(0)\n",
    "\n",
    "degrees_df.sort(desc(\"degree\")).show()"
   ]
  },
  {
   "cell_type": "code",
   "execution_count": 70,
   "metadata": {},
   "outputs": [
    {
     "name": "stderr",
     "output_type": "stream",
     "text": [
      "21/10/20 22:19:49 WARN TaskSetManager: Stage 1319 contains a task of very large size (1204 KiB). The maximum recommended task size is 1000 KiB.\n",
      "21/10/20 22:19:49 WARN TaskSetManager: Stage 1320 contains a task of very large size (1204 KiB). The maximum recommended task size is 1000 KiB.\n",
      "21/10/20 22:19:50 WARN TaskSetManager: Stage 1322 contains a task of very large size (1204 KiB). The maximum recommended task size is 1000 KiB.\n",
      "21/10/20 22:19:52 WARN TaskSetManager: Stage 1324 contains a task of very large size (1204 KiB). The maximum recommended task size is 1000 KiB.\n",
      "21/10/20 22:19:52 WARN TaskSetManager: Stage 1325 contains a task of very large size (1204 KiB). The maximum recommended task size is 1000 KiB.\n",
      "21/10/20 22:19:53 WARN TaskSetManager: Stage 1327 contains a task of very large size (1204 KiB). The maximum recommended task size is 1000 KiB.\n",
      "21/10/20 22:19:55 WARN TaskSetManager: Stage 1329 contains a task of very large size (1204 KiB). The maximum recommended task size is 1000 KiB.\n",
      "21/10/20 22:19:56 WARN TaskSetManager: Stage 1330 contains a task of very large size (1204 KiB). The maximum recommended task size is 1000 KiB.\n",
      "21/10/20 22:19:56 WARN TaskSetManager: Stage 1331 contains a task of very large size (1204 KiB). The maximum recommended task size is 1000 KiB.\n",
      "                                                                                \r"
     ]
    }
   ],
   "source": [
    "degrees_list = [int(d.degree) for d in degrees_df.select('degree').collect()]\n",
    "in_degree_list = [int(d.inDegree) for d in degrees_df.select('inDegree').collect()]\n",
    "out_degree_list = [int(d.outDegree) for d in degrees_df.select('outDegree').collect()]"
   ]
  },
  {
   "cell_type": "code",
   "execution_count": 87,
   "metadata": {},
   "outputs": [],
   "source": [
    "def plot_n_nodes_vs_degree(x, n_bins, x_step, yscale, ylabel, xlabel, title, save_path=None):\n",
    "    plt.figure(figsize=(10, 5))\n",
    "    plt.hist(x, bins=n_bins)\n",
    "    assert yscale in [\"log\", \"linear\"]\n",
    "    plt.yscale(yscale)\n",
    "    plt.grid(\"on\")\n",
    "    plt.xticks(np.arange(min(x)-1, max(x)+x_step, x_step))\n",
    "    plt.ylabel(ylabel)\n",
    "    plt.xlabel(xlabel)\n",
    "    plt.title(title)\n",
    "    \n",
    "    if save_path is not None:\n",
    "        plt.savefig(save_path)\n",
    "    else:\n",
    "        pass\n",
    "    \n",
    "    plt.show()"
   ]
  },
  {
   "cell_type": "code",
   "execution_count": 89,
   "metadata": {},
   "outputs": [
    {
     "data": {
      "image/png": "[encoded data removed]",
      "text/plain": [
       "<Figure size 720x360 with 1 Axes>"
      ]
     },
     "metadata": {
      "needs_background": "light"
     },
     "output_type": "display_data"
    }
   ],
   "source": [
    "x = degrees_list\n",
    "n_bins = 200\n",
    "x_step = 20\n",
    "yscale = \"log\"\n",
    "ylabel = \"Number of Nodes on log-scale [unit]\"\n",
    "xlabel = \"Node Degree [unit]\"\n",
    "title = \"Number of Nodes vs. Node Degree\"\n",
    "save_path = \"assets/n_nodes_vs_degree.png\"\n",
    "\n",
    "plot_n_nodes_vs_degree(\n",
    "    x=x, \n",
    "    n_bins=n_bins, \n",
    "    x_step=x_step,\n",
    "    yscale=yscale,\n",
    "    ylabel=ylabel, \n",
    "    xlabel=xlabel, \n",
    "    title=title, \n",
    "    save_path=save_path)"
   ]
  },
  {
   "cell_type": "code",
   "execution_count": 90,
   "metadata": {},
   "outputs": [
    {
     "data": {
      "image/png": "[encoded data removed]",
      "text/plain": [
       "<Figure size 720x360 with 1 Axes>"
      ]
     },
     "metadata": {
      "needs_background": "light"
     },
     "output_type": "display_data"
    }
   ],
   "source": [
    "x = in_degree_list\n",
    "n_bins = 200\n",
    "x_step = 20\n",
    "yscale = \"log\"\n",
    "ylabel = \"Number of Nodes on log-scale [unit]\"\n",
    "xlabel = \"Node In-Degree [unit]\"\n",
    "title = \"Number of Nodes vs. Node In-Degree\"\n",
    "save_path = \"assets/n_nodes_vs_in_degree.png\"\n",
    "\n",
    "plot_n_nodes_vs_degree(\n",
    "    x=x, \n",
    "    n_bins=n_bins, \n",
    "    x_step=x_step,\n",
    "    yscale=yscale,\n",
    "    ylabel=ylabel, \n",
    "    xlabel=xlabel, \n",
    "    title=title, \n",
    "    save_path=save_path)"
   ]
  },
  {
   "cell_type": "code",
   "execution_count": 93,
   "metadata": {},
   "outputs": [
    {
     "data": {
      "image/png": "[encoded data removed]",
      "text/plain": [
       "<Figure size 720x360 with 1 Axes>"
      ]
     },
     "metadata": {
      "needs_background": "light"
     },
     "output_type": "display_data"
    }
   ],
   "source": [
    "x = out_degree_list\n",
    "n_bins = 20\n",
    "x_step = 1\n",
    "yscale = \"linear\"\n",
    "ylabel = \"Number of Nodes on log-scale [unit]\"\n",
    "xlabel = \"Node Out-Degree [unit]\"\n",
    "title = \"Number of Nodes vs. Node Out-Degree\"\n",
    "save_path = \"assets/n_nodes_vs_out_degree.png\"\n",
    "\n",
    "plot_n_nodes_vs_degree(\n",
    "    x=x, \n",
    "    n_bins=n_bins, \n",
    "    x_step=x_step,\n",
    "    yscale=yscale,\n",
    "    ylabel=ylabel, \n",
    "    xlabel=xlabel, \n",
    "    title=title, \n",
    "    save_path=save_path)"
   ]
  },
  {
   "cell_type": "code",
   "execution_count": null,
   "metadata": {},
   "outputs": [],
   "source": []
  },
  {
   "cell_type": "code",
   "execution_count": 15,
   "metadata": {},
   "outputs": [
    {
     "name": "stderr",
     "output_type": "stream",
     "text": [
      "21/10/20 21:40:43 WARN TaskSetManager: Stage 24 contains a task of very large size (1204 KiB). The maximum recommended task size is 1000 KiB.\n",
      "21/10/20 21:40:44 WARN TaskSetManager: Stage 25 contains a task of very large size (1204 KiB). The maximum recommended task size is 1000 KiB.\n",
      "21/10/20 21:40:44 WARN TaskSetManager: Stage 26 contains a task of very large size (2213 KiB). The maximum recommended task size is 1000 KiB.\n",
      "21/10/20 21:40:45 WARN TaskSetManager: Stage 28 contains a task of very large size (2213 KiB). The maximum recommended task size is 1000 KiB.\n",
      "[Stage 29:==================================================>   (186 + 8) / 200]\r"
     ]
    },
    {
     "name": "stdout",
     "output_type": "stream",
     "text": [
      "+--------------------+------------+--------------------+------------+\n",
      "|                   a|           e|                   b|          e2|\n",
      "+--------------------+------------+--------------------+------------+\n",
      "|{19, NaN, NaN, Na...|     {19, 4}|{4, NaN, NaN, NaN...|     {4, 19}|\n",
      "|{96, NaN, NaN, Na...|    {96, 56}|{56, NaN, NaN, Na...|    {56, 96}|\n",
      "|{90, NaN, NaN, Na...|   {90, 172}|{172, NaN, NaN, N...|   {172, 90}|\n",
      "|{198, NaN, NaN, N...|  {198, 232}|{232, NaN, NaN, N...|  {232, 198}|\n",
      "|{266, NaN, NaN, N...|  {266, 267}|{267, NaN, NaN, N...|  {267, 266}|\n",
      "|{1187, NaN, NaN, ...| {1187, 453}|{453, NaN, NaN, N...| {453, 1187}|\n",
      "|{1690, NaN, NaN, ...| {1690, 511}|{511, NaN, NaN, N...| {511, 1690}|\n",
      "|{166, NaN, NaN, N...|  {166, 619}|{619, NaN, NaN, N...|  {619, 166}|\n",
      "|{560, NaN, NaN, N...|  {560, 814}|{814, NaN, NaN, N...|  {814, 560}|\n",
      "|{1796, NaN, NaN, ...| {1796, 849}|{849, NaN, NaN, N...| {849, 1796}|\n",
      "|{1385, NaN, NaN, ...| {1385, 953}|{953, NaN, NaN, N...| {953, 1385}|\n",
      "|{2637, NaN, NaN, ...| {2637, 967}|{967, NaN, NaN, N...| {967, 2637}|\n",
      "|{654, NaN, NaN, N...| {654, 1267}|{1267, NaN, NaN, ...| {1267, 654}|\n",
      "|{1178, NaN, NaN, ...|{1178, 1313}|{1313, NaN, NaN, ...|{1313, 1178}|\n",
      "|{874, NaN, NaN, N...| {874, 1347}|{1347, NaN, NaN, ...| {1347, 874}|\n",
      "|{942, NaN, NaN, N...| {942, 1384}|{1384, NaN, NaN, ...| {1384, 942}|\n",
      "|{1126, NaN, NaN, ...|{1126, 1457}|{1457, NaN, NaN, ...|{1457, 1126}|\n",
      "|{1171, NaN, NaN, ...|{1171, 1475}|{1475, NaN, NaN, ...|{1475, 1171}|\n",
      "|{5280, NaN, NaN, ...|{5280, 1558}|{1558, NaN, NaN, ...|{1558, 5280}|\n",
      "|{2488, NaN, NaN, ...|{2488, 1563}|{1563, NaN, NaN, ...|{1563, 2488}|\n",
      "+--------------------+------------+--------------------+------------+\n",
      "only showing top 20 rows\n",
      "\n"
     ]
    },
    {
     "name": "stderr",
     "output_type": "stream",
     "text": [
      "\r",
      "                                                                                \r"
     ]
    }
   ],
   "source": [
    "motifs = g.find(\"(a)-[e]->(b); (b)-[e2]->(a)\")\n",
    "motifs.show()"
   ]
  },
  {
   "cell_type": "code",
   "execution_count": 16,
   "metadata": {},
   "outputs": [
    {
     "name": "stderr",
     "output_type": "stream",
     "text": [
      "21/10/20 21:40:51 WARN TaskSetManager: Stage 40 contains a task of very large size (1204 KiB). The maximum recommended task size is 1000 KiB.\n",
      "21/10/20 21:40:51 WARN TaskSetManager: Stage 31 contains a task of very large size (1204 KiB). The maximum recommended task size is 1000 KiB.\n",
      "21/10/20 21:40:52 WARN TaskSetManager: Stage 32 contains a task of very large size (2213 KiB). The maximum recommended task size is 1000 KiB.\n",
      "21/10/20 21:40:52 WARN TaskSetManager: Stage 34 contains a task of very large size (2213 KiB). The maximum recommended task size is 1000 KiB.\n",
      "21/10/20 21:40:55 WARN TaskSetManager: Stage 35 contains a task of very large size (1204 KiB). The maximum recommended task size is 1000 KiB.\n",
      "21/10/20 21:40:55 WARN TaskSetManager: Stage 36 contains a task of very large size (2213 KiB). The maximum recommended task size is 1000 KiB.\n",
      "21/10/20 21:40:59 WARN TaskSetManager: Stage 39 contains a task of very large size (1204 KiB). The maximum recommended task size is 1000 KiB.\n",
      "[Stage 42:====================================================> (193 + 7) / 200]\r"
     ]
    },
    {
     "name": "stdout",
     "output_type": "stream",
     "text": [
      "+--------------------+--------------------+--------------------+\n",
      "|                   a|              mutual|                   c|\n",
      "+--------------------+--------------------+--------------------+\n",
      "|{90, NaN, NaN, Na...|{172, NaN, NaN, N...|{173, NaN, NaN, N...|\n",
      "|{3576, NaN, NaN, ...|{3579, NaN, NaN, ...|{3577, NaN, NaN, ...|\n",
      "|{14283, NaN, NaN,...|{8522, NaN, NaN, ...|{14284, NaN, NaN,...|\n",
      "|{10251, NaN, NaN,...|{10253, NaN, NaN,...|{14672, NaN, NaN,...|\n",
      "|{15564, NaN, NaN,...|{15272, NaN, NaN,...|{9720, NaN, NaN, ...|\n",
      "|{21344, NaN, NaN,...|{26545, NaN, NaN,...|{21344, NaN, NaN,...|\n",
      "|{12945, NaN, NaN,...|{29991, NaN, NaN,...|{44186, NaN, NaN,...|\n",
      "|{36725, NaN, NaN,...|{36723, NaN, NaN,...|{36724, NaN, NaN,...|\n",
      "|{41900, NaN, NaN,...|{41898, NaN, NaN,...|{22791, NaN, NaN,...|\n",
      "|{62582, NaN, NaN,...|{42039, NaN, NaN,...|{62584, NaN, NaN,...|\n",
      "|{44889, NaN, NaN,...|{47156, NaN, NaN,...|{71599, NaN, NaN,...|\n",
      "|{47944, NaN, NaN,...|{47946, NaN, NaN,...|{48812, NaN, NaN,...|\n",
      "|{39450, NaN, NaN,...|{48411, NaN, NaN,...|{51740, NaN, NaN,...|\n",
      "|{60677, NaN, NaN,...|{48966, NaN, NaN,...|{60677, NaN, NaN,...|\n",
      "|{42649, NaN, NaN,...|{49038, NaN, NaN,...|{49039, NaN, NaN,...|\n",
      "|{54783, NaN, NaN,...|{54194, NaN, NaN,...|{54784, NaN, NaN,...|\n",
      "|{54379, NaN, NaN,...|{54380, NaN, NaN,...|{58619, NaN, NaN,...|\n",
      "|{52502, NaN, NaN,...|{56055, NaN, NaN,...|{52502, NaN, NaN,...|\n",
      "|{55271, NaN, NaN,...|{58637, NaN, NaN,...|{91683, NaN, NaN,...|\n",
      "|{100416, NaN, NaN...|{72028, NaN, NaN,...|{100416, NaN, NaN...|\n",
      "+--------------------+--------------------+--------------------+\n",
      "only showing top 20 rows\n",
      "\n"
     ]
    },
    {
     "name": "stderr",
     "output_type": "stream",
     "text": [
      "\r",
      "                                                                                \r"
     ]
    }
   ],
   "source": [
    "# b is mutually copurchased with a and c\n",
    "mutually_copurchased_products_df = g.find(\"(a)-[]->(mutual); (mutual)-[]->(c); (c)-[]->(mutual); (mutual)-[]->(a)\").dropDuplicates()\n",
    "mutually_copurchased_products_df.show()"
   ]
  },
  {
   "cell_type": "code",
   "execution_count": 17,
   "metadata": {},
   "outputs": [
    {
     "name": "stderr",
     "output_type": "stream",
     "text": [
      "21/10/20 21:41:14 WARN TaskSetManager: Stage 44 contains a task of very large size (2213 KiB). The maximum recommended task size is 1000 KiB.\n",
      "21/10/20 21:41:15 WARN TaskSetManager: Stage 45 contains a task of very large size (1204 KiB). The maximum recommended task size is 1000 KiB.\n",
      "21/10/20 21:41:16 WARN TaskSetManager: Stage 46 contains a task of very large size (2213 KiB). The maximum recommended task size is 1000 KiB.\n",
      "21/10/20 21:41:16 WARN TaskSetManager: Stage 49 contains a task of very large size (2213 KiB). The maximum recommended task size is 1000 KiB.\n",
      "21/10/20 21:41:22 WARN TaskSetManager: Stage 51 contains a task of very large size (2213 KiB). The maximum recommended task size is 1000 KiB.\n",
      "21/10/20 21:41:25 WARN TaskSetManager: Stage 53 contains a task of very large size (1204 KiB). The maximum recommended task size is 1000 KiB.\n",
      "[Stage 56:===================================================>  (191 + 8) / 200]\r"
     ]
    },
    {
     "name": "stdout",
     "output_type": "stream",
     "text": [
      "+-----+----+----+-----+-----+---------+-------+----------+-------+\n",
      "|count|  id|ansi|title|group|salesrank|similar|categories|reviews|\n",
      "+-----+----+----+-----+-----+---------+-------+----------+-------+\n",
      "|   19|  26| NaN|  NaN|  NaN|      NaN|    NaN|       NaN|    NaN|\n",
      "|   48|  29| NaN|  NaN|  NaN|      NaN|    NaN|       NaN|    NaN|\n",
      "|    0| 474| NaN|  NaN|  NaN|      NaN|    NaN|       NaN|    NaN|\n",
      "|    2| 964| NaN|  NaN|  NaN|      NaN|    NaN|       NaN|    NaN|\n",
      "|   17|1677| NaN|  NaN|  NaN|      NaN|    NaN|       NaN|    NaN|\n",
      "|    1|1697| NaN|  NaN|  NaN|      NaN|    NaN|       NaN|    NaN|\n",
      "|   24|1806| NaN|  NaN|  NaN|      NaN|    NaN|       NaN|    NaN|\n",
      "|   10|1950| NaN|  NaN|  NaN|      NaN|    NaN|       NaN|    NaN|\n",
      "|    6|2040| NaN|  NaN|  NaN|      NaN|    NaN|       NaN|    NaN|\n",
      "|   21|2214| NaN|  NaN|  NaN|      NaN|    NaN|       NaN|    NaN|\n",
      "|    6|2250| NaN|  NaN|  NaN|      NaN|    NaN|       NaN|    NaN|\n",
      "|    3|2453| NaN|  NaN|  NaN|      NaN|    NaN|       NaN|    NaN|\n",
      "|    4|2509| NaN|  NaN|  NaN|      NaN|    NaN|       NaN|    NaN|\n",
      "|   23|2529| NaN|  NaN|  NaN|      NaN|    NaN|       NaN|    NaN|\n",
      "|    4|2927| NaN|  NaN|  NaN|      NaN|    NaN|       NaN|    NaN|\n",
      "|    4|3091| NaN|  NaN|  NaN|      NaN|    NaN|       NaN|    NaN|\n",
      "|   22|3506| NaN|  NaN|  NaN|      NaN|    NaN|       NaN|    NaN|\n",
      "|   21|3764| NaN|  NaN|  NaN|      NaN|    NaN|       NaN|    NaN|\n",
      "|    5|4590| NaN|  NaN|  NaN|      NaN|    NaN|       NaN|    NaN|\n",
      "|    1|4823| NaN|  NaN|  NaN|      NaN|    NaN|       NaN|    NaN|\n",
      "+-----+----+----+-----+-----+---------+-------+----------+-------+\n",
      "only showing top 20 rows\n",
      "\n"
     ]
    },
    {
     "name": "stderr",
     "output_type": "stream",
     "text": [
      "\r",
      "                                                                                \r"
     ]
    }
   ],
   "source": [
    "g.triangleCount().show()"
   ]
  },
  {
   "cell_type": "code",
   "execution_count": 24,
   "metadata": {},
   "outputs": [
    {
     "name": "stderr",
     "output_type": "stream",
     "text": [
      "21/10/20 21:44:15 WARN TaskSetManager: Stage 538 contains a task of very large size (1204 KiB). The maximum recommended task size is 1000 KiB.\n",
      "21/10/20 21:44:16 WARN TaskSetManager: Stage 540 contains a task of very large size (1264 KiB). The maximum recommended task size is 1000 KiB.\n",
      "21/10/20 21:44:17 WARN TaskSetManager: Stage 548 contains a task of very large size (1204 KiB). The maximum recommended task size is 1000 KiB.\n",
      "21/10/20 21:44:17 WARN TaskSetManager: Stage 550 contains a task of very large size (1204 KiB). The maximum recommended task size is 1000 KiB.\n",
      "21/10/20 21:44:17 WARN TaskSetManager: Stage 560 contains a task of very large size (1204 KiB). The maximum recommended task size is 1000 KiB.\n",
      "21/10/20 21:44:17 WARN TaskSetManager: Stage 562 contains a task of very large size (1204 KiB). The maximum recommended task size is 1000 KiB.\n",
      "21/10/20 21:44:18 WARN TaskSetManager: Stage 574 contains a task of very large size (1204 KiB). The maximum recommended task size is 1000 KiB.\n",
      "21/10/20 21:44:18 WARN TaskSetManager: Stage 576 contains a task of very large size (1204 KiB). The maximum recommended task size is 1000 KiB.\n",
      "21/10/20 21:44:18 WARN TaskSetManager: Stage 590 contains a task of very large size (1204 KiB). The maximum recommended task size is 1000 KiB.\n",
      "21/10/20 21:44:18 WARN TaskSetManager: Stage 592 contains a task of very large size (1204 KiB). The maximum recommended task size is 1000 KiB.\n",
      "21/10/20 21:44:18 WARN TaskSetManager: Stage 608 contains a task of very large size (1204 KiB). The maximum recommended task size is 1000 KiB.\n",
      "21/10/20 21:44:18 WARN TaskSetManager: Stage 610 contains a task of very large size (1204 KiB). The maximum recommended task size is 1000 KiB.\n",
      "21/10/20 21:44:18 WARN TaskSetManager: Stage 628 contains a task of very large size (1204 KiB). The maximum recommended task size is 1000 KiB.\n",
      "21/10/20 21:44:19 WARN TaskSetManager: Stage 630 contains a task of very large size (1204 KiB). The maximum recommended task size is 1000 KiB.\n",
      "21/10/20 21:44:19 WARN TaskSetManager: Stage 650 contains a task of very large size (1204 KiB). The maximum recommended task size is 1000 KiB.\n",
      "21/10/20 21:44:19 WARN TaskSetManager: Stage 652 contains a task of very large size (1204 KiB). The maximum recommended task size is 1000 KiB.\n",
      "21/10/20 21:44:19 WARN TaskSetManager: Stage 674 contains a task of very large size (1204 KiB). The maximum recommended task size is 1000 KiB.\n",
      "21/10/20 21:44:19 WARN TaskSetManager: Stage 676 contains a task of very large size (1204 KiB). The maximum recommended task size is 1000 KiB.\n",
      "21/10/20 21:44:19 WARN TaskSetManager: Stage 700 contains a task of very large size (1204 KiB). The maximum recommended task size is 1000 KiB.\n",
      "21/10/20 21:44:19 WARN TaskSetManager: Stage 702 contains a task of very large size (1204 KiB). The maximum recommended task size is 1000 KiB.\n",
      "21/10/20 21:44:20 WARN TaskSetManager: Stage 778 contains a task of very large size (2213 KiB). The maximum recommended task size is 1000 KiB.\n"
     ]
    },
    {
     "name": "stdout",
     "output_type": "stream",
     "text": [
      "+----+----+-----+-----+---------+-------+----------+-------+------------------+\n",
      "|  id|ansi|title|group|salesrank|similar|categories|reviews|          pagerank|\n",
      "+----+----+-----+-----+---------+-------+----------+-------+------------------+\n",
      "|  33| NaN|  NaN|  NaN|      NaN|    NaN|       NaN|    NaN| 303.5811108728527|\n",
      "|  93| NaN|  NaN|  NaN|      NaN|    NaN|       NaN|    NaN|269.32783595836077|\n",
      "|   8| NaN|  NaN|  NaN|      NaN|    NaN|       NaN|    NaN|225.82631824787086|\n",
      "|  94| NaN|  NaN|  NaN|      NaN|    NaN|       NaN|    NaN|219.03048375620506|\n",
      "|2501| NaN|  NaN|  NaN|      NaN|    NaN|       NaN|    NaN|211.37991673952982|\n",
      "|4429| NaN|  NaN|  NaN|      NaN|    NaN|       NaN|    NaN| 202.6390828910253|\n",
      "|  56| NaN|  NaN|  NaN|      NaN|    NaN|       NaN|    NaN|190.22280992057935|\n",
      "|  95| NaN|  NaN|  NaN|      NaN|    NaN|       NaN|    NaN|187.62095486637563|\n",
      "| 151| NaN|  NaN|  NaN|      NaN|    NaN|       NaN|    NaN| 182.9410781635184|\n",
      "|2353| NaN|  NaN|  NaN|      NaN|    NaN|       NaN|    NaN|166.59436027895435|\n",
      "|  23| NaN|  NaN|  NaN|      NaN|    NaN|       NaN|    NaN| 141.1937972954095|\n",
      "| 429| NaN|  NaN|  NaN|      NaN|    NaN|       NaN|    NaN|136.91752184072266|\n",
      "|9106| NaN|  NaN|  NaN|      NaN|    NaN|       NaN|    NaN|  136.100952768534|\n",
      "|1241| NaN|  NaN|  NaN|      NaN|    NaN|       NaN|    NaN|125.14969795280267|\n",
      "|3589| NaN|  NaN|  NaN|      NaN|    NaN|       NaN|    NaN|124.73402159816523|\n",
      "| 481| NaN|  NaN|  NaN|      NaN|    NaN|       NaN|    NaN|118.91234729006989|\n",
      "| 449| NaN|  NaN|  NaN|      NaN|    NaN|       NaN|    NaN|113.58967789206963|\n",
      "|  21| NaN|  NaN|  NaN|      NaN|    NaN|       NaN|    NaN|105.38506746272748|\n",
      "|8458| NaN|  NaN|  NaN|      NaN|    NaN|       NaN|    NaN|101.75832955290309|\n",
      "|  13| NaN|  NaN|  NaN|      NaN|    NaN|       NaN|    NaN|100.94588926208891|\n",
      "+----+----+-----+-----+---------+-------+----------+-------+------------------+\n",
      "only showing top 20 rows\n",
      "\n"
     ]
    }
   ],
   "source": [
    "pr = g.pageRank(resetProbability=0.15, maxIter=10)\n",
    "## look at the pagerank score for every vertex\n",
    "#pr.vertices.show()\n",
    "## look at the weight of every edge\n",
    "#pr.edges.show()\n",
    "## pagrank descending\n",
    "pr.vertices.orderBy(\"pagerank\", ascending=False).show()"
   ]
  },
  {
   "cell_type": "code",
   "execution_count": 27,
   "metadata": {},
   "outputs": [
    {
     "name": "stderr",
     "output_type": "stream",
     "text": [
      "21/10/20 21:45:19 WARN TaskSetManager: Stage 784 contains a task of very large size (1204 KiB). The maximum recommended task size is 1000 KiB.\n",
      "21/10/20 21:45:20 WARN MemoryStore: Not enough space to cache rdd_947_5 in memory! (computed 5.6 MiB so far)\n",
      "21/10/20 21:45:20 WARN BlockManager: Block rdd_947_5 could not be removed as it was not found on disk or in memory\n",
      "21/10/20 21:45:20 WARN BlockManager: Putting block rdd_947_5 failed\n",
      "21/10/20 21:45:20 WARN MemoryStore: Not enough space to cache rdd_947_7 in memory! (computed 5.3 MiB so far)\n",
      "21/10/20 21:45:20 WARN BlockManager: Block rdd_947_7 could not be removed as it was not found on disk or in memory\n",
      "21/10/20 21:45:20 WARN BlockManager: Putting block rdd_947_7 failed\n",
      "21/10/20 21:45:20 WARN MemoryStore: Not enough space to cache rdd_947_2 in memory! (computed 5.5 MiB so far)\n",
      "21/10/20 21:45:20 WARN BlockManager: Block rdd_947_2 could not be removed as it was not found on disk or in memory\n",
      "21/10/20 21:45:20 WARN BlockManager: Putting block rdd_947_2 failed\n",
      "21/10/20 21:45:26 WARN TaskSetManager: Stage 793 contains a task of very large size (1204 KiB). The maximum recommended task size is 1000 KiB.\n",
      "21/10/20 21:45:34 WARN TaskSetManager: Stage 801 contains a task of very large size (2213 KiB). The maximum recommended task size is 1000 KiB.\n",
      "[Stage 801:>                                                        (0 + 8) / 8]\r"
     ]
    },
    {
     "name": "stdout",
     "output_type": "stream",
     "text": [
      "+----+----+-----+-----+---------+-------+----------+-------+-----+\n",
      "|  id|ansi|title|group|salesrank|similar|categories|reviews|label|\n",
      "+----+----+-----+-----+---------+-------+----------+-------+-----+\n",
      "|  26| NaN|  NaN|  NaN|      NaN|    NaN|       NaN|    NaN|   11|\n",
      "|  29| NaN|  NaN|  NaN|      NaN|    NaN|       NaN|    NaN|  146|\n",
      "| 474| NaN|  NaN|  NaN|      NaN|    NaN|       NaN|    NaN|14266|\n",
      "| 964| NaN|  NaN|  NaN|      NaN|    NaN|       NaN|    NaN| 2635|\n",
      "|1677| NaN|  NaN|  NaN|      NaN|    NaN|       NaN|    NaN| 4026|\n",
      "|1697| NaN|  NaN|  NaN|      NaN|    NaN|       NaN|    NaN|  319|\n",
      "|1806| NaN|  NaN|  NaN|      NaN|    NaN|       NaN|    NaN| 2601|\n",
      "|1950| NaN|  NaN|  NaN|      NaN|    NaN|       NaN|    NaN| 1207|\n",
      "|2040| NaN|  NaN|  NaN|      NaN|    NaN|       NaN|    NaN| 1776|\n",
      "|2214| NaN|  NaN|  NaN|      NaN|    NaN|       NaN|    NaN| 2111|\n",
      "|2250| NaN|  NaN|  NaN|      NaN|    NaN|       NaN|    NaN|10381|\n",
      "|2453| NaN|  NaN|  NaN|      NaN|    NaN|       NaN|    NaN| 1483|\n",
      "|2509| NaN|  NaN|  NaN|      NaN|    NaN|       NaN|    NaN| 2384|\n",
      "|2529| NaN|  NaN|  NaN|      NaN|    NaN|       NaN|    NaN| 2475|\n",
      "|2927| NaN|  NaN|  NaN|      NaN|    NaN|       NaN|    NaN| 2684|\n",
      "|3091| NaN|  NaN|  NaN|      NaN|    NaN|       NaN|    NaN| 1745|\n",
      "|3506| NaN|  NaN|  NaN|      NaN|    NaN|       NaN|    NaN| 3504|\n",
      "|3764| NaN|  NaN|  NaN|      NaN|    NaN|       NaN|    NaN| 4345|\n",
      "|4590| NaN|  NaN|  NaN|      NaN|    NaN|       NaN|    NaN|16517|\n",
      "|4823| NaN|  NaN|  NaN|      NaN|    NaN|       NaN|    NaN|11659|\n",
      "+----+----+-----+-----+---------+-------+----------+-------+-----+\n",
      "only showing top 20 rows\n",
      "\n"
     ]
    },
    {
     "name": "stderr",
     "output_type": "stream",
     "text": [
      "\r",
      "                                                                                \r"
     ]
    }
   ],
   "source": [
    "communities = g.labelPropagation(maxIter=1)\n",
    "communities.persist().show()"
   ]
  },
  {
   "cell_type": "code",
   "execution_count": 30,
   "metadata": {},
   "outputs": [
    {
     "name": "stderr",
     "output_type": "stream",
     "text": [
      "21/10/20 21:53:56 WARN CacheManager: Asked to cache already cached data.\n",
      "21/10/20 21:53:56 WARN CacheManager: Asked to cache already cached data.\n",
      "21/10/20 21:53:56 WARN CacheManager: Asked to cache already cached data.\n",
      "21/10/20 21:53:56 WARN CacheManager: Asked to cache already cached data.\n",
      "21/10/20 21:53:57 WARN CacheManager: Asked to cache already cached data.\n",
      "21/10/20 21:53:57 WARN CacheManager: Asked to cache already cached data.\n",
      "21/10/20 21:53:57 WARN CacheManager: Asked to cache already cached data.\n",
      "21/10/20 21:53:57 WARN CacheManager: Asked to cache already cached data.\n",
      "                                                                                \r"
     ]
    },
    {
     "name": "stdout",
     "output_type": "stream",
     "text": [
      "+---+----+-----+-----+---------+-------+----------+-------+---------+\n",
      "| id|ansi|title|group|salesrank|similar|categories|reviews|component|\n",
      "+---+----+-----+-----+---------+-------+----------+-------+---------+\n",
      "|  0| NaN|  NaN|  NaN|      NaN|    NaN|       NaN|    NaN|        0|\n",
      "|  1| NaN|  NaN|  NaN|      NaN|    NaN|       NaN|    NaN|        0|\n",
      "|  2| NaN|  NaN|  NaN|      NaN|    NaN|       NaN|    NaN|        0|\n",
      "|  3| NaN|  NaN|  NaN|      NaN|    NaN|       NaN|    NaN|        0|\n",
      "|  4| NaN|  NaN|  NaN|      NaN|    NaN|       NaN|    NaN|        0|\n",
      "|  5| NaN|  NaN|  NaN|      NaN|    NaN|       NaN|    NaN|        0|\n",
      "|  6| NaN|  NaN|  NaN|      NaN|    NaN|       NaN|    NaN|        0|\n",
      "|  7| NaN|  NaN|  NaN|      NaN|    NaN|       NaN|    NaN|        0|\n",
      "|  8| NaN|  NaN|  NaN|      NaN|    NaN|       NaN|    NaN|        0|\n",
      "|  9| NaN|  NaN|  NaN|      NaN|    NaN|       NaN|    NaN|        0|\n",
      "| 10| NaN|  NaN|  NaN|      NaN|    NaN|       NaN|    NaN|        0|\n",
      "| 11| NaN|  NaN|  NaN|      NaN|    NaN|       NaN|    NaN|        0|\n",
      "| 12| NaN|  NaN|  NaN|      NaN|    NaN|       NaN|    NaN|        0|\n",
      "| 13| NaN|  NaN|  NaN|      NaN|    NaN|       NaN|    NaN|        0|\n",
      "| 14| NaN|  NaN|  NaN|      NaN|    NaN|       NaN|    NaN|        0|\n",
      "| 15| NaN|  NaN|  NaN|      NaN|    NaN|       NaN|    NaN|        0|\n",
      "| 16| NaN|  NaN|  NaN|      NaN|    NaN|       NaN|    NaN|        0|\n",
      "| 17| NaN|  NaN|  NaN|      NaN|    NaN|       NaN|    NaN|        0|\n",
      "| 18| NaN|  NaN|  NaN|      NaN|    NaN|       NaN|    NaN|        0|\n",
      "| 19| NaN|  NaN|  NaN|      NaN|    NaN|       NaN|    NaN|        0|\n",
      "+---+----+-----+-----+---------+-------+----------+-------+---------+\n",
      "only showing top 20 rows\n",
      "\n"
     ]
    },
    {
     "name": "stderr",
     "output_type": "stream",
     "text": [
      "21/10/20 21:54:40 WARN TaskSetManager: Stage 1263 contains a task of very large size (2213 KiB). The maximum recommended task size is 1000 KiB.\n"
     ]
    }
   ],
   "source": [
    "#https://stackoverflow.com/questions/62310600/spark-graphframes-label-propagation-vs-strongly-connected-components\n",
    "spark.sparkContext.setCheckpointDir(\"checkpoints\")\n",
    "cc_df = g.connectedComponents()\n",
    "cc_df.show()"
   ]
  },
  {
   "cell_type": "code",
   "execution_count": 37,
   "metadata": {},
   "outputs": [
    {
     "name": "stderr",
     "output_type": "stream",
     "text": [
      "21/10/20 22:00:48 WARN TaskSetManager: Stage 1273 contains a task of very large size (2213 KiB). The maximum recommended task size is 1000 KiB.\n"
     ]
    },
    {
     "name": "stdout",
     "output_type": "stream",
     "text": [
      "+------+----+-----+-----+---------+-------+----------+-------+---------+\n",
      "|    id|ansi|title|group|salesrank|similar|categories|reviews|component|\n",
      "+------+----+-----+-----+---------+-------+----------+-------+---------+\n",
      "|262110| NaN|  NaN|  NaN|      NaN|    NaN|       NaN|    NaN|        0|\n",
      "|262109| NaN|  NaN|  NaN|      NaN|    NaN|       NaN|    NaN|        0|\n",
      "|262108| NaN|  NaN|  NaN|      NaN|    NaN|       NaN|    NaN|        0|\n",
      "|262107| NaN|  NaN|  NaN|      NaN|    NaN|       NaN|    NaN|        0|\n",
      "|262106| NaN|  NaN|  NaN|      NaN|    NaN|       NaN|    NaN|        0|\n",
      "|262105| NaN|  NaN|  NaN|      NaN|    NaN|       NaN|    NaN|        0|\n",
      "|262104| NaN|  NaN|  NaN|      NaN|    NaN|       NaN|    NaN|        0|\n",
      "|262103| NaN|  NaN|  NaN|      NaN|    NaN|       NaN|    NaN|        0|\n",
      "|262102| NaN|  NaN|  NaN|      NaN|    NaN|       NaN|    NaN|        0|\n",
      "|262101| NaN|  NaN|  NaN|      NaN|    NaN|       NaN|    NaN|        0|\n",
      "|262100| NaN|  NaN|  NaN|      NaN|    NaN|       NaN|    NaN|        0|\n",
      "|262099| NaN|  NaN|  NaN|      NaN|    NaN|       NaN|    NaN|        0|\n",
      "|262098| NaN|  NaN|  NaN|      NaN|    NaN|       NaN|    NaN|        0|\n",
      "|262097| NaN|  NaN|  NaN|      NaN|    NaN|       NaN|    NaN|        0|\n",
      "|262096| NaN|  NaN|  NaN|      NaN|    NaN|       NaN|    NaN|        0|\n",
      "|262095| NaN|  NaN|  NaN|      NaN|    NaN|       NaN|    NaN|        0|\n",
      "|262094| NaN|  NaN|  NaN|      NaN|    NaN|       NaN|    NaN|        0|\n",
      "|262093| NaN|  NaN|  NaN|      NaN|    NaN|       NaN|    NaN|        0|\n",
      "|262092| NaN|  NaN|  NaN|      NaN|    NaN|       NaN|    NaN|        0|\n",
      "|262091| NaN|  NaN|  NaN|      NaN|    NaN|       NaN|    NaN|        0|\n",
      "+------+----+-----+-----+---------+-------+----------+-------+---------+\n",
      "only showing top 20 rows\n",
      "\n"
     ]
    }
   ],
   "source": [
    "cc_df.sort(desc(\"id\")).show()"
   ]
  },
  {
   "cell_type": "code",
   "execution_count": null,
   "metadata": {},
   "outputs": [],
   "source": []
  },
  {
   "cell_type": "markdown",
   "metadata": {},
   "source": [
    "Clean up data/"
   ]
  },
  {
   "cell_type": "code",
   "execution_count": null,
   "metadata": {},
   "outputs": [],
   "source": [
    "%%bash\n",
    "file=./data/amazon0302.txt.gz\n",
    "file_txt=./data/amazon0302.txt\n",
    "rm $file\n",
    "rm $file_txt"
   ]
  },
  {
   "cell_type": "code",
   "execution_count": null,
   "metadata": {},
   "outputs": [],
   "source": []
  }
 ],
 "metadata": {
  "kernelspec": {
   "display_name": "Python (Spark)",
   "language": "python",
   "name": "spark-env"
  },
  "language_info": {
   "codemirror_mode": {
    "name": "ipython",
    "version": 3
   },
   "file_extension": ".py",
   "mimetype": "text/x-python",
   "name": "python",
   "nbconvert_exporter": "python",
   "pygments_lexer": "ipython3",
   "version": "3.8.11"
  }
 },
 "nbformat": 4,
 "nbformat_minor": 4
}
